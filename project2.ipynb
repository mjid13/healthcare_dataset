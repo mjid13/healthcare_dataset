{
  "metadata": {
    "kernelspec": {
      "name": "python",
      "display_name": "Python (Pyodide)",
      "language": "python"
    },
    "language_info": {
      "codemirror_mode": {
        "name": "python",
        "version": 3
      },
      "file_extension": ".py",
      "mimetype": "text/x-python",
      "name": "python",
      "nbconvert_exporter": "python",
      "pygments_lexer": "ipython3",
      "version": "3.8"
    },
    "colab": {
      "provenance": []
    }
  },
  "nbformat_minor": 5,
  "nbformat": 4,
  "cells": [
    {
      "id": "bc1e7636-5b9b-4306-80a6-490b3a249a5d",
      "cell_type": "markdown",
      "source": "",
      "metadata": {
        "id": "bc1e7636-5b9b-4306-80a6-490b3a249a5d"
      }
    },
    {
      "id": "d42d5a5e-7241-4e27-84c4-6cb27b63c5f3",
      "cell_type": "markdown",
      "source": "",
      "metadata": {
        "id": "d42d5a5e-7241-4e27-84c4-6cb27b63c5f3"
      }
    },
    {
      "id": "0dee1b53-216f-4676-81c9-95efbca3466a",
      "cell_type": "markdown",
      "source": "# https://www.kaggle.com/datasets/prasad22/healthcare-dataset",
      "metadata": {
        "id": "0dee1b53-216f-4676-81c9-95efbca3466a"
      }
    },
    {
      "id": "81230242-7b49-4f29-a64f-9d3bb7900b4c",
      "cell_type": "code",
      "source": "import pandas as pd\nimport numpy as np",
      "metadata": {
        "id": "81230242-7b49-4f29-a64f-9d3bb7900b4c",
        "trusted": true
      },
      "outputs": [],
      "execution_count": 182
    },
    {
      "id": "2dd5b117-85e3-4e89-aac4-3e777b1d914b",
      "cell_type": "code",
      "source": "health = pd.read_csv(\"healthcare_dataset.csv\")",
      "metadata": {
        "id": "2dd5b117-85e3-4e89-aac4-3e777b1d914b",
        "trusted": true
      },
      "outputs": [],
      "execution_count": 183
    },
    {
      "id": "06d382cb-a9bf-4404-a808-59ab39c1660b",
      "cell_type": "code",
      "source": "health.sample()",
      "metadata": {
        "colab": {
          "base_uri": "https://localhost:8080/",
          "height": 81
        },
        "id": "06d382cb-a9bf-4404-a808-59ab39c1660b",
        "outputId": "649eef4b-129b-4425-fe6c-45e7f4a51fb9",
        "trusted": true
      },
      "outputs": [
        {
          "execution_count": 184,
          "output_type": "execute_result",
          "data": {
            "text/plain": "             Name  Age Gender Blood Type Medical Condition Date of Admission  \\\n4512  Stacy Berry   45   Male         B-          Diabetes        2021-02-11   \n\n                Doctor                      Hospital Insurance Provider  \\\n4512  Christine Dodson  Hendricks, Wilson and Castro           Medicare   \n\n      Billing Amount  Room Number Admission Type Discharge Date Medication  \\\n4512    30669.098837          178         Urgent     2021-02-14    Aspirin   \n\n     Test Results  \n4512       Normal  ",
            "text/html": "<div>\n<style scoped>\n    .dataframe tbody tr th:only-of-type {\n        vertical-align: middle;\n    }\n\n    .dataframe tbody tr th {\n        vertical-align: top;\n    }\n\n    .dataframe thead th {\n        text-align: right;\n    }\n</style>\n<table border=\"1\" class=\"dataframe\">\n  <thead>\n    <tr style=\"text-align: right;\">\n      <th></th>\n      <th>Name</th>\n      <th>Age</th>\n      <th>Gender</th>\n      <th>Blood Type</th>\n      <th>Medical Condition</th>\n      <th>Date of Admission</th>\n      <th>Doctor</th>\n      <th>Hospital</th>\n      <th>Insurance Provider</th>\n      <th>Billing Amount</th>\n      <th>Room Number</th>\n      <th>Admission Type</th>\n      <th>Discharge Date</th>\n      <th>Medication</th>\n      <th>Test Results</th>\n    </tr>\n  </thead>\n  <tbody>\n    <tr>\n      <th>4512</th>\n      <td>Stacy Berry</td>\n      <td>45</td>\n      <td>Male</td>\n      <td>B-</td>\n      <td>Diabetes</td>\n      <td>2021-02-11</td>\n      <td>Christine Dodson</td>\n      <td>Hendricks, Wilson and Castro</td>\n      <td>Medicare</td>\n      <td>30669.098837</td>\n      <td>178</td>\n      <td>Urgent</td>\n      <td>2021-02-14</td>\n      <td>Aspirin</td>\n      <td>Normal</td>\n    </tr>\n  </tbody>\n</table>\n</div>"
          },
          "metadata": {}
        }
      ],
      "execution_count": 184
    },
    {
      "id": "5e6918a7-a15c-4e5e-bd8f-d8c429ddc9ea",
      "cell_type": "code",
      "source": "health.columns",
      "metadata": {
        "colab": {
          "base_uri": "https://localhost:8080/"
        },
        "id": "5e6918a7-a15c-4e5e-bd8f-d8c429ddc9ea",
        "outputId": "4c0a0b4a-9c0f-436a-fae6-93a883bf041c",
        "trusted": true
      },
      "outputs": [
        {
          "execution_count": 185,
          "output_type": "execute_result",
          "data": {
            "text/plain": "Index(['Name', 'Age', 'Gender', 'Blood Type', 'Medical Condition',\n       'Date of Admission', 'Doctor', 'Hospital', 'Insurance Provider',\n       'Billing Amount', 'Room Number', 'Admission Type', 'Discharge Date',\n       'Medication', 'Test Results'],\n      dtype='object')"
          },
          "metadata": {}
        }
      ],
      "execution_count": 185
    },
    {
      "id": "f3614477-bf72-47b4-9b5d-4444df760c68",
      "cell_type": "code",
      "source": "health.head()",
      "metadata": {
        "colab": {
          "base_uri": "https://localhost:8080/",
          "height": 206
        },
        "id": "f3614477-bf72-47b4-9b5d-4444df760c68",
        "outputId": "a03ca10e-9991-475f-abdd-de59c464caec",
        "trusted": true
      },
      "outputs": [
        {
          "execution_count": 186,
          "output_type": "execute_result",
          "data": {
            "text/plain": "                  Name  Age  Gender Blood Type Medical Condition  \\\n0      Tiffany Ramirez   81  Female         O-          Diabetes   \n1          Ruben Burns   35    Male         O+            Asthma   \n2            Chad Byrd   61    Male         B-           Obesity   \n3    Antonio Frederick   49    Male         B-            Asthma   \n4  Mrs. Brandy Flowers   51    Male         O-         Arthritis   \n\n  Date of Admission          Doctor                   Hospital  \\\n0        2022-11-17  Patrick Parker           Wallace-Hamilton   \n1        2023-06-01   Diane Jackson  Burke, Griffin and Cooper   \n2        2019-01-09      Paul Baker                 Walton LLC   \n3        2020-05-02  Brian Chandler                 Garcia Ltd   \n4        2021-07-09  Dustin Griffin    Jones, Brown and Murray   \n\n  Insurance Provider  Billing Amount  Room Number Admission Type  \\\n0           Medicare    37490.983364          146       Elective   \n1   UnitedHealthcare    47304.064845          404      Emergency   \n2           Medicare    36874.896997          292      Emergency   \n3           Medicare    23303.322092          480         Urgent   \n4   UnitedHealthcare    18086.344184          477         Urgent   \n\n  Discharge Date   Medication  Test Results  \n0     2022-12-01      Aspirin  Inconclusive  \n1     2023-06-15      Lipitor        Normal  \n2     2019-02-08      Lipitor        Normal  \n3     2020-05-03   Penicillin      Abnormal  \n4     2021-08-02  Paracetamol        Normal  ",
            "text/html": "<div>\n<style scoped>\n    .dataframe tbody tr th:only-of-type {\n        vertical-align: middle;\n    }\n\n    .dataframe tbody tr th {\n        vertical-align: top;\n    }\n\n    .dataframe thead th {\n        text-align: right;\n    }\n</style>\n<table border=\"1\" class=\"dataframe\">\n  <thead>\n    <tr style=\"text-align: right;\">\n      <th></th>\n      <th>Name</th>\n      <th>Age</th>\n      <th>Gender</th>\n      <th>Blood Type</th>\n      <th>Medical Condition</th>\n      <th>Date of Admission</th>\n      <th>Doctor</th>\n      <th>Hospital</th>\n      <th>Insurance Provider</th>\n      <th>Billing Amount</th>\n      <th>Room Number</th>\n      <th>Admission Type</th>\n      <th>Discharge Date</th>\n      <th>Medication</th>\n      <th>Test Results</th>\n    </tr>\n  </thead>\n  <tbody>\n    <tr>\n      <th>0</th>\n      <td>Tiffany Ramirez</td>\n      <td>81</td>\n      <td>Female</td>\n      <td>O-</td>\n      <td>Diabetes</td>\n      <td>2022-11-17</td>\n      <td>Patrick Parker</td>\n      <td>Wallace-Hamilton</td>\n      <td>Medicare</td>\n      <td>37490.983364</td>\n      <td>146</td>\n      <td>Elective</td>\n      <td>2022-12-01</td>\n      <td>Aspirin</td>\n      <td>Inconclusive</td>\n    </tr>\n    <tr>\n      <th>1</th>\n      <td>Ruben Burns</td>\n      <td>35</td>\n      <td>Male</td>\n      <td>O+</td>\n      <td>Asthma</td>\n      <td>2023-06-01</td>\n      <td>Diane Jackson</td>\n      <td>Burke, Griffin and Cooper</td>\n      <td>UnitedHealthcare</td>\n      <td>47304.064845</td>\n      <td>404</td>\n      <td>Emergency</td>\n      <td>2023-06-15</td>\n      <td>Lipitor</td>\n      <td>Normal</td>\n    </tr>\n    <tr>\n      <th>2</th>\n      <td>Chad Byrd</td>\n      <td>61</td>\n      <td>Male</td>\n      <td>B-</td>\n      <td>Obesity</td>\n      <td>2019-01-09</td>\n      <td>Paul Baker</td>\n      <td>Walton LLC</td>\n      <td>Medicare</td>\n      <td>36874.896997</td>\n      <td>292</td>\n      <td>Emergency</td>\n      <td>2019-02-08</td>\n      <td>Lipitor</td>\n      <td>Normal</td>\n    </tr>\n    <tr>\n      <th>3</th>\n      <td>Antonio Frederick</td>\n      <td>49</td>\n      <td>Male</td>\n      <td>B-</td>\n      <td>Asthma</td>\n      <td>2020-05-02</td>\n      <td>Brian Chandler</td>\n      <td>Garcia Ltd</td>\n      <td>Medicare</td>\n      <td>23303.322092</td>\n      <td>480</td>\n      <td>Urgent</td>\n      <td>2020-05-03</td>\n      <td>Penicillin</td>\n      <td>Abnormal</td>\n    </tr>\n    <tr>\n      <th>4</th>\n      <td>Mrs. Brandy Flowers</td>\n      <td>51</td>\n      <td>Male</td>\n      <td>O-</td>\n      <td>Arthritis</td>\n      <td>2021-07-09</td>\n      <td>Dustin Griffin</td>\n      <td>Jones, Brown and Murray</td>\n      <td>UnitedHealthcare</td>\n      <td>18086.344184</td>\n      <td>477</td>\n      <td>Urgent</td>\n      <td>2021-08-02</td>\n      <td>Paracetamol</td>\n      <td>Normal</td>\n    </tr>\n  </tbody>\n</table>\n</div>"
          },
          "metadata": {}
        }
      ],
      "execution_count": 186
    },
    {
      "id": "32e0b55b-e6f9-4728-a9f0-f2e2a2c66ea2",
      "cell_type": "code",
      "source": "health.info()",
      "metadata": {
        "colab": {
          "base_uri": "https://localhost:8080/"
        },
        "id": "32e0b55b-e6f9-4728-a9f0-f2e2a2c66ea2",
        "outputId": "8fa4ec92-5322-4273-848f-d59d67508ae2",
        "trusted": true
      },
      "outputs": [
        {
          "name": "stdout",
          "text": "<class 'pandas.core.frame.DataFrame'>\nRangeIndex: 10000 entries, 0 to 9999\nData columns (total 15 columns):\n #   Column              Non-Null Count  Dtype  \n---  ------              --------------  -----  \n 0   Name                10000 non-null  object \n 1   Age                 10000 non-null  int64  \n 2   Gender              10000 non-null  object \n 3   Blood Type          10000 non-null  object \n 4   Medical Condition   10000 non-null  object \n 5   Date of Admission   10000 non-null  object \n 6   Doctor              10000 non-null  object \n 7   Hospital            10000 non-null  object \n 8   Insurance Provider  10000 non-null  object \n 9   Billing Amount      10000 non-null  float64\n 10  Room Number         10000 non-null  int64  \n 11  Admission Type      10000 non-null  object \n 12  Discharge Date      10000 non-null  object \n 13  Medication          10000 non-null  object \n 14  Test Results        10000 non-null  object \ndtypes: float64(1), int64(2), object(12)\nmemory usage: 703.2+ KB\n",
          "output_type": "stream"
        }
      ],
      "execution_count": 187
    },
    {
      "id": "9f443e47-5097-40dd-8024-866d61af7ff5",
      "cell_type": "code",
      "source": "health.describe()",
      "metadata": {
        "colab": {
          "base_uri": "https://localhost:8080/",
          "height": 300
        },
        "id": "9f443e47-5097-40dd-8024-866d61af7ff5",
        "outputId": "262d4b2d-4a57-4cfa-cc1b-8522ec2cbd2f",
        "trusted": true
      },
      "outputs": [
        {
          "execution_count": 188,
          "output_type": "execute_result",
          "data": {
            "text/plain": "                Age  Billing Amount   Room Number\ncount  10000.000000    10000.000000  10000.000000\nmean      51.452200    25516.806778    300.082000\nstd       19.588974    14067.292709    115.806027\nmin       18.000000     1000.180837    101.000000\n25%       35.000000    13506.523967    199.000000\n50%       52.000000    25258.112566    299.000000\n75%       68.000000    37733.913727    400.000000\nmax       85.000000    49995.902283    500.000000",
            "text/html": "<div>\n<style scoped>\n    .dataframe tbody tr th:only-of-type {\n        vertical-align: middle;\n    }\n\n    .dataframe tbody tr th {\n        vertical-align: top;\n    }\n\n    .dataframe thead th {\n        text-align: right;\n    }\n</style>\n<table border=\"1\" class=\"dataframe\">\n  <thead>\n    <tr style=\"text-align: right;\">\n      <th></th>\n      <th>Age</th>\n      <th>Billing Amount</th>\n      <th>Room Number</th>\n    </tr>\n  </thead>\n  <tbody>\n    <tr>\n      <th>count</th>\n      <td>10000.000000</td>\n      <td>10000.000000</td>\n      <td>10000.000000</td>\n    </tr>\n    <tr>\n      <th>mean</th>\n      <td>51.452200</td>\n      <td>25516.806778</td>\n      <td>300.082000</td>\n    </tr>\n    <tr>\n      <th>std</th>\n      <td>19.588974</td>\n      <td>14067.292709</td>\n      <td>115.806027</td>\n    </tr>\n    <tr>\n      <th>min</th>\n      <td>18.000000</td>\n      <td>1000.180837</td>\n      <td>101.000000</td>\n    </tr>\n    <tr>\n      <th>25%</th>\n      <td>35.000000</td>\n      <td>13506.523967</td>\n      <td>199.000000</td>\n    </tr>\n    <tr>\n      <th>50%</th>\n      <td>52.000000</td>\n      <td>25258.112566</td>\n      <td>299.000000</td>\n    </tr>\n    <tr>\n      <th>75%</th>\n      <td>68.000000</td>\n      <td>37733.913727</td>\n      <td>400.000000</td>\n    </tr>\n    <tr>\n      <th>max</th>\n      <td>85.000000</td>\n      <td>49995.902283</td>\n      <td>500.000000</td>\n    </tr>\n  </tbody>\n</table>\n</div>"
          },
          "metadata": {}
        }
      ],
      "execution_count": 188
    },
    {
      "id": "54a44194-00d3-43b0-8100-69c5e78b6192",
      "cell_type": "code",
      "source": "health.dtypes",
      "metadata": {
        "colab": {
          "base_uri": "https://localhost:8080/"
        },
        "id": "54a44194-00d3-43b0-8100-69c5e78b6192",
        "outputId": "c010d183-04d2-4df2-bd03-4cfbcb7757eb",
        "trusted": true
      },
      "outputs": [
        {
          "execution_count": 189,
          "output_type": "execute_result",
          "data": {
            "text/plain": "Name                   object\nAge                     int64\nGender                 object\nBlood Type             object\nMedical Condition      object\nDate of Admission      object\nDoctor                 object\nHospital               object\nInsurance Provider     object\nBilling Amount        float64\nRoom Number             int64\nAdmission Type         object\nDischarge Date         object\nMedication             object\nTest Results           object\ndtype: object"
          },
          "metadata": {}
        }
      ],
      "execution_count": 189
    },
    {
      "id": "0d0953d8-8ef0-4fa8-babc-a98d5908ba3f",
      "cell_type": "markdown",
      "source": "# Data Cleaning and Preprocessing",
      "metadata": {
        "id": "0d0953d8-8ef0-4fa8-babc-a98d5908ba3f"
      }
    },
    {
      "id": "890e87bd-02a8-4158-baac-e6d77009a539",
      "cell_type": "markdown",
      "source": "###### Data collected may be messy and unstructured.\nData cleaning and preprocessing are essential to ensure data accuracy and consistency.\nThis involves handling missing values, outliers, and formatting data for analysis.",
      "metadata": {
        "id": "890e87bd-02a8-4158-baac-e6d77009a539"
      }
    },
    {
      "id": "81987b4c-04de-4a7f-b559-67cd1ac75b71",
      "cell_type": "code",
      "source": "health.isnull()",
      "metadata": {
        "colab": {
          "base_uri": "https://localhost:8080/",
          "height": 424
        },
        "id": "81987b4c-04de-4a7f-b559-67cd1ac75b71",
        "outputId": "71b7960a-2ba4-441e-e59a-ccfb63a4c144",
        "trusted": true
      },
      "outputs": [
        {
          "execution_count": 190,
          "output_type": "execute_result",
          "data": {
            "text/plain": "       Name    Age  Gender  Blood Type  Medical Condition  Date of Admission  \\\n0     False  False   False       False              False              False   \n1     False  False   False       False              False              False   \n2     False  False   False       False              False              False   \n3     False  False   False       False              False              False   \n4     False  False   False       False              False              False   \n...     ...    ...     ...         ...                ...                ...   \n9995  False  False   False       False              False              False   \n9996  False  False   False       False              False              False   \n9997  False  False   False       False              False              False   \n9998  False  False   False       False              False              False   \n9999  False  False   False       False              False              False   \n\n      Doctor  Hospital  Insurance Provider  Billing Amount  Room Number  \\\n0      False     False               False           False        False   \n1      False     False               False           False        False   \n2      False     False               False           False        False   \n3      False     False               False           False        False   \n4      False     False               False           False        False   \n...      ...       ...                 ...             ...          ...   \n9995   False     False               False           False        False   \n9996   False     False               False           False        False   \n9997   False     False               False           False        False   \n9998   False     False               False           False        False   \n9999   False     False               False           False        False   \n\n      Admission Type  Discharge Date  Medication  Test Results  \n0              False           False       False         False  \n1              False           False       False         False  \n2              False           False       False         False  \n3              False           False       False         False  \n4              False           False       False         False  \n...              ...             ...         ...           ...  \n9995           False           False       False         False  \n9996           False           False       False         False  \n9997           False           False       False         False  \n9998           False           False       False         False  \n9999           False           False       False         False  \n\n[10000 rows x 15 columns]",
            "text/html": "<div>\n<style scoped>\n    .dataframe tbody tr th:only-of-type {\n        vertical-align: middle;\n    }\n\n    .dataframe tbody tr th {\n        vertical-align: top;\n    }\n\n    .dataframe thead th {\n        text-align: right;\n    }\n</style>\n<table border=\"1\" class=\"dataframe\">\n  <thead>\n    <tr style=\"text-align: right;\">\n      <th></th>\n      <th>Name</th>\n      <th>Age</th>\n      <th>Gender</th>\n      <th>Blood Type</th>\n      <th>Medical Condition</th>\n      <th>Date of Admission</th>\n      <th>Doctor</th>\n      <th>Hospital</th>\n      <th>Insurance Provider</th>\n      <th>Billing Amount</th>\n      <th>Room Number</th>\n      <th>Admission Type</th>\n      <th>Discharge Date</th>\n      <th>Medication</th>\n      <th>Test Results</th>\n    </tr>\n  </thead>\n  <tbody>\n    <tr>\n      <th>0</th>\n      <td>False</td>\n      <td>False</td>\n      <td>False</td>\n      <td>False</td>\n      <td>False</td>\n      <td>False</td>\n      <td>False</td>\n      <td>False</td>\n      <td>False</td>\n      <td>False</td>\n      <td>False</td>\n      <td>False</td>\n      <td>False</td>\n      <td>False</td>\n      <td>False</td>\n    </tr>\n    <tr>\n      <th>1</th>\n      <td>False</td>\n      <td>False</td>\n      <td>False</td>\n      <td>False</td>\n      <td>False</td>\n      <td>False</td>\n      <td>False</td>\n      <td>False</td>\n      <td>False</td>\n      <td>False</td>\n      <td>False</td>\n      <td>False</td>\n      <td>False</td>\n      <td>False</td>\n      <td>False</td>\n    </tr>\n    <tr>\n      <th>2</th>\n      <td>False</td>\n      <td>False</td>\n      <td>False</td>\n      <td>False</td>\n      <td>False</td>\n      <td>False</td>\n      <td>False</td>\n      <td>False</td>\n      <td>False</td>\n      <td>False</td>\n      <td>False</td>\n      <td>False</td>\n      <td>False</td>\n      <td>False</td>\n      <td>False</td>\n    </tr>\n    <tr>\n      <th>3</th>\n      <td>False</td>\n      <td>False</td>\n      <td>False</td>\n      <td>False</td>\n      <td>False</td>\n      <td>False</td>\n      <td>False</td>\n      <td>False</td>\n      <td>False</td>\n      <td>False</td>\n      <td>False</td>\n      <td>False</td>\n      <td>False</td>\n      <td>False</td>\n      <td>False</td>\n    </tr>\n    <tr>\n      <th>4</th>\n      <td>False</td>\n      <td>False</td>\n      <td>False</td>\n      <td>False</td>\n      <td>False</td>\n      <td>False</td>\n      <td>False</td>\n      <td>False</td>\n      <td>False</td>\n      <td>False</td>\n      <td>False</td>\n      <td>False</td>\n      <td>False</td>\n      <td>False</td>\n      <td>False</td>\n    </tr>\n    <tr>\n      <th>...</th>\n      <td>...</td>\n      <td>...</td>\n      <td>...</td>\n      <td>...</td>\n      <td>...</td>\n      <td>...</td>\n      <td>...</td>\n      <td>...</td>\n      <td>...</td>\n      <td>...</td>\n      <td>...</td>\n      <td>...</td>\n      <td>...</td>\n      <td>...</td>\n      <td>...</td>\n    </tr>\n    <tr>\n      <th>9995</th>\n      <td>False</td>\n      <td>False</td>\n      <td>False</td>\n      <td>False</td>\n      <td>False</td>\n      <td>False</td>\n      <td>False</td>\n      <td>False</td>\n      <td>False</td>\n      <td>False</td>\n      <td>False</td>\n      <td>False</td>\n      <td>False</td>\n      <td>False</td>\n      <td>False</td>\n    </tr>\n    <tr>\n      <th>9996</th>\n      <td>False</td>\n      <td>False</td>\n      <td>False</td>\n      <td>False</td>\n      <td>False</td>\n      <td>False</td>\n      <td>False</td>\n      <td>False</td>\n      <td>False</td>\n      <td>False</td>\n      <td>False</td>\n      <td>False</td>\n      <td>False</td>\n      <td>False</td>\n      <td>False</td>\n    </tr>\n    <tr>\n      <th>9997</th>\n      <td>False</td>\n      <td>False</td>\n      <td>False</td>\n      <td>False</td>\n      <td>False</td>\n      <td>False</td>\n      <td>False</td>\n      <td>False</td>\n      <td>False</td>\n      <td>False</td>\n      <td>False</td>\n      <td>False</td>\n      <td>False</td>\n      <td>False</td>\n      <td>False</td>\n    </tr>\n    <tr>\n      <th>9998</th>\n      <td>False</td>\n      <td>False</td>\n      <td>False</td>\n      <td>False</td>\n      <td>False</td>\n      <td>False</td>\n      <td>False</td>\n      <td>False</td>\n      <td>False</td>\n      <td>False</td>\n      <td>False</td>\n      <td>False</td>\n      <td>False</td>\n      <td>False</td>\n      <td>False</td>\n    </tr>\n    <tr>\n      <th>9999</th>\n      <td>False</td>\n      <td>False</td>\n      <td>False</td>\n      <td>False</td>\n      <td>False</td>\n      <td>False</td>\n      <td>False</td>\n      <td>False</td>\n      <td>False</td>\n      <td>False</td>\n      <td>False</td>\n      <td>False</td>\n      <td>False</td>\n      <td>False</td>\n      <td>False</td>\n    </tr>\n  </tbody>\n</table>\n<p>10000 rows × 15 columns</p>\n</div>"
          },
          "metadata": {}
        }
      ],
      "execution_count": 190
    },
    {
      "id": "9add6cb2-6dda-4310-a700-f36e3c06e166",
      "cell_type": "code",
      "source": "health.notnull()",
      "metadata": {
        "colab": {
          "base_uri": "https://localhost:8080/",
          "height": 424
        },
        "id": "9add6cb2-6dda-4310-a700-f36e3c06e166",
        "outputId": "b69c1985-638a-4fd6-da75-f5de5db1aa88",
        "trusted": true
      },
      "outputs": [
        {
          "execution_count": 191,
          "output_type": "execute_result",
          "data": {
            "text/plain": "      Name   Age  Gender  Blood Type  Medical Condition  Date of Admission  \\\n0     True  True    True        True               True               True   \n1     True  True    True        True               True               True   \n2     True  True    True        True               True               True   \n3     True  True    True        True               True               True   \n4     True  True    True        True               True               True   \n...    ...   ...     ...         ...                ...                ...   \n9995  True  True    True        True               True               True   \n9996  True  True    True        True               True               True   \n9997  True  True    True        True               True               True   \n9998  True  True    True        True               True               True   \n9999  True  True    True        True               True               True   \n\n      Doctor  Hospital  Insurance Provider  Billing Amount  Room Number  \\\n0       True      True                True            True         True   \n1       True      True                True            True         True   \n2       True      True                True            True         True   \n3       True      True                True            True         True   \n4       True      True                True            True         True   \n...      ...       ...                 ...             ...          ...   \n9995    True      True                True            True         True   \n9996    True      True                True            True         True   \n9997    True      True                True            True         True   \n9998    True      True                True            True         True   \n9999    True      True                True            True         True   \n\n      Admission Type  Discharge Date  Medication  Test Results  \n0               True            True        True          True  \n1               True            True        True          True  \n2               True            True        True          True  \n3               True            True        True          True  \n4               True            True        True          True  \n...              ...             ...         ...           ...  \n9995            True            True        True          True  \n9996            True            True        True          True  \n9997            True            True        True          True  \n9998            True            True        True          True  \n9999            True            True        True          True  \n\n[10000 rows x 15 columns]",
            "text/html": "<div>\n<style scoped>\n    .dataframe tbody tr th:only-of-type {\n        vertical-align: middle;\n    }\n\n    .dataframe tbody tr th {\n        vertical-align: top;\n    }\n\n    .dataframe thead th {\n        text-align: right;\n    }\n</style>\n<table border=\"1\" class=\"dataframe\">\n  <thead>\n    <tr style=\"text-align: right;\">\n      <th></th>\n      <th>Name</th>\n      <th>Age</th>\n      <th>Gender</th>\n      <th>Blood Type</th>\n      <th>Medical Condition</th>\n      <th>Date of Admission</th>\n      <th>Doctor</th>\n      <th>Hospital</th>\n      <th>Insurance Provider</th>\n      <th>Billing Amount</th>\n      <th>Room Number</th>\n      <th>Admission Type</th>\n      <th>Discharge Date</th>\n      <th>Medication</th>\n      <th>Test Results</th>\n    </tr>\n  </thead>\n  <tbody>\n    <tr>\n      <th>0</th>\n      <td>True</td>\n      <td>True</td>\n      <td>True</td>\n      <td>True</td>\n      <td>True</td>\n      <td>True</td>\n      <td>True</td>\n      <td>True</td>\n      <td>True</td>\n      <td>True</td>\n      <td>True</td>\n      <td>True</td>\n      <td>True</td>\n      <td>True</td>\n      <td>True</td>\n    </tr>\n    <tr>\n      <th>1</th>\n      <td>True</td>\n      <td>True</td>\n      <td>True</td>\n      <td>True</td>\n      <td>True</td>\n      <td>True</td>\n      <td>True</td>\n      <td>True</td>\n      <td>True</td>\n      <td>True</td>\n      <td>True</td>\n      <td>True</td>\n      <td>True</td>\n      <td>True</td>\n      <td>True</td>\n    </tr>\n    <tr>\n      <th>2</th>\n      <td>True</td>\n      <td>True</td>\n      <td>True</td>\n      <td>True</td>\n      <td>True</td>\n      <td>True</td>\n      <td>True</td>\n      <td>True</td>\n      <td>True</td>\n      <td>True</td>\n      <td>True</td>\n      <td>True</td>\n      <td>True</td>\n      <td>True</td>\n      <td>True</td>\n    </tr>\n    <tr>\n      <th>3</th>\n      <td>True</td>\n      <td>True</td>\n      <td>True</td>\n      <td>True</td>\n      <td>True</td>\n      <td>True</td>\n      <td>True</td>\n      <td>True</td>\n      <td>True</td>\n      <td>True</td>\n      <td>True</td>\n      <td>True</td>\n      <td>True</td>\n      <td>True</td>\n      <td>True</td>\n    </tr>\n    <tr>\n      <th>4</th>\n      <td>True</td>\n      <td>True</td>\n      <td>True</td>\n      <td>True</td>\n      <td>True</td>\n      <td>True</td>\n      <td>True</td>\n      <td>True</td>\n      <td>True</td>\n      <td>True</td>\n      <td>True</td>\n      <td>True</td>\n      <td>True</td>\n      <td>True</td>\n      <td>True</td>\n    </tr>\n    <tr>\n      <th>...</th>\n      <td>...</td>\n      <td>...</td>\n      <td>...</td>\n      <td>...</td>\n      <td>...</td>\n      <td>...</td>\n      <td>...</td>\n      <td>...</td>\n      <td>...</td>\n      <td>...</td>\n      <td>...</td>\n      <td>...</td>\n      <td>...</td>\n      <td>...</td>\n      <td>...</td>\n    </tr>\n    <tr>\n      <th>9995</th>\n      <td>True</td>\n      <td>True</td>\n      <td>True</td>\n      <td>True</td>\n      <td>True</td>\n      <td>True</td>\n      <td>True</td>\n      <td>True</td>\n      <td>True</td>\n      <td>True</td>\n      <td>True</td>\n      <td>True</td>\n      <td>True</td>\n      <td>True</td>\n      <td>True</td>\n    </tr>\n    <tr>\n      <th>9996</th>\n      <td>True</td>\n      <td>True</td>\n      <td>True</td>\n      <td>True</td>\n      <td>True</td>\n      <td>True</td>\n      <td>True</td>\n      <td>True</td>\n      <td>True</td>\n      <td>True</td>\n      <td>True</td>\n      <td>True</td>\n      <td>True</td>\n      <td>True</td>\n      <td>True</td>\n    </tr>\n    <tr>\n      <th>9997</th>\n      <td>True</td>\n      <td>True</td>\n      <td>True</td>\n      <td>True</td>\n      <td>True</td>\n      <td>True</td>\n      <td>True</td>\n      <td>True</td>\n      <td>True</td>\n      <td>True</td>\n      <td>True</td>\n      <td>True</td>\n      <td>True</td>\n      <td>True</td>\n      <td>True</td>\n    </tr>\n    <tr>\n      <th>9998</th>\n      <td>True</td>\n      <td>True</td>\n      <td>True</td>\n      <td>True</td>\n      <td>True</td>\n      <td>True</td>\n      <td>True</td>\n      <td>True</td>\n      <td>True</td>\n      <td>True</td>\n      <td>True</td>\n      <td>True</td>\n      <td>True</td>\n      <td>True</td>\n      <td>True</td>\n    </tr>\n    <tr>\n      <th>9999</th>\n      <td>True</td>\n      <td>True</td>\n      <td>True</td>\n      <td>True</td>\n      <td>True</td>\n      <td>True</td>\n      <td>True</td>\n      <td>True</td>\n      <td>True</td>\n      <td>True</td>\n      <td>True</td>\n      <td>True</td>\n      <td>True</td>\n      <td>True</td>\n      <td>True</td>\n    </tr>\n  </tbody>\n</table>\n<p>10000 rows × 15 columns</p>\n</div>"
          },
          "metadata": {}
        }
      ],
      "execution_count": 191
    },
    {
      "id": "22e8a707-7d8c-41d8-b484-b57dbbafc269",
      "cell_type": "code",
      "source": "health.isnull().sum()",
      "metadata": {
        "colab": {
          "base_uri": "https://localhost:8080/"
        },
        "id": "22e8a707-7d8c-41d8-b484-b57dbbafc269",
        "outputId": "6d0d0533-fc71-4a32-c5cd-6d4293596f31",
        "trusted": true
      },
      "outputs": [
        {
          "execution_count": 192,
          "output_type": "execute_result",
          "data": {
            "text/plain": "Name                  0\nAge                   0\nGender                0\nBlood Type            0\nMedical Condition     0\nDate of Admission     0\nDoctor                0\nHospital              0\nInsurance Provider    0\nBilling Amount        0\nRoom Number           0\nAdmission Type        0\nDischarge Date        0\nMedication            0\nTest Results          0\ndtype: int64"
          },
          "metadata": {}
        }
      ],
      "execution_count": 192
    },
    {
      "id": "b1dd5edb-dd08-4893-95ef-a4209b6804e8",
      "cell_type": "code",
      "source": "#drop THE DUPLICATED VALUES\n# health.drop_duplicates(inplace=True)\n# health\n",
      "metadata": {
        "id": "b1dd5edb-dd08-4893-95ef-a4209b6804e8",
        "trusted": true
      },
      "outputs": [],
      "execution_count": 193
    },
    {
      "id": "60b25e11-5239-4883-8356-8511077c6999",
      "cell_type": "code",
      "source": "#DROP THE ENTIRE IF THE VALUES ARE MISSING\nhealth.dropna(how='all',axis = 1,inplace=True)",
      "metadata": {
        "id": "60b25e11-5239-4883-8356-8511077c6999",
        "trusted": true
      },
      "outputs": [],
      "execution_count": 194
    },
    {
      "id": "f264c8ac-b0f9-4ed3-a1f0-4a33a40e445d",
      "cell_type": "code",
      "source": "#FILL THE MISSING AGES WITH AGE MEAN VALUE\nhealth['Age'].fillna(health['Age'].mean(), inplace=True)",
      "metadata": {
        "id": "f264c8ac-b0f9-4ed3-a1f0-4a33a40e445d",
        "trusted": true
      },
      "outputs": [],
      "execution_count": 195
    },
    {
      "id": "7f365f6c-9681-4ea5-8f52-f7d802c54a75",
      "cell_type": "code",
      "source": "#FILL THE MISSING TEST RESULTS WITH THE next VALUES\nhealth['Test Results'].ffill(inplace=True)",
      "metadata": {
        "id": "7f365f6c-9681-4ea5-8f52-f7d802c54a75",
        "trusted": true
      },
      "outputs": [],
      "execution_count": 196
    },
    {
      "id": "d425a97e-630a-47e7-8de2-c9cd5ac91278",
      "cell_type": "code",
      "source": "#FILL THE MISSING room number WITH THE PREVIOUSE VALUES\nhealth['Room Number'].bfill(inplace=True)",
      "metadata": {
        "id": "d425a97e-630a-47e7-8de2-c9cd5ac91278",
        "trusted": true
      },
      "outputs": [],
      "execution_count": 197
    },
    {
      "id": "8efc2a60-2f5c-4834-896e-4c64c313834d",
      "cell_type": "code",
      "source": "#Drop the row if the Blood value is missing\nhealth.dropna(subset=['Blood Type'], inplace=True)",
      "metadata": {
        "id": "8efc2a60-2f5c-4834-896e-4c64c313834d",
        "trusted": true
      },
      "outputs": [],
      "execution_count": 198
    },
    {
      "id": "53974a30-1a41-460e-ab75-72ae6902dfad",
      "cell_type": "code",
      "source": "health.isnull().sum()",
      "metadata": {
        "colab": {
          "base_uri": "https://localhost:8080/"
        },
        "id": "53974a30-1a41-460e-ab75-72ae6902dfad",
        "outputId": "407aa391-374f-4c68-b39f-9f998c3b9192",
        "trusted": true
      },
      "outputs": [
        {
          "execution_count": 199,
          "output_type": "execute_result",
          "data": {
            "text/plain": "Name                  0\nAge                   0\nGender                0\nBlood Type            0\nMedical Condition     0\nDate of Admission     0\nDoctor                0\nHospital              0\nInsurance Provider    0\nBilling Amount        0\nRoom Number           0\nAdmission Type        0\nDischarge Date        0\nMedication            0\nTest Results          0\ndtype: int64"
          },
          "metadata": {}
        }
      ],
      "execution_count": 199
    },
    {
      "id": "1fc45929-61f0-4017-b8aa-bc107386fa20",
      "cell_type": "markdown",
      "source": "### normalization",
      "metadata": {
        "id": "1fc45929-61f0-4017-b8aa-bc107386fa20"
      }
    },
    {
      "id": "eedafea8-7f56-4f0f-a48d-e433b4e6140c",
      "cell_type": "code",
      "source": "health",
      "metadata": {
        "colab": {
          "base_uri": "https://localhost:8080/"
        },
        "id": "eedafea8-7f56-4f0f-a48d-e433b4e6140c",
        "outputId": "4a130fb3-e802-4ff2-d6d1-a6dd2f21f115",
        "trusted": true,
        "scrolled": true
      },
      "outputs": [
        {
          "execution_count": 200,
          "output_type": "execute_result",
          "data": {
            "text/plain": "                      Name  Age  Gender Blood Type Medical Condition  \\\n0          Tiffany Ramirez   81  Female         O-          Diabetes   \n1              Ruben Burns   35    Male         O+            Asthma   \n2                Chad Byrd   61    Male         B-           Obesity   \n3        Antonio Frederick   49    Male         B-            Asthma   \n4      Mrs. Brandy Flowers   51    Male         O-         Arthritis   \n...                    ...  ...     ...        ...               ...   \n9995            James Hood   83    Male         A+           Obesity   \n9996       Stephanie Evans   47  Female        AB+         Arthritis   \n9997  Christopher Martinez   54    Male         B-         Arthritis   \n9998           Amanda Duke   84    Male         A+         Arthritis   \n9999             Eric King   20    Male         B-         Arthritis   \n\n     Date of Admission             Doctor                   Hospital  \\\n0           2022-11-17     Patrick Parker           Wallace-Hamilton   \n1           2023-06-01      Diane Jackson  Burke, Griffin and Cooper   \n2           2019-01-09         Paul Baker                 Walton LLC   \n3           2020-05-02     Brian Chandler                 Garcia Ltd   \n4           2021-07-09     Dustin Griffin    Jones, Brown and Murray   \n...                ...                ...                        ...   \n9995        2022-07-29       Samuel Moody   Wood, Martin and Simmons   \n9996        2022-01-06  Christopher Yates               Nash-Krueger   \n9997        2022-07-01   Robert Nicholson            Larson and Sons   \n9998        2020-02-06        Jamie Lewis               Wilson-Lyons   \n9999        2023-03-22        Tasha Avila  Torres, Young and Stewart   \n\n     Insurance Provider  Billing Amount  Room Number Admission Type  \\\n0              Medicare    37490.983364          146       Elective   \n1      UnitedHealthcare    47304.064845          404      Emergency   \n2              Medicare    36874.896997          292      Emergency   \n3              Medicare    23303.322092          480         Urgent   \n4      UnitedHealthcare    18086.344184          477         Urgent   \n...                 ...             ...          ...            ...   \n9995   UnitedHealthcare    39606.840083          110       Elective   \n9996         Blue Cross     5995.717488          244      Emergency   \n9997         Blue Cross    49559.202905          312       Elective   \n9998   UnitedHealthcare    25236.344761          420         Urgent   \n9999              Aetna    37223.965865          290      Emergency   \n\n     Discharge Date   Medication  Test Results  \n0        2022-12-01      Aspirin  Inconclusive  \n1        2023-06-15      Lipitor        Normal  \n2        2019-02-08      Lipitor        Normal  \n3        2020-05-03   Penicillin      Abnormal  \n4        2021-08-02  Paracetamol        Normal  \n...             ...          ...           ...  \n9995     2022-08-02    Ibuprofen      Abnormal  \n9996     2022-01-29    Ibuprofen        Normal  \n9997     2022-07-15    Ibuprofen        Normal  \n9998     2020-02-26   Penicillin        Normal  \n9999     2023-04-15   Penicillin      Abnormal  \n\n[10000 rows x 15 columns]",
            "text/html": "<div>\n<style scoped>\n    .dataframe tbody tr th:only-of-type {\n        vertical-align: middle;\n    }\n\n    .dataframe tbody tr th {\n        vertical-align: top;\n    }\n\n    .dataframe thead th {\n        text-align: right;\n    }\n</style>\n<table border=\"1\" class=\"dataframe\">\n  <thead>\n    <tr style=\"text-align: right;\">\n      <th></th>\n      <th>Name</th>\n      <th>Age</th>\n      <th>Gender</th>\n      <th>Blood Type</th>\n      <th>Medical Condition</th>\n      <th>Date of Admission</th>\n      <th>Doctor</th>\n      <th>Hospital</th>\n      <th>Insurance Provider</th>\n      <th>Billing Amount</th>\n      <th>Room Number</th>\n      <th>Admission Type</th>\n      <th>Discharge Date</th>\n      <th>Medication</th>\n      <th>Test Results</th>\n    </tr>\n  </thead>\n  <tbody>\n    <tr>\n      <th>0</th>\n      <td>Tiffany Ramirez</td>\n      <td>81</td>\n      <td>Female</td>\n      <td>O-</td>\n      <td>Diabetes</td>\n      <td>2022-11-17</td>\n      <td>Patrick Parker</td>\n      <td>Wallace-Hamilton</td>\n      <td>Medicare</td>\n      <td>37490.983364</td>\n      <td>146</td>\n      <td>Elective</td>\n      <td>2022-12-01</td>\n      <td>Aspirin</td>\n      <td>Inconclusive</td>\n    </tr>\n    <tr>\n      <th>1</th>\n      <td>Ruben Burns</td>\n      <td>35</td>\n      <td>Male</td>\n      <td>O+</td>\n      <td>Asthma</td>\n      <td>2023-06-01</td>\n      <td>Diane Jackson</td>\n      <td>Burke, Griffin and Cooper</td>\n      <td>UnitedHealthcare</td>\n      <td>47304.064845</td>\n      <td>404</td>\n      <td>Emergency</td>\n      <td>2023-06-15</td>\n      <td>Lipitor</td>\n      <td>Normal</td>\n    </tr>\n    <tr>\n      <th>2</th>\n      <td>Chad Byrd</td>\n      <td>61</td>\n      <td>Male</td>\n      <td>B-</td>\n      <td>Obesity</td>\n      <td>2019-01-09</td>\n      <td>Paul Baker</td>\n      <td>Walton LLC</td>\n      <td>Medicare</td>\n      <td>36874.896997</td>\n      <td>292</td>\n      <td>Emergency</td>\n      <td>2019-02-08</td>\n      <td>Lipitor</td>\n      <td>Normal</td>\n    </tr>\n    <tr>\n      <th>3</th>\n      <td>Antonio Frederick</td>\n      <td>49</td>\n      <td>Male</td>\n      <td>B-</td>\n      <td>Asthma</td>\n      <td>2020-05-02</td>\n      <td>Brian Chandler</td>\n      <td>Garcia Ltd</td>\n      <td>Medicare</td>\n      <td>23303.322092</td>\n      <td>480</td>\n      <td>Urgent</td>\n      <td>2020-05-03</td>\n      <td>Penicillin</td>\n      <td>Abnormal</td>\n    </tr>\n    <tr>\n      <th>4</th>\n      <td>Mrs. Brandy Flowers</td>\n      <td>51</td>\n      <td>Male</td>\n      <td>O-</td>\n      <td>Arthritis</td>\n      <td>2021-07-09</td>\n      <td>Dustin Griffin</td>\n      <td>Jones, Brown and Murray</td>\n      <td>UnitedHealthcare</td>\n      <td>18086.344184</td>\n      <td>477</td>\n      <td>Urgent</td>\n      <td>2021-08-02</td>\n      <td>Paracetamol</td>\n      <td>Normal</td>\n    </tr>\n    <tr>\n      <th>...</th>\n      <td>...</td>\n      <td>...</td>\n      <td>...</td>\n      <td>...</td>\n      <td>...</td>\n      <td>...</td>\n      <td>...</td>\n      <td>...</td>\n      <td>...</td>\n      <td>...</td>\n      <td>...</td>\n      <td>...</td>\n      <td>...</td>\n      <td>...</td>\n      <td>...</td>\n    </tr>\n    <tr>\n      <th>9995</th>\n      <td>James Hood</td>\n      <td>83</td>\n      <td>Male</td>\n      <td>A+</td>\n      <td>Obesity</td>\n      <td>2022-07-29</td>\n      <td>Samuel Moody</td>\n      <td>Wood, Martin and Simmons</td>\n      <td>UnitedHealthcare</td>\n      <td>39606.840083</td>\n      <td>110</td>\n      <td>Elective</td>\n      <td>2022-08-02</td>\n      <td>Ibuprofen</td>\n      <td>Abnormal</td>\n    </tr>\n    <tr>\n      <th>9996</th>\n      <td>Stephanie Evans</td>\n      <td>47</td>\n      <td>Female</td>\n      <td>AB+</td>\n      <td>Arthritis</td>\n      <td>2022-01-06</td>\n      <td>Christopher Yates</td>\n      <td>Nash-Krueger</td>\n      <td>Blue Cross</td>\n      <td>5995.717488</td>\n      <td>244</td>\n      <td>Emergency</td>\n      <td>2022-01-29</td>\n      <td>Ibuprofen</td>\n      <td>Normal</td>\n    </tr>\n    <tr>\n      <th>9997</th>\n      <td>Christopher Martinez</td>\n      <td>54</td>\n      <td>Male</td>\n      <td>B-</td>\n      <td>Arthritis</td>\n      <td>2022-07-01</td>\n      <td>Robert Nicholson</td>\n      <td>Larson and Sons</td>\n      <td>Blue Cross</td>\n      <td>49559.202905</td>\n      <td>312</td>\n      <td>Elective</td>\n      <td>2022-07-15</td>\n      <td>Ibuprofen</td>\n      <td>Normal</td>\n    </tr>\n    <tr>\n      <th>9998</th>\n      <td>Amanda Duke</td>\n      <td>84</td>\n      <td>Male</td>\n      <td>A+</td>\n      <td>Arthritis</td>\n      <td>2020-02-06</td>\n      <td>Jamie Lewis</td>\n      <td>Wilson-Lyons</td>\n      <td>UnitedHealthcare</td>\n      <td>25236.344761</td>\n      <td>420</td>\n      <td>Urgent</td>\n      <td>2020-02-26</td>\n      <td>Penicillin</td>\n      <td>Normal</td>\n    </tr>\n    <tr>\n      <th>9999</th>\n      <td>Eric King</td>\n      <td>20</td>\n      <td>Male</td>\n      <td>B-</td>\n      <td>Arthritis</td>\n      <td>2023-03-22</td>\n      <td>Tasha Avila</td>\n      <td>Torres, Young and Stewart</td>\n      <td>Aetna</td>\n      <td>37223.965865</td>\n      <td>290</td>\n      <td>Emergency</td>\n      <td>2023-04-15</td>\n      <td>Penicillin</td>\n      <td>Abnormal</td>\n    </tr>\n  </tbody>\n</table>\n<p>10000 rows × 15 columns</p>\n</div>"
          },
          "metadata": {}
        }
      ],
      "execution_count": 200
    },
    {
      "id": "48accbb0-2429-4ee0-84d8-30e5714b2558",
      "cell_type": "code",
      "source": "from sklearn import preprocessing\nfrom sklearn.preprocessing import StandardScaler",
      "metadata": {
        "id": "48accbb0-2429-4ee0-84d8-30e5714b2558",
        "trusted": true
      },
      "outputs": [],
      "execution_count": 201
    },
    {
      "id": "d646917d-8573-4f4d-92e1-46041c8e17ca",
      "cell_type": "code",
      "source": "health.describe(include='all')",
      "metadata": {
        "colab": {
          "base_uri": "https://localhost:8080/",
          "height": 394
        },
        "id": "d646917d-8573-4f4d-92e1-46041c8e17ca",
        "outputId": "026a2db0-7313-43d9-8487-855b3643832c",
        "trusted": true
      },
      "outputs": [
        {
          "execution_count": 202,
          "output_type": "execute_result",
          "data": {
            "text/plain": "                   Name           Age  Gender Blood Type Medical Condition  \\\ncount             10000  10000.000000   10000      10000             10000   \nunique             9378           NaN       2          8                 6   \ntop     Michael Johnson           NaN  Female        AB-            Asthma   \nfreq                  7           NaN    5075       1275              1708   \nmean                NaN     51.452200     NaN        NaN               NaN   \nstd                 NaN     19.588974     NaN        NaN               NaN   \nmin                 NaN     18.000000     NaN        NaN               NaN   \n25%                 NaN     35.000000     NaN        NaN               NaN   \n50%                 NaN     52.000000     NaN        NaN               NaN   \n75%                 NaN     68.000000     NaN        NaN               NaN   \nmax                 NaN     85.000000     NaN        NaN               NaN   \n\n       Date of Admission           Doctor   Hospital Insurance Provider  \\\ncount              10000            10000      10000              10000   \nunique              1815             9416       8639                  5   \ntop           2019-04-12  Michael Johnson  Smith PLC              Cigna   \nfreq                  15                7         19               2040   \nmean                 NaN              NaN        NaN                NaN   \nstd                  NaN              NaN        NaN                NaN   \nmin                  NaN              NaN        NaN                NaN   \n25%                  NaN              NaN        NaN                NaN   \n50%                  NaN              NaN        NaN                NaN   \n75%                  NaN              NaN        NaN                NaN   \nmax                  NaN              NaN        NaN                NaN   \n\n        Billing Amount   Room Number Admission Type Discharge Date  \\\ncount     10000.000000  10000.000000          10000          10000   \nunique             NaN           NaN              3           1834   \ntop                NaN           NaN         Urgent     2021-11-28   \nfreq               NaN           NaN           3391             14   \nmean      25516.806778    300.082000            NaN            NaN   \nstd       14067.292709    115.806027            NaN            NaN   \nmin        1000.180837    101.000000            NaN            NaN   \n25%       13506.523967    199.000000            NaN            NaN   \n50%       25258.112566    299.000000            NaN            NaN   \n75%       37733.913727    400.000000            NaN            NaN   \nmax       49995.902283    500.000000            NaN            NaN   \n\n        Medication Test Results  \ncount        10000        10000  \nunique           5            3  \ntop     Penicillin     Abnormal  \nfreq          2079         3456  \nmean           NaN          NaN  \nstd            NaN          NaN  \nmin            NaN          NaN  \n25%            NaN          NaN  \n50%            NaN          NaN  \n75%            NaN          NaN  \nmax            NaN          NaN  ",
            "text/html": "<div>\n<style scoped>\n    .dataframe tbody tr th:only-of-type {\n        vertical-align: middle;\n    }\n\n    .dataframe tbody tr th {\n        vertical-align: top;\n    }\n\n    .dataframe thead th {\n        text-align: right;\n    }\n</style>\n<table border=\"1\" class=\"dataframe\">\n  <thead>\n    <tr style=\"text-align: right;\">\n      <th></th>\n      <th>Name</th>\n      <th>Age</th>\n      <th>Gender</th>\n      <th>Blood Type</th>\n      <th>Medical Condition</th>\n      <th>Date of Admission</th>\n      <th>Doctor</th>\n      <th>Hospital</th>\n      <th>Insurance Provider</th>\n      <th>Billing Amount</th>\n      <th>Room Number</th>\n      <th>Admission Type</th>\n      <th>Discharge Date</th>\n      <th>Medication</th>\n      <th>Test Results</th>\n    </tr>\n  </thead>\n  <tbody>\n    <tr>\n      <th>count</th>\n      <td>10000</td>\n      <td>10000.000000</td>\n      <td>10000</td>\n      <td>10000</td>\n      <td>10000</td>\n      <td>10000</td>\n      <td>10000</td>\n      <td>10000</td>\n      <td>10000</td>\n      <td>10000.000000</td>\n      <td>10000.000000</td>\n      <td>10000</td>\n      <td>10000</td>\n      <td>10000</td>\n      <td>10000</td>\n    </tr>\n    <tr>\n      <th>unique</th>\n      <td>9378</td>\n      <td>NaN</td>\n      <td>2</td>\n      <td>8</td>\n      <td>6</td>\n      <td>1815</td>\n      <td>9416</td>\n      <td>8639</td>\n      <td>5</td>\n      <td>NaN</td>\n      <td>NaN</td>\n      <td>3</td>\n      <td>1834</td>\n      <td>5</td>\n      <td>3</td>\n    </tr>\n    <tr>\n      <th>top</th>\n      <td>Michael Johnson</td>\n      <td>NaN</td>\n      <td>Female</td>\n      <td>AB-</td>\n      <td>Asthma</td>\n      <td>2019-04-12</td>\n      <td>Michael Johnson</td>\n      <td>Smith PLC</td>\n      <td>Cigna</td>\n      <td>NaN</td>\n      <td>NaN</td>\n      <td>Urgent</td>\n      <td>2021-11-28</td>\n      <td>Penicillin</td>\n      <td>Abnormal</td>\n    </tr>\n    <tr>\n      <th>freq</th>\n      <td>7</td>\n      <td>NaN</td>\n      <td>5075</td>\n      <td>1275</td>\n      <td>1708</td>\n      <td>15</td>\n      <td>7</td>\n      <td>19</td>\n      <td>2040</td>\n      <td>NaN</td>\n      <td>NaN</td>\n      <td>3391</td>\n      <td>14</td>\n      <td>2079</td>\n      <td>3456</td>\n    </tr>\n    <tr>\n      <th>mean</th>\n      <td>NaN</td>\n      <td>51.452200</td>\n      <td>NaN</td>\n      <td>NaN</td>\n      <td>NaN</td>\n      <td>NaN</td>\n      <td>NaN</td>\n      <td>NaN</td>\n      <td>NaN</td>\n      <td>25516.806778</td>\n      <td>300.082000</td>\n      <td>NaN</td>\n      <td>NaN</td>\n      <td>NaN</td>\n      <td>NaN</td>\n    </tr>\n    <tr>\n      <th>std</th>\n      <td>NaN</td>\n      <td>19.588974</td>\n      <td>NaN</td>\n      <td>NaN</td>\n      <td>NaN</td>\n      <td>NaN</td>\n      <td>NaN</td>\n      <td>NaN</td>\n      <td>NaN</td>\n      <td>14067.292709</td>\n      <td>115.806027</td>\n      <td>NaN</td>\n      <td>NaN</td>\n      <td>NaN</td>\n      <td>NaN</td>\n    </tr>\n    <tr>\n      <th>min</th>\n      <td>NaN</td>\n      <td>18.000000</td>\n      <td>NaN</td>\n      <td>NaN</td>\n      <td>NaN</td>\n      <td>NaN</td>\n      <td>NaN</td>\n      <td>NaN</td>\n      <td>NaN</td>\n      <td>1000.180837</td>\n      <td>101.000000</td>\n      <td>NaN</td>\n      <td>NaN</td>\n      <td>NaN</td>\n      <td>NaN</td>\n    </tr>\n    <tr>\n      <th>25%</th>\n      <td>NaN</td>\n      <td>35.000000</td>\n      <td>NaN</td>\n      <td>NaN</td>\n      <td>NaN</td>\n      <td>NaN</td>\n      <td>NaN</td>\n      <td>NaN</td>\n      <td>NaN</td>\n      <td>13506.523967</td>\n      <td>199.000000</td>\n      <td>NaN</td>\n      <td>NaN</td>\n      <td>NaN</td>\n      <td>NaN</td>\n    </tr>\n    <tr>\n      <th>50%</th>\n      <td>NaN</td>\n      <td>52.000000</td>\n      <td>NaN</td>\n      <td>NaN</td>\n      <td>NaN</td>\n      <td>NaN</td>\n      <td>NaN</td>\n      <td>NaN</td>\n      <td>NaN</td>\n      <td>25258.112566</td>\n      <td>299.000000</td>\n      <td>NaN</td>\n      <td>NaN</td>\n      <td>NaN</td>\n      <td>NaN</td>\n    </tr>\n    <tr>\n      <th>75%</th>\n      <td>NaN</td>\n      <td>68.000000</td>\n      <td>NaN</td>\n      <td>NaN</td>\n      <td>NaN</td>\n      <td>NaN</td>\n      <td>NaN</td>\n      <td>NaN</td>\n      <td>NaN</td>\n      <td>37733.913727</td>\n      <td>400.000000</td>\n      <td>NaN</td>\n      <td>NaN</td>\n      <td>NaN</td>\n      <td>NaN</td>\n    </tr>\n    <tr>\n      <th>max</th>\n      <td>NaN</td>\n      <td>85.000000</td>\n      <td>NaN</td>\n      <td>NaN</td>\n      <td>NaN</td>\n      <td>NaN</td>\n      <td>NaN</td>\n      <td>NaN</td>\n      <td>NaN</td>\n      <td>49995.902283</td>\n      <td>500.000000</td>\n      <td>NaN</td>\n      <td>NaN</td>\n      <td>NaN</td>\n      <td>NaN</td>\n    </tr>\n  </tbody>\n</table>\n</div>"
          },
          "metadata": {}
        }
      ],
      "execution_count": 202
    },
    {
      "id": "cb34b1da-2387-4a7e-b0ce-1e4ab8446d97",
      "cell_type": "code",
      "source": "health[['Age','Billing Amount']] / health[['Age', 'Billing Amount']].max()",
      "metadata": {
        "colab": {
          "base_uri": "https://localhost:8080/",
          "height": 424
        },
        "id": "cb34b1da-2387-4a7e-b0ce-1e4ab8446d97",
        "outputId": "9ac84efc-1c5b-4936-c1bb-08fe786fecd6",
        "trusted": true
      },
      "outputs": [
        {
          "execution_count": 203,
          "output_type": "execute_result",
          "data": {
            "text/plain": "           Age  Billing Amount\n0     0.952941        0.749881\n1     0.411765        0.946159\n2     0.717647        0.737558\n3     0.576471        0.466105\n4     0.600000        0.361757\n...        ...             ...\n9995  0.976471        0.792202\n9996  0.552941        0.119924\n9997  0.635294        0.991265\n9998  0.988235        0.504768\n9999  0.235294        0.744540\n\n[10000 rows x 2 columns]",
            "text/html": "<div>\n<style scoped>\n    .dataframe tbody tr th:only-of-type {\n        vertical-align: middle;\n    }\n\n    .dataframe tbody tr th {\n        vertical-align: top;\n    }\n\n    .dataframe thead th {\n        text-align: right;\n    }\n</style>\n<table border=\"1\" class=\"dataframe\">\n  <thead>\n    <tr style=\"text-align: right;\">\n      <th></th>\n      <th>Age</th>\n      <th>Billing Amount</th>\n    </tr>\n  </thead>\n  <tbody>\n    <tr>\n      <th>0</th>\n      <td>0.952941</td>\n      <td>0.749881</td>\n    </tr>\n    <tr>\n      <th>1</th>\n      <td>0.411765</td>\n      <td>0.946159</td>\n    </tr>\n    <tr>\n      <th>2</th>\n      <td>0.717647</td>\n      <td>0.737558</td>\n    </tr>\n    <tr>\n      <th>3</th>\n      <td>0.576471</td>\n      <td>0.466105</td>\n    </tr>\n    <tr>\n      <th>4</th>\n      <td>0.600000</td>\n      <td>0.361757</td>\n    </tr>\n    <tr>\n      <th>...</th>\n      <td>...</td>\n      <td>...</td>\n    </tr>\n    <tr>\n      <th>9995</th>\n      <td>0.976471</td>\n      <td>0.792202</td>\n    </tr>\n    <tr>\n      <th>9996</th>\n      <td>0.552941</td>\n      <td>0.119924</td>\n    </tr>\n    <tr>\n      <th>9997</th>\n      <td>0.635294</td>\n      <td>0.991265</td>\n    </tr>\n    <tr>\n      <th>9998</th>\n      <td>0.988235</td>\n      <td>0.504768</td>\n    </tr>\n    <tr>\n      <th>9999</th>\n      <td>0.235294</td>\n      <td>0.744540</td>\n    </tr>\n  </tbody>\n</table>\n<p>10000 rows × 2 columns</p>\n</div>"
          },
          "metadata": {}
        }
      ],
      "execution_count": 203
    },
    {
      "id": "4c96d193-f19f-4353-8b76-d9b1e068e643",
      "cell_type": "code",
      "source": "health.head()",
      "metadata": {
        "colab": {
          "base_uri": "https://localhost:8080/",
          "height": 206
        },
        "id": "4c96d193-f19f-4353-8b76-d9b1e068e643",
        "outputId": "6afdba17-d4ba-4283-e771-073888721d4d",
        "trusted": true
      },
      "outputs": [
        {
          "execution_count": 204,
          "output_type": "execute_result",
          "data": {
            "text/plain": "                  Name  Age  Gender Blood Type Medical Condition  \\\n0      Tiffany Ramirez   81  Female         O-          Diabetes   \n1          Ruben Burns   35    Male         O+            Asthma   \n2            Chad Byrd   61    Male         B-           Obesity   \n3    Antonio Frederick   49    Male         B-            Asthma   \n4  Mrs. Brandy Flowers   51    Male         O-         Arthritis   \n\n  Date of Admission          Doctor                   Hospital  \\\n0        2022-11-17  Patrick Parker           Wallace-Hamilton   \n1        2023-06-01   Diane Jackson  Burke, Griffin and Cooper   \n2        2019-01-09      Paul Baker                 Walton LLC   \n3        2020-05-02  Brian Chandler                 Garcia Ltd   \n4        2021-07-09  Dustin Griffin    Jones, Brown and Murray   \n\n  Insurance Provider  Billing Amount  Room Number Admission Type  \\\n0           Medicare    37490.983364          146       Elective   \n1   UnitedHealthcare    47304.064845          404      Emergency   \n2           Medicare    36874.896997          292      Emergency   \n3           Medicare    23303.322092          480         Urgent   \n4   UnitedHealthcare    18086.344184          477         Urgent   \n\n  Discharge Date   Medication  Test Results  \n0     2022-12-01      Aspirin  Inconclusive  \n1     2023-06-15      Lipitor        Normal  \n2     2019-02-08      Lipitor        Normal  \n3     2020-05-03   Penicillin      Abnormal  \n4     2021-08-02  Paracetamol        Normal  ",
            "text/html": "<div>\n<style scoped>\n    .dataframe tbody tr th:only-of-type {\n        vertical-align: middle;\n    }\n\n    .dataframe tbody tr th {\n        vertical-align: top;\n    }\n\n    .dataframe thead th {\n        text-align: right;\n    }\n</style>\n<table border=\"1\" class=\"dataframe\">\n  <thead>\n    <tr style=\"text-align: right;\">\n      <th></th>\n      <th>Name</th>\n      <th>Age</th>\n      <th>Gender</th>\n      <th>Blood Type</th>\n      <th>Medical Condition</th>\n      <th>Date of Admission</th>\n      <th>Doctor</th>\n      <th>Hospital</th>\n      <th>Insurance Provider</th>\n      <th>Billing Amount</th>\n      <th>Room Number</th>\n      <th>Admission Type</th>\n      <th>Discharge Date</th>\n      <th>Medication</th>\n      <th>Test Results</th>\n    </tr>\n  </thead>\n  <tbody>\n    <tr>\n      <th>0</th>\n      <td>Tiffany Ramirez</td>\n      <td>81</td>\n      <td>Female</td>\n      <td>O-</td>\n      <td>Diabetes</td>\n      <td>2022-11-17</td>\n      <td>Patrick Parker</td>\n      <td>Wallace-Hamilton</td>\n      <td>Medicare</td>\n      <td>37490.983364</td>\n      <td>146</td>\n      <td>Elective</td>\n      <td>2022-12-01</td>\n      <td>Aspirin</td>\n      <td>Inconclusive</td>\n    </tr>\n    <tr>\n      <th>1</th>\n      <td>Ruben Burns</td>\n      <td>35</td>\n      <td>Male</td>\n      <td>O+</td>\n      <td>Asthma</td>\n      <td>2023-06-01</td>\n      <td>Diane Jackson</td>\n      <td>Burke, Griffin and Cooper</td>\n      <td>UnitedHealthcare</td>\n      <td>47304.064845</td>\n      <td>404</td>\n      <td>Emergency</td>\n      <td>2023-06-15</td>\n      <td>Lipitor</td>\n      <td>Normal</td>\n    </tr>\n    <tr>\n      <th>2</th>\n      <td>Chad Byrd</td>\n      <td>61</td>\n      <td>Male</td>\n      <td>B-</td>\n      <td>Obesity</td>\n      <td>2019-01-09</td>\n      <td>Paul Baker</td>\n      <td>Walton LLC</td>\n      <td>Medicare</td>\n      <td>36874.896997</td>\n      <td>292</td>\n      <td>Emergency</td>\n      <td>2019-02-08</td>\n      <td>Lipitor</td>\n      <td>Normal</td>\n    </tr>\n    <tr>\n      <th>3</th>\n      <td>Antonio Frederick</td>\n      <td>49</td>\n      <td>Male</td>\n      <td>B-</td>\n      <td>Asthma</td>\n      <td>2020-05-02</td>\n      <td>Brian Chandler</td>\n      <td>Garcia Ltd</td>\n      <td>Medicare</td>\n      <td>23303.322092</td>\n      <td>480</td>\n      <td>Urgent</td>\n      <td>2020-05-03</td>\n      <td>Penicillin</td>\n      <td>Abnormal</td>\n    </tr>\n    <tr>\n      <th>4</th>\n      <td>Mrs. Brandy Flowers</td>\n      <td>51</td>\n      <td>Male</td>\n      <td>O-</td>\n      <td>Arthritis</td>\n      <td>2021-07-09</td>\n      <td>Dustin Griffin</td>\n      <td>Jones, Brown and Murray</td>\n      <td>UnitedHealthcare</td>\n      <td>18086.344184</td>\n      <td>477</td>\n      <td>Urgent</td>\n      <td>2021-08-02</td>\n      <td>Paracetamol</td>\n      <td>Normal</td>\n    </tr>\n  </tbody>\n</table>\n</div>"
          },
          "metadata": {}
        }
      ],
      "execution_count": 204
    },
    {
      "id": "00aee32a-a3db-4c3b-8fa3-8880c994c70f",
      "cell_type": "code",
      "source": "health.info()",
      "metadata": {
        "colab": {
          "base_uri": "https://localhost:8080/"
        },
        "id": "00aee32a-a3db-4c3b-8fa3-8880c994c70f",
        "outputId": "4a412cac-b005-4377-86d5-73f701144447",
        "trusted": true
      },
      "outputs": [
        {
          "name": "stdout",
          "text": "<class 'pandas.core.frame.DataFrame'>\nRangeIndex: 10000 entries, 0 to 9999\nData columns (total 15 columns):\n #   Column              Non-Null Count  Dtype  \n---  ------              --------------  -----  \n 0   Name                10000 non-null  object \n 1   Age                 10000 non-null  int64  \n 2   Gender              10000 non-null  object \n 3   Blood Type          10000 non-null  object \n 4   Medical Condition   10000 non-null  object \n 5   Date of Admission   10000 non-null  object \n 6   Doctor              10000 non-null  object \n 7   Hospital            10000 non-null  object \n 8   Insurance Provider  10000 non-null  object \n 9   Billing Amount      10000 non-null  float64\n 10  Room Number         10000 non-null  int64  \n 11  Admission Type      10000 non-null  object \n 12  Discharge Date      10000 non-null  object \n 13  Medication          10000 non-null  object \n 14  Test Results        10000 non-null  object \ndtypes: float64(1), int64(2), object(12)\nmemory usage: 703.2+ KB\n",
          "output_type": "stream"
        }
      ],
      "execution_count": 205
    },
    {
      "id": "85bfff02-3315-4012-8081-392d2f402460",
      "cell_type": "code",
      "source": "health['Blood Type'].unique()",
      "metadata": {
        "colab": {
          "base_uri": "https://localhost:8080/"
        },
        "id": "85bfff02-3315-4012-8081-392d2f402460",
        "outputId": "647e8d89-ed57-4535-fa9e-74733ff70b3a",
        "trusted": true
      },
      "outputs": [
        {
          "execution_count": 206,
          "output_type": "execute_result",
          "data": {
            "text/plain": "array(['O-', 'O+', 'B-', 'AB+', 'A+', 'AB-', 'A-', 'B+'], dtype=object)"
          },
          "metadata": {}
        }
      ],
      "execution_count": 206
    },
    {
      "id": "c896a5bb-c0e2-47b3-b1b7-29860ef1e96d",
      "cell_type": "code",
      "source": "health['Blood Type'].value_counts()",
      "metadata": {
        "colab": {
          "base_uri": "https://localhost:8080/"
        },
        "id": "c896a5bb-c0e2-47b3-b1b7-29860ef1e96d",
        "outputId": "877616fd-7d84-45d0-877c-77d7973683f1",
        "trusted": true
      },
      "outputs": [
        {
          "execution_count": 207,
          "output_type": "execute_result",
          "data": {
            "text/plain": "AB-    1275\nAB+    1258\nB-     1252\nO+     1248\nO-     1244\nB+     1244\nA+     1241\nA-     1238\nName: Blood Type, dtype: int64"
          },
          "metadata": {}
        }
      ],
      "execution_count": 207
    },
    {
      "id": "0280d4b0-9079-4eb7-bdf6-f75ce6d60620",
      "cell_type": "code",
      "source": "health['Blood Type'] = health['Blood Type'].str.replace('OO+','O+')",
      "metadata": {
        "colab": {
          "base_uri": "https://localhost:8080/"
        },
        "id": "0280d4b0-9079-4eb7-bdf6-f75ce6d60620",
        "outputId": "f3f624f9-8ec8-44a9-f5bd-d62bae06f546",
        "trusted": true
      },
      "outputs": [
        {
          "name": "stderr",
          "text": "<ipython-input-208-48e43ff2e2ef>:1: FutureWarning: The default value of regex will change from True to False in a future version.\n  health['Blood Type'] = health['Blood Type'].str.replace('OO+','O+')\n",
          "output_type": "stream"
        }
      ],
      "execution_count": 208
    },
    {
      "id": "c5b3f49f-45e7-40f4-ae83-db1d70bdc99a",
      "cell_type": "code",
      "source": "health.replace(\"B\",np.nan,inplace=True)",
      "metadata": {
        "id": "c5b3f49f-45e7-40f4-ae83-db1d70bdc99a",
        "trusted": true
      },
      "outputs": [],
      "execution_count": 209
    },
    {
      "id": "f8337aa2-813f-4092-8d16-ab847c8af6a4",
      "cell_type": "code",
      "source": "health.replace(\"A\",np.nan,inplace=True)",
      "metadata": {
        "id": "f8337aa2-813f-4092-8d16-ab847c8af6a4",
        "trusted": true
      },
      "outputs": [],
      "execution_count": 210
    },
    {
      "id": "1c660e86-43b0-4d17-9f26-e98f36807562",
      "cell_type": "code",
      "source": "health['Blood Type'].ffill(inplace=True)",
      "metadata": {
        "id": "1c660e86-43b0-4d17-9f26-e98f36807562",
        "trusted": true
      },
      "outputs": [],
      "execution_count": 211
    },
    {
      "id": "58685d65-43c6-4f90-a1bf-de06dd4ebd06",
      "cell_type": "code",
      "source": "health.isnull().sum()",
      "metadata": {
        "colab": {
          "base_uri": "https://localhost:8080/"
        },
        "id": "58685d65-43c6-4f90-a1bf-de06dd4ebd06",
        "outputId": "5e35f43a-7145-4602-8c1c-bc6458f2344f",
        "trusted": true
      },
      "outputs": [
        {
          "execution_count": 212,
          "output_type": "execute_result",
          "data": {
            "text/plain": "Name                  0\nAge                   0\nGender                0\nBlood Type            0\nMedical Condition     0\nDate of Admission     0\nDoctor                0\nHospital              0\nInsurance Provider    0\nBilling Amount        0\nRoom Number           0\nAdmission Type        0\nDischarge Date        0\nMedication            0\nTest Results          0\ndtype: int64"
          },
          "metadata": {}
        }
      ],
      "execution_count": 212
    },
    {
      "id": "aa832e55-fba7-4ad1-a23c-1a1f539db9ab",
      "cell_type": "code",
      "source": "health['Blood Type'].unique()",
      "metadata": {
        "colab": {
          "base_uri": "https://localhost:8080/"
        },
        "id": "aa832e55-fba7-4ad1-a23c-1a1f539db9ab",
        "outputId": "702e415d-c343-46d0-812f-439b13fcec7e",
        "trusted": true
      },
      "outputs": [
        {
          "execution_count": 213,
          "output_type": "execute_result",
          "data": {
            "text/plain": "array(['O-', 'O+', 'B-', 'AB+', 'A+', 'AB-', 'A-', 'B+'], dtype=object)"
          },
          "metadata": {}
        }
      ],
      "execution_count": 213
    },
    {
      "id": "826bd052-05f1-47f9-9a82-f0a15c188ab2",
      "cell_type": "code",
      "source": "health.sample(5)",
      "metadata": {
        "colab": {
          "base_uri": "https://localhost:8080/",
          "height": 206
        },
        "id": "826bd052-05f1-47f9-9a82-f0a15c188ab2",
        "outputId": "d1c8c354-9f36-4ba0-bc2c-08d0a96652ff",
        "trusted": true
      },
      "outputs": [
        {
          "execution_count": 214,
          "output_type": "execute_result",
          "data": {
            "text/plain": "                      Name  Age  Gender Blood Type Medical Condition  \\\n4107           Ellen Mccoy   27    Male         B+          Diabetes   \n8086  Christopher Robinson   38  Female         O+          Diabetes   \n162        Jocelyn Simmons   81  Female         A-           Obesity   \n8331      Christian Bender   24  Female        AB-          Diabetes   \n7416        Sheila Woodard   18    Male        AB+          Diabetes   \n\n     Date of Admission          Doctor                    Hospital  \\\n4107        2023-09-07  Donna Mcintyre  Ferrell, Chang and Terrell   \n8086        2021-02-15      Tara Moore              Harrington PLC   \n162         2023-05-19   Vicki Merritt               Jordan-Glover   \n8331        2020-03-10    Julie Fuller            Pearson and Sons   \n7416        2021-08-19     Anna Holmes             Patterson-Brown   \n\n     Insurance Provider  Billing Amount  Room Number Admission Type  \\\n4107           Medicare    46028.226711          153       Elective   \n8086              Cigna    42636.211180          185       Elective   \n162               Aetna    36745.210455          451       Elective   \n8331              Aetna    36773.468095          467      Emergency   \n7416              Cigna    24711.070112          236         Urgent   \n\n     Discharge Date   Medication  Test Results  \n4107     2023-09-21  Paracetamol  Inconclusive  \n8086     2021-02-25      Lipitor  Inconclusive  \n162      2023-05-22      Lipitor      Abnormal  \n8331     2020-03-30      Lipitor        Normal  \n7416     2021-09-11      Lipitor      Abnormal  ",
            "text/html": "<div>\n<style scoped>\n    .dataframe tbody tr th:only-of-type {\n        vertical-align: middle;\n    }\n\n    .dataframe tbody tr th {\n        vertical-align: top;\n    }\n\n    .dataframe thead th {\n        text-align: right;\n    }\n</style>\n<table border=\"1\" class=\"dataframe\">\n  <thead>\n    <tr style=\"text-align: right;\">\n      <th></th>\n      <th>Name</th>\n      <th>Age</th>\n      <th>Gender</th>\n      <th>Blood Type</th>\n      <th>Medical Condition</th>\n      <th>Date of Admission</th>\n      <th>Doctor</th>\n      <th>Hospital</th>\n      <th>Insurance Provider</th>\n      <th>Billing Amount</th>\n      <th>Room Number</th>\n      <th>Admission Type</th>\n      <th>Discharge Date</th>\n      <th>Medication</th>\n      <th>Test Results</th>\n    </tr>\n  </thead>\n  <tbody>\n    <tr>\n      <th>4107</th>\n      <td>Ellen Mccoy</td>\n      <td>27</td>\n      <td>Male</td>\n      <td>B+</td>\n      <td>Diabetes</td>\n      <td>2023-09-07</td>\n      <td>Donna Mcintyre</td>\n      <td>Ferrell, Chang and Terrell</td>\n      <td>Medicare</td>\n      <td>46028.226711</td>\n      <td>153</td>\n      <td>Elective</td>\n      <td>2023-09-21</td>\n      <td>Paracetamol</td>\n      <td>Inconclusive</td>\n    </tr>\n    <tr>\n      <th>8086</th>\n      <td>Christopher Robinson</td>\n      <td>38</td>\n      <td>Female</td>\n      <td>O+</td>\n      <td>Diabetes</td>\n      <td>2021-02-15</td>\n      <td>Tara Moore</td>\n      <td>Harrington PLC</td>\n      <td>Cigna</td>\n      <td>42636.211180</td>\n      <td>185</td>\n      <td>Elective</td>\n      <td>2021-02-25</td>\n      <td>Lipitor</td>\n      <td>Inconclusive</td>\n    </tr>\n    <tr>\n      <th>162</th>\n      <td>Jocelyn Simmons</td>\n      <td>81</td>\n      <td>Female</td>\n      <td>A-</td>\n      <td>Obesity</td>\n      <td>2023-05-19</td>\n      <td>Vicki Merritt</td>\n      <td>Jordan-Glover</td>\n      <td>Aetna</td>\n      <td>36745.210455</td>\n      <td>451</td>\n      <td>Elective</td>\n      <td>2023-05-22</td>\n      <td>Lipitor</td>\n      <td>Abnormal</td>\n    </tr>\n    <tr>\n      <th>8331</th>\n      <td>Christian Bender</td>\n      <td>24</td>\n      <td>Female</td>\n      <td>AB-</td>\n      <td>Diabetes</td>\n      <td>2020-03-10</td>\n      <td>Julie Fuller</td>\n      <td>Pearson and Sons</td>\n      <td>Aetna</td>\n      <td>36773.468095</td>\n      <td>467</td>\n      <td>Emergency</td>\n      <td>2020-03-30</td>\n      <td>Lipitor</td>\n      <td>Normal</td>\n    </tr>\n    <tr>\n      <th>7416</th>\n      <td>Sheila Woodard</td>\n      <td>18</td>\n      <td>Male</td>\n      <td>AB+</td>\n      <td>Diabetes</td>\n      <td>2021-08-19</td>\n      <td>Anna Holmes</td>\n      <td>Patterson-Brown</td>\n      <td>Cigna</td>\n      <td>24711.070112</td>\n      <td>236</td>\n      <td>Urgent</td>\n      <td>2021-09-11</td>\n      <td>Lipitor</td>\n      <td>Abnormal</td>\n    </tr>\n  </tbody>\n</table>\n</div>"
          },
          "metadata": {}
        }
      ],
      "execution_count": 214
    },
    {
      "id": "7369dae2-1492-465d-bf0b-fb1d28dd996b",
      "cell_type": "code",
      "source": "health.dtypes",
      "metadata": {
        "colab": {
          "base_uri": "https://localhost:8080/"
        },
        "id": "7369dae2-1492-465d-bf0b-fb1d28dd996b",
        "outputId": "f1801882-76dd-4284-80e3-8ff35966fd46",
        "trusted": true
      },
      "outputs": [
        {
          "execution_count": 215,
          "output_type": "execute_result",
          "data": {
            "text/plain": "Name                   object\nAge                     int64\nGender                 object\nBlood Type             object\nMedical Condition      object\nDate of Admission      object\nDoctor                 object\nHospital               object\nInsurance Provider     object\nBilling Amount        float64\nRoom Number             int64\nAdmission Type         object\nDischarge Date         object\nMedication             object\nTest Results           object\ndtype: object"
          },
          "metadata": {}
        }
      ],
      "execution_count": 215
    },
    {
      "id": "6e9aec1d-6890-4b97-85da-031b18180788",
      "cell_type": "code",
      "source": "health.dropna(subset=['Billing Amount'],inplace=True)",
      "metadata": {
        "id": "6e9aec1d-6890-4b97-85da-031b18180788",
        "trusted": true
      },
      "outputs": [],
      "execution_count": 216
    },
    {
      "id": "af0b5813-506e-4127-88d4-463b50c0d18a",
      "cell_type": "code",
      "source": "health.isnull().sum()",
      "metadata": {
        "colab": {
          "base_uri": "https://localhost:8080/"
        },
        "id": "af0b5813-506e-4127-88d4-463b50c0d18a",
        "outputId": "d21dc743-9496-425a-c1dc-75c6eda77775",
        "trusted": true
      },
      "outputs": [
        {
          "execution_count": 217,
          "output_type": "execute_result",
          "data": {
            "text/plain": "Name                  0\nAge                   0\nGender                0\nBlood Type            0\nMedical Condition     0\nDate of Admission     0\nDoctor                0\nHospital              0\nInsurance Provider    0\nBilling Amount        0\nRoom Number           0\nAdmission Type        0\nDischarge Date        0\nMedication            0\nTest Results          0\ndtype: int64"
          },
          "metadata": {}
        }
      ],
      "execution_count": 217
    },
    {
      "id": "755be6fc-a571-4c51-822a-e1c08cbb024f",
      "cell_type": "code",
      "source": "health['Blood Type'].value_counts()",
      "metadata": {
        "colab": {
          "base_uri": "https://localhost:8080/"
        },
        "id": "755be6fc-a571-4c51-822a-e1c08cbb024f",
        "outputId": "de5d5119-9928-4ac1-e4d9-75781a1dbe79",
        "trusted": true
      },
      "outputs": [
        {
          "execution_count": 218,
          "output_type": "execute_result",
          "data": {
            "text/plain": "AB-    1275\nAB+    1258\nB-     1252\nO+     1248\nO-     1244\nB+     1244\nA+     1241\nA-     1238\nName: Blood Type, dtype: int64"
          },
          "metadata": {}
        }
      ],
      "execution_count": 218
    },
    {
      "id": "4e9184ec-81f4-49b9-957c-98a0f25ebb86",
      "cell_type": "code",
      "source": "health['Test Results'].value_counts()",
      "metadata": {
        "colab": {
          "base_uri": "https://localhost:8080/"
        },
        "id": "4e9184ec-81f4-49b9-957c-98a0f25ebb86",
        "outputId": "769fc48e-9f4a-45a9-e5a9-cb21a3a587d5",
        "trusted": true
      },
      "outputs": [
        {
          "execution_count": 219,
          "output_type": "execute_result",
          "data": {
            "text/plain": "Abnormal        3456\nInconclusive    3277\nNormal          3267\nName: Test Results, dtype: int64"
          },
          "metadata": {}
        }
      ],
      "execution_count": 219
    },
    {
      "id": "af17cef6-220e-4e94-8caf-a71b50690ced",
      "cell_type": "code",
      "source": "health.reset_index(drop=True, inplace=True)",
      "metadata": {
        "id": "af17cef6-220e-4e94-8caf-a71b50690ced",
        "trusted": true
      },
      "outputs": [],
      "execution_count": 220
    },
    {
      "id": "1011fd39-379e-4b9a-a8a6-ba71aef34ba7",
      "cell_type": "code",
      "source": "health",
      "metadata": {
        "colab": {
          "base_uri": "https://localhost:8080/",
          "height": 424
        },
        "id": "1011fd39-379e-4b9a-a8a6-ba71aef34ba7",
        "outputId": "c2c53660-c7bb-444f-a5e3-de9e2e37390b",
        "trusted": true
      },
      "outputs": [
        {
          "execution_count": 221,
          "output_type": "execute_result",
          "data": {
            "text/plain": "                      Name  Age  Gender Blood Type Medical Condition  \\\n0          Tiffany Ramirez   81  Female         O-          Diabetes   \n1              Ruben Burns   35    Male         O+            Asthma   \n2                Chad Byrd   61    Male         B-           Obesity   \n3        Antonio Frederick   49    Male         B-            Asthma   \n4      Mrs. Brandy Flowers   51    Male         O-         Arthritis   \n...                    ...  ...     ...        ...               ...   \n9995            James Hood   83    Male         A+           Obesity   \n9996       Stephanie Evans   47  Female        AB+         Arthritis   \n9997  Christopher Martinez   54    Male         B-         Arthritis   \n9998           Amanda Duke   84    Male         A+         Arthritis   \n9999             Eric King   20    Male         B-         Arthritis   \n\n     Date of Admission             Doctor                   Hospital  \\\n0           2022-11-17     Patrick Parker           Wallace-Hamilton   \n1           2023-06-01      Diane Jackson  Burke, Griffin and Cooper   \n2           2019-01-09         Paul Baker                 Walton LLC   \n3           2020-05-02     Brian Chandler                 Garcia Ltd   \n4           2021-07-09     Dustin Griffin    Jones, Brown and Murray   \n...                ...                ...                        ...   \n9995        2022-07-29       Samuel Moody   Wood, Martin and Simmons   \n9996        2022-01-06  Christopher Yates               Nash-Krueger   \n9997        2022-07-01   Robert Nicholson            Larson and Sons   \n9998        2020-02-06        Jamie Lewis               Wilson-Lyons   \n9999        2023-03-22        Tasha Avila  Torres, Young and Stewart   \n\n     Insurance Provider  Billing Amount  Room Number Admission Type  \\\n0              Medicare    37490.983364          146       Elective   \n1      UnitedHealthcare    47304.064845          404      Emergency   \n2              Medicare    36874.896997          292      Emergency   \n3              Medicare    23303.322092          480         Urgent   \n4      UnitedHealthcare    18086.344184          477         Urgent   \n...                 ...             ...          ...            ...   \n9995   UnitedHealthcare    39606.840083          110       Elective   \n9996         Blue Cross     5995.717488          244      Emergency   \n9997         Blue Cross    49559.202905          312       Elective   \n9998   UnitedHealthcare    25236.344761          420         Urgent   \n9999              Aetna    37223.965865          290      Emergency   \n\n     Discharge Date   Medication  Test Results  \n0        2022-12-01      Aspirin  Inconclusive  \n1        2023-06-15      Lipitor        Normal  \n2        2019-02-08      Lipitor        Normal  \n3        2020-05-03   Penicillin      Abnormal  \n4        2021-08-02  Paracetamol        Normal  \n...             ...          ...           ...  \n9995     2022-08-02    Ibuprofen      Abnormal  \n9996     2022-01-29    Ibuprofen        Normal  \n9997     2022-07-15    Ibuprofen        Normal  \n9998     2020-02-26   Penicillin        Normal  \n9999     2023-04-15   Penicillin      Abnormal  \n\n[10000 rows x 15 columns]",
            "text/html": "<div>\n<style scoped>\n    .dataframe tbody tr th:only-of-type {\n        vertical-align: middle;\n    }\n\n    .dataframe tbody tr th {\n        vertical-align: top;\n    }\n\n    .dataframe thead th {\n        text-align: right;\n    }\n</style>\n<table border=\"1\" class=\"dataframe\">\n  <thead>\n    <tr style=\"text-align: right;\">\n      <th></th>\n      <th>Name</th>\n      <th>Age</th>\n      <th>Gender</th>\n      <th>Blood Type</th>\n      <th>Medical Condition</th>\n      <th>Date of Admission</th>\n      <th>Doctor</th>\n      <th>Hospital</th>\n      <th>Insurance Provider</th>\n      <th>Billing Amount</th>\n      <th>Room Number</th>\n      <th>Admission Type</th>\n      <th>Discharge Date</th>\n      <th>Medication</th>\n      <th>Test Results</th>\n    </tr>\n  </thead>\n  <tbody>\n    <tr>\n      <th>0</th>\n      <td>Tiffany Ramirez</td>\n      <td>81</td>\n      <td>Female</td>\n      <td>O-</td>\n      <td>Diabetes</td>\n      <td>2022-11-17</td>\n      <td>Patrick Parker</td>\n      <td>Wallace-Hamilton</td>\n      <td>Medicare</td>\n      <td>37490.983364</td>\n      <td>146</td>\n      <td>Elective</td>\n      <td>2022-12-01</td>\n      <td>Aspirin</td>\n      <td>Inconclusive</td>\n    </tr>\n    <tr>\n      <th>1</th>\n      <td>Ruben Burns</td>\n      <td>35</td>\n      <td>Male</td>\n      <td>O+</td>\n      <td>Asthma</td>\n      <td>2023-06-01</td>\n      <td>Diane Jackson</td>\n      <td>Burke, Griffin and Cooper</td>\n      <td>UnitedHealthcare</td>\n      <td>47304.064845</td>\n      <td>404</td>\n      <td>Emergency</td>\n      <td>2023-06-15</td>\n      <td>Lipitor</td>\n      <td>Normal</td>\n    </tr>\n    <tr>\n      <th>2</th>\n      <td>Chad Byrd</td>\n      <td>61</td>\n      <td>Male</td>\n      <td>B-</td>\n      <td>Obesity</td>\n      <td>2019-01-09</td>\n      <td>Paul Baker</td>\n      <td>Walton LLC</td>\n      <td>Medicare</td>\n      <td>36874.896997</td>\n      <td>292</td>\n      <td>Emergency</td>\n      <td>2019-02-08</td>\n      <td>Lipitor</td>\n      <td>Normal</td>\n    </tr>\n    <tr>\n      <th>3</th>\n      <td>Antonio Frederick</td>\n      <td>49</td>\n      <td>Male</td>\n      <td>B-</td>\n      <td>Asthma</td>\n      <td>2020-05-02</td>\n      <td>Brian Chandler</td>\n      <td>Garcia Ltd</td>\n      <td>Medicare</td>\n      <td>23303.322092</td>\n      <td>480</td>\n      <td>Urgent</td>\n      <td>2020-05-03</td>\n      <td>Penicillin</td>\n      <td>Abnormal</td>\n    </tr>\n    <tr>\n      <th>4</th>\n      <td>Mrs. Brandy Flowers</td>\n      <td>51</td>\n      <td>Male</td>\n      <td>O-</td>\n      <td>Arthritis</td>\n      <td>2021-07-09</td>\n      <td>Dustin Griffin</td>\n      <td>Jones, Brown and Murray</td>\n      <td>UnitedHealthcare</td>\n      <td>18086.344184</td>\n      <td>477</td>\n      <td>Urgent</td>\n      <td>2021-08-02</td>\n      <td>Paracetamol</td>\n      <td>Normal</td>\n    </tr>\n    <tr>\n      <th>...</th>\n      <td>...</td>\n      <td>...</td>\n      <td>...</td>\n      <td>...</td>\n      <td>...</td>\n      <td>...</td>\n      <td>...</td>\n      <td>...</td>\n      <td>...</td>\n      <td>...</td>\n      <td>...</td>\n      <td>...</td>\n      <td>...</td>\n      <td>...</td>\n      <td>...</td>\n    </tr>\n    <tr>\n      <th>9995</th>\n      <td>James Hood</td>\n      <td>83</td>\n      <td>Male</td>\n      <td>A+</td>\n      <td>Obesity</td>\n      <td>2022-07-29</td>\n      <td>Samuel Moody</td>\n      <td>Wood, Martin and Simmons</td>\n      <td>UnitedHealthcare</td>\n      <td>39606.840083</td>\n      <td>110</td>\n      <td>Elective</td>\n      <td>2022-08-02</td>\n      <td>Ibuprofen</td>\n      <td>Abnormal</td>\n    </tr>\n    <tr>\n      <th>9996</th>\n      <td>Stephanie Evans</td>\n      <td>47</td>\n      <td>Female</td>\n      <td>AB+</td>\n      <td>Arthritis</td>\n      <td>2022-01-06</td>\n      <td>Christopher Yates</td>\n      <td>Nash-Krueger</td>\n      <td>Blue Cross</td>\n      <td>5995.717488</td>\n      <td>244</td>\n      <td>Emergency</td>\n      <td>2022-01-29</td>\n      <td>Ibuprofen</td>\n      <td>Normal</td>\n    </tr>\n    <tr>\n      <th>9997</th>\n      <td>Christopher Martinez</td>\n      <td>54</td>\n      <td>Male</td>\n      <td>B-</td>\n      <td>Arthritis</td>\n      <td>2022-07-01</td>\n      <td>Robert Nicholson</td>\n      <td>Larson and Sons</td>\n      <td>Blue Cross</td>\n      <td>49559.202905</td>\n      <td>312</td>\n      <td>Elective</td>\n      <td>2022-07-15</td>\n      <td>Ibuprofen</td>\n      <td>Normal</td>\n    </tr>\n    <tr>\n      <th>9998</th>\n      <td>Amanda Duke</td>\n      <td>84</td>\n      <td>Male</td>\n      <td>A+</td>\n      <td>Arthritis</td>\n      <td>2020-02-06</td>\n      <td>Jamie Lewis</td>\n      <td>Wilson-Lyons</td>\n      <td>UnitedHealthcare</td>\n      <td>25236.344761</td>\n      <td>420</td>\n      <td>Urgent</td>\n      <td>2020-02-26</td>\n      <td>Penicillin</td>\n      <td>Normal</td>\n    </tr>\n    <tr>\n      <th>9999</th>\n      <td>Eric King</td>\n      <td>20</td>\n      <td>Male</td>\n      <td>B-</td>\n      <td>Arthritis</td>\n      <td>2023-03-22</td>\n      <td>Tasha Avila</td>\n      <td>Torres, Young and Stewart</td>\n      <td>Aetna</td>\n      <td>37223.965865</td>\n      <td>290</td>\n      <td>Emergency</td>\n      <td>2023-04-15</td>\n      <td>Penicillin</td>\n      <td>Abnormal</td>\n    </tr>\n  </tbody>\n</table>\n<p>10000 rows × 15 columns</p>\n</div>"
          },
          "metadata": {}
        }
      ],
      "execution_count": 221
    },
    {
      "id": "c4d919ca-bac9-47b9-9561-44a74fbe9967",
      "cell_type": "code",
      "source": "health['Billing_amount_OMR'] = health['Billing Amount'] * 0.384998",
      "metadata": {
        "id": "c4d919ca-bac9-47b9-9561-44a74fbe9967",
        "trusted": true
      },
      "outputs": [],
      "execution_count": 222
    },
    {
      "id": "8000f4c8-6f44-4be3-bbdb-21bbaf44dd7c",
      "cell_type": "code",
      "source": "health.sample()",
      "metadata": {
        "colab": {
          "base_uri": "https://localhost:8080/",
          "height": 81
        },
        "id": "8000f4c8-6f44-4be3-bbdb-21bbaf44dd7c",
        "outputId": "b7890aa9-7705-4e09-a945-164dac4069eb",
        "trusted": true
      },
      "outputs": [
        {
          "execution_count": 223,
          "output_type": "execute_result",
          "data": {
            "text/plain": "               Name  Age Gender Blood Type Medical Condition  \\\n2955  Michael Smith   63   Male        AB+         Arthritis   \n\n     Date of Admission        Doctor     Hospital Insurance Provider  \\\n2955        2019-10-21  Melanie Reed  Mueller LLC              Cigna   \n\n      Billing Amount  Room Number Admission Type Discharge Date Medication  \\\n2955    30414.234532          449         Urgent     2019-10-28    Lipitor   \n\n      Test Results  Billing_amount_OMR  \n2955  Inconclusive        11709.419466  ",
            "text/html": "<div>\n<style scoped>\n    .dataframe tbody tr th:only-of-type {\n        vertical-align: middle;\n    }\n\n    .dataframe tbody tr th {\n        vertical-align: top;\n    }\n\n    .dataframe thead th {\n        text-align: right;\n    }\n</style>\n<table border=\"1\" class=\"dataframe\">\n  <thead>\n    <tr style=\"text-align: right;\">\n      <th></th>\n      <th>Name</th>\n      <th>Age</th>\n      <th>Gender</th>\n      <th>Blood Type</th>\n      <th>Medical Condition</th>\n      <th>Date of Admission</th>\n      <th>Doctor</th>\n      <th>Hospital</th>\n      <th>Insurance Provider</th>\n      <th>Billing Amount</th>\n      <th>Room Number</th>\n      <th>Admission Type</th>\n      <th>Discharge Date</th>\n      <th>Medication</th>\n      <th>Test Results</th>\n      <th>Billing_amount_OMR</th>\n    </tr>\n  </thead>\n  <tbody>\n    <tr>\n      <th>2955</th>\n      <td>Michael Smith</td>\n      <td>63</td>\n      <td>Male</td>\n      <td>AB+</td>\n      <td>Arthritis</td>\n      <td>2019-10-21</td>\n      <td>Melanie Reed</td>\n      <td>Mueller LLC</td>\n      <td>Cigna</td>\n      <td>30414.234532</td>\n      <td>449</td>\n      <td>Urgent</td>\n      <td>2019-10-28</td>\n      <td>Lipitor</td>\n      <td>Inconclusive</td>\n      <td>11709.419466</td>\n    </tr>\n  </tbody>\n</table>\n</div>"
          },
          "metadata": {}
        }
      ],
      "execution_count": 223
    },
    {
      "id": "6f017207-1573-4367-91c0-7d602ecdc399",
      "cell_type": "code",
      "source": "del(health['Billing Amount'])",
      "metadata": {
        "id": "6f017207-1573-4367-91c0-7d602ecdc399",
        "trusted": true
      },
      "outputs": [],
      "execution_count": 224
    },
    {
      "id": "e77c68e4-ff77-476c-b5e5-d596fe6d5dde",
      "cell_type": "code",
      "source": "health.sample()",
      "metadata": {
        "colab": {
          "base_uri": "https://localhost:8080/",
          "height": 81
        },
        "id": "e77c68e4-ff77-476c-b5e5-d596fe6d5dde",
        "outputId": "190f7d6b-99d4-4c6a-f64d-e7c70ba74172",
        "trusted": true
      },
      "outputs": [
        {
          "execution_count": 225,
          "output_type": "execute_result",
          "data": {
            "text/plain": "                    Name  Age Gender Blood Type Medical Condition  \\\n8181  Elizabeth Martinez   71   Male        AB+          Diabetes   \n\n     Date of Admission       Doctor      Hospital Insurance Provider  \\\n8181        2022-01-27  Cory Phelps  Carter-Davis           Medicare   \n\n      Room Number Admission Type Discharge Date Medication  Test Results  \\\n8181          372       Elective     2022-02-02    Lipitor  Inconclusive   \n\n      Billing_amount_OMR  \n8181        12224.871383  ",
            "text/html": "<div>\n<style scoped>\n    .dataframe tbody tr th:only-of-type {\n        vertical-align: middle;\n    }\n\n    .dataframe tbody tr th {\n        vertical-align: top;\n    }\n\n    .dataframe thead th {\n        text-align: right;\n    }\n</style>\n<table border=\"1\" class=\"dataframe\">\n  <thead>\n    <tr style=\"text-align: right;\">\n      <th></th>\n      <th>Name</th>\n      <th>Age</th>\n      <th>Gender</th>\n      <th>Blood Type</th>\n      <th>Medical Condition</th>\n      <th>Date of Admission</th>\n      <th>Doctor</th>\n      <th>Hospital</th>\n      <th>Insurance Provider</th>\n      <th>Room Number</th>\n      <th>Admission Type</th>\n      <th>Discharge Date</th>\n      <th>Medication</th>\n      <th>Test Results</th>\n      <th>Billing_amount_OMR</th>\n    </tr>\n  </thead>\n  <tbody>\n    <tr>\n      <th>8181</th>\n      <td>Elizabeth Martinez</td>\n      <td>71</td>\n      <td>Male</td>\n      <td>AB+</td>\n      <td>Diabetes</td>\n      <td>2022-01-27</td>\n      <td>Cory Phelps</td>\n      <td>Carter-Davis</td>\n      <td>Medicare</td>\n      <td>372</td>\n      <td>Elective</td>\n      <td>2022-02-02</td>\n      <td>Lipitor</td>\n      <td>Inconclusive</td>\n      <td>12224.871383</td>\n    </tr>\n  </tbody>\n</table>\n</div>"
          },
          "metadata": {}
        }
      ],
      "execution_count": 225
    },
    {
      "id": "34b78981-ca9c-4c93-bed4-4704de56319c",
      "cell_type": "code",
      "source": "health.groupby('Age')",
      "metadata": {
        "colab": {
          "base_uri": "https://localhost:8080/"
        },
        "id": "34b78981-ca9c-4c93-bed4-4704de56319c",
        "outputId": "a959f716-8488-4e48-91a7-1ba7039d1f71",
        "trusted": true
      },
      "outputs": [
        {
          "execution_count": 226,
          "output_type": "execute_result",
          "data": {
            "text/plain": "<pandas.core.groupby.generic.DataFrameGroupBy object at 0xdcb1af0>"
          },
          "metadata": {}
        }
      ],
      "execution_count": 226
    },
    {
      "id": "84541f6a-98fc-4551-a8c6-d7517678a4e1",
      "cell_type": "code",
      "source": "health.groupby('Age').groups",
      "metadata": {
        "colab": {
          "base_uri": "https://localhost:8080/"
        },
        "id": "84541f6a-98fc-4551-a8c6-d7517678a4e1",
        "outputId": "a2405854-f7c3-409f-d74e-09c0390cd4e5",
        "trusted": true
      },
      "outputs": [
        {
          "execution_count": 227,
          "output_type": "execute_result",
          "data": {
            "text/plain": "{18: [314, 343, 418, 424, 469, 497, 544, 610, 631, 886, 902, 1044, 1049, 1125, 1162, 1176, 1183, 1206, 1230, 1244, 1286, 1318, 1355, 1360, 1432, 1629, 1630, 1663, 1782, 1795, 1846, 1854, 1863, 1915, 1925, 1962, 1967, 2047, 2067, 2111, 2175, 2180, 2249, 2434, 2472, 2549, 2724, 2843, 2850, 2921, 2935, 2939, 2961, 2981, 3003, 3302, 3342, 3383, 3403, 3471, 3483, 3508, 3589, 3627, 3763, 4007, 4011, 4061, 4202, 4249, 4320, 4334, 4406, 4426, 4662, 4953, 4992, 5119, 5122, 5197, 5229, 5336, 5342, 5396, 5433, 5479, 5532, 5564, 5590, 5594, 5747, 5748, 5881, 5912, 5919, 6045, 6145, 6176, 6310, 6323, ...], 19: [39, 54, 113, 155, 319, 354, 396, 713, 769, 782, 800, 838, 878, 992, 1285, 1327, 1381, 1555, 1620, 1649, 1709, 1724, 1797, 1919, 2168, 2187, 2376, 2409, 2448, 2525, 2535, 2595, 2699, 2705, 2713, 2714, 2760, 2775, 2836, 2867, 2990, 3000, 3015, 3179, 3214, 3236, 3423, 3486, 3523, 3677, 3721, 3725, 3754, 3767, 3782, 3819, 3957, 3996, 4022, 4138, 4301, 4394, 4452, 4549, 4652, 4848, 4934, 4945, 4955, 4975, 5075, 5174, 5289, 5369, 5387, 5533, 5666, 5728, 5821, 5822, 5947, 6019, 6136, 6339, 6380, 6431, 6509, 6554, 6629, 6657, 6705, 6712, 6744, 6745, 6882, 7155, 7170, 7173, 7255, 7412, ...], 20: [98, 148, 153, 160, 232, 321, 452, 461, 488, 692, 707, 724, 821, 943, 944, 948, 953, 985, 1007, 1098, 1145, 1215, 1224, 1226, 1243, 1262, 1272, 1276, 1280, 1292, 1380, 1402, 1434, 1527, 1565, 1573, 1671, 1692, 1821, 1830, 1940, 2108, 2121, 2200, 2204, 2212, 2220, 2410, 2497, 2527, 2606, 2634, 2854, 2914, 3018, 3054, 3070, 3073, 3146, 3175, 3190, 3191, 3200, 3206, 3284, 3315, 3405, 3419, 3489, 3536, 3550, 3577, 3626, 3642, 3671, 3727, 3777, 3821, 3831, 3881, 4030, 4069, 4087, 4128, 4181, 4203, 4216, 4232, 4239, 4240, 4369, 4487, 4519, 4534, 4559, 4602, 4632, 4675, 4715, 4772, ...], 21: [56, 100, 115, 147, 222, 264, 495, 546, 615, 622, 694, 783, 842, 846, 852, 1061, 1095, 1128, 1220, 1304, 1313, 1314, 1333, 1421, 1479, 1506, 1526, 1544, 1591, 1809, 2002, 2008, 2037, 2192, 2217, 2235, 2274, 2299, 2327, 2375, 2383, 2552, 2565, 2635, 2834, 2924, 3069, 3192, 3203, 3341, 3429, 3468, 3481, 3488, 3609, 3611, 3636, 3673, 3731, 3746, 3857, 3923, 4000, 4339, 4365, 4554, 4628, 4655, 4716, 4732, 4818, 5031, 5090, 5199, 5225, 5273, 5451, 5493, 5568, 5646, 5699, 5737, 5751, 5841, 5879, 5961, 6040, 6174, 6195, 6346, 6366, 6383, 6437, 6439, 6471, 6544, 6633, 6710, 6725, 6751, ...], 22: [281, 291, 300, 336, 379, 382, 570, 594, 603, 936, 1055, 1119, 1124, 1184, 1487, 1635, 1670, 1754, 1800, 1812, 1844, 1891, 2071, 2114, 2177, 2219, 2225, 2297, 2561, 2578, 2660, 2736, 2771, 2826, 2912, 2917, 2919, 3237, 3251, 3337, 3418, 3436, 3601, 3734, 3834, 3867, 3941, 3942, 4079, 4192, 4446, 4453, 4660, 4668, 4966, 5344, 5381, 5437, 5601, 5696, 5846, 5943, 5969, 5979, 6089, 6095, 6359, 6420, 6492, 6495, 6540, 6573, 6582, 6620, 6643, 6691, 6709, 6714, 6741, 6802, 6843, 6938, 6951, 6960, 6986, 7036, 7182, 7375, 7399, 7595, 7649, 7707, 7725, 7739, 7871, 7897, 7947, 7972, 8176, 8283, ...], 23: [11, 17, 40, 172, 240, 312, 359, 426, 440, 478, 514, 633, 675, 805, 818, 1040, 1052, 1068, 1140, 1159, 1194, 1238, 1365, 1395, 1452, 1646, 1747, 1842, 1860, 2041, 2158, 2271, 2464, 2494, 2576, 2620, 2646, 2650, 2709, 2796, 2874, 2879, 2910, 2933, 2991, 3062, 3114, 3133, 3157, 3172, 3177, 3178, 3197, 3303, 3335, 3442, 3619, 3656, 3678, 3707, 3829, 4033, 4092, 4164, 4205, 4229, 4340, 4458, 4469, 4476, 4573, 4579, 4639, 4687, 4714, 4733, 4899, 5019, 5023, 5222, 5282, 5391, 5461, 5475, 5500, 5519, 5550, 5562, 5584, 5682, 5683, 5723, 5744, 5757, 5760, 5888, 5955, 5984, 6044, 6078, ...], 24: [166, 427, 508, 539, 582, 710, 787, 861, 922, 1013, 1141, 1148, 1178, 1301, 1373, 1376, 1403, 1406, 1522, 1568, 1571, 1638, 1684, 1752, 1806, 1871, 1991, 2034, 2050, 2052, 2055, 2255, 2278, 2313, 2521, 2730, 2811, 2832, 2948, 2975, 2995, 3056, 3092, 3108, 3286, 3334, 3387, 3477, 3614, 3764, 3793, 3823, 3913, 4043, 4044, 4058, 4255, 4258, 4348, 4383, 4438, 4450, 4551, 4601, 4609, 4613, 4615, 4635, 4805, 4922, 5084, 5114, 5142, 5150, 5207, 5424, 5632, 5761, 5792, 5805, 5825, 5834, 5866, 5965, 6059, 6086, 6235, 6262, 6332, 6493, 6778, 6890, 6949, 6975, 7043, 7049, 7169, 7362, 7405, 7502, ...], 25: [177, 235, 249, 535, 581, 760, 855, 958, 1074, 1143, 1235, 1295, 1324, 1335, 1350, 1392, 1425, 1426, 1498, 1519, 1530, 1560, 1745, 1810, 1858, 2215, 2221, 2260, 2277, 2387, 2432, 2461, 2470, 2531, 2554, 2563, 2605, 2655, 2695, 2827, 2960, 2965, 3009, 3055, 3104, 3219, 3229, 3252, 3298, 3396, 3505, 3511, 3558, 3640, 3685, 3799, 3873, 4012, 4016, 4119, 4148, 4191, 4233, 4263, 4367, 4380, 4407, 4466, 4524, 4526, 4544, 4566, 4569, 4646, 4676, 4730, 4741, 4766, 4783, 4897, 5107, 5127, 5152, 5192, 5228, 5270, 5276, 5557, 5624, 5732, 5752, 5798, 5931, 5995, 6004, 6121, 6269, 6289, 6355, 6482, ...], 26: [25, 88, 204, 229, 290, 373, 439, 458, 512, 541, 566, 658, 698, 712, 767, 771, 806, 839, 847, 876, 911, 919, 1066, 1212, 1397, 1537, 1643, 1678, 1702, 1787, 1808, 1847, 1926, 1929, 2083, 2090, 2159, 2328, 2352, 2725, 2784, 2892, 2937, 3211, 3223, 3330, 3393, 3397, 3618, 3647, 3709, 3716, 3717, 3730, 3742, 4045, 4096, 4139, 4197, 4237, 4243, 4245, 4397, 4457, 4491, 4564, 4575, 4597, 4710, 4755, 4914, 4915, 5013, 5082, 5089, 5163, 5170, 5214, 5446, 5570, 5595, 5617, 5762, 5775, 5985, 6130, 6141, 6252, 6358, 6409, 6415, 6470, 6497, 6502, 6520, 6542, 6547, 6652, 6667, 6673, ...], 27: [59, 83, 121, 271, 376, 552, 580, 629, 640, 772, 945, 982, 1070, 1265, 1332, 1430, 1488, 1492, 1550, 1596, 1714, 1824, 1828, 1892, 1938, 2087, 2132, 2329, 2343, 2351, 2456, 2505, 2584, 2586, 2641, 2669, 2682, 2754, 2865, 3029, 3035, 3052, 3152, 3174, 3512, 3576, 3600, 3824, 3847, 3860, 3889, 3906, 3934, 4099, 4107, 4135, 4169, 4254, 4299, 4354, 4357, 4381, 4669, 4679, 4702, 4704, 4744, 5016, 5121, 5306, 5317, 5337, 5689, 5883, 5903, 5978, 6003, 6006, 6009, 6187, 6242, 6278, 6343, 6458, 6517, 6679, 6880, 6906, 6928, 6995, 7003, 7138, 7421, 7524, 7614, 7645, 7863, 7908, 8037, 8071, ...], 28: [70, 161, 174, 254, 450, 474, 550, 696, 729, 891, 898, 1019, 1064, 1172, 1175, 1436, 1454, 1840, 1941, 1979, 2234, 2347, 2516, 2594, 2599, 2651, 2787, 2818, 2819, 2842, 2848, 2871, 2959, 3028, 3100, 3260, 3325, 3501, 3551, 3635, 3649, 3651, 3945, 3967, 3986, 4024, 4031, 4032, 4046, 4052, 4067, 4068, 4264, 4311, 4318, 4326, 4404, 4494, 4610, 4617, 5078, 5115, 5120, 5155, 5164, 5220, 5271, 5304, 5355, 5430, 5494, 5509, 5531, 5611, 5802, 5818, 5923, 5964, 6035, 6149, 6179, 6184, 6234, 6250, 6465, 6489, 6551, 6566, 6598, 6619, 6637, 6692, 6733, 6738, 6786, 6820, 6857, 6871, 6907, 6908, ...], 29: [131, 276, 342, 348, 485, 553, 573, 606, 620, 652, 677, 822, 909, 1014, 1072, 1105, 1150, 1205, 1227, 1229, 1247, 1343, 1375, 1399, 1423, 1529, 1661, 1708, 1711, 1733, 1878, 1911, 2039, 2202, 2282, 2345, 2371, 2392, 2454, 2770, 2799, 2809, 2810, 2909, 2973, 3023, 3102, 3132, 3182, 3322, 3328, 3371, 3422, 3439, 3479, 3575, 3584, 3608, 3874, 3886, 3932, 4053, 4059, 4071, 4132, 4224, 4238, 4250, 4414, 4431, 4440, 4443, 4456, 4603, 4656, 4723, 4735, 4779, 4808, 4824, 4898, 4949, 5022, 5027, 5040, 5058, 5061, 5081, 5104, 5153, 5205, 5260, 5330, 5348, 5418, 5428, 5544, 5546, 5620, 5729, ...], 30: [38, 106, 206, 280, 298, 575, 600, 608, 689, 1005, 1029, 1071, 1113, 1249, 1444, 1525, 1566, 1721, 1873, 1896, 1939, 1973, 2076, 2241, 2341, 2355, 2384, 2403, 2427, 2492, 2625, 2636, 2643, 2764, 2795, 2893, 2951, 2969, 3063, 3156, 3267, 3277, 3311, 3351, 3546, 3563, 3687, 3728, 3815, 3820, 3842, 3905, 3958, 3969, 3977, 4002, 4034, 4153, 4174, 4392, 4571, 4694, 4719, 4768, 4836, 4852, 4920, 4928, 4985, 5024, 5077, 5087, 5098, 5110, 5292, 5319, 5334, 5394, 5400, 5435, 5518, 5759, 5992, 6010, 6011, 6207, 6261, 6301, 6400, 6448, 6574, 6736, 6754, 6929, 7039, 7146, 7159, 7241, 7324, 7370, ...], 31: [61, 134, 269, 285, 365, 415, 532, 588, 728, 802, 872, 923, 928, 935, 952, 1030, 1062, 1115, 1191, 1213, 1255, 1445, 1531, 1631, 1771, 1823, 1859, 1912, 1936, 1996, 2036, 2118, 2239, 2305, 2306, 2321, 2372, 2417, 2445, 2468, 2559, 2626, 2637, 2673, 2918, 2977, 2984, 3022, 3043, 3089, 3117, 3143, 3239, 3372, 3412, 3580, 3605, 3662, 3705, 3740, 3779, 3805, 3869, 3971, 3979, 3990, 4039, 4088, 4146, 4200, 4296, 4305, 4327, 4479, 4490, 4672, 4721, 4757, 4793, 4872, 4918, 4921, 4986, 5045, 5053, 5080, 5105, 5130, 5145, 5213, 5308, 5324, 5370, 5380, 5473, 5482, 5543, 5552, 5576, 5653, ...], 32: [15, 72, 77, 138, 233, 234, 323, 477, 506, 517, 530, 548, 869, 963, 979, 999, 1163, 1179, 1225, 1288, 1347, 1461, 1632, 1779, 1801, 1813, 1935, 1950, 1954, 1980, 1984, 2085, 2160, 2196, 2358, 2452, 2489, 2501, 2560, 2569, 2656, 2741, 2802, 2824, 2856, 2943, 2979, 3031, 3071, 3568, 3593, 3634, 3672, 3700, 3704, 3762, 3904, 3925, 3970, 4222, 4464, 4505, 4510, 4682, 4727, 4810, 4885, 5005, 5034, 5067, 5227, 5247, 5316, 5318, 5470, 5634, 5687, 5742, 5743, 5789, 5796, 5819, 5935, 5963, 6257, 6273, 6298, 6367, 6384, 6434, 6447, 6579, 6580, 6589, 6636, 6983, 7023, 7157, 7208, 7256, ...], 33: [8, 23, 34, 92, 282, 305, 306, 451, 565, 591, 704, 752, 785, 811, 976, 983, 989, 1106, 1321, 1322, 1361, 1362, 1412, 1598, 1626, 1695, 1704, 1838, 1875, 1930, 1968, 2011, 2084, 2110, 2166, 2197, 2199, 2400, 2467, 2503, 2598, 2712, 2748, 2894, 2929, 2964, 2992, 3004, 3046, 3339, 3438, 3616, 3845, 4094, 4184, 4288, 4297, 4425, 4454, 4612, 4665, 4688, 4706, 4737, 4760, 4881, 5052, 5129, 5148, 5240, 5245, 5252, 5305, 5363, 5379, 5410, 5540, 5606, 5673, 5892, 6046, 6258, 6260, 6276, 6311, 6352, 6393, 6464, 6545, 6603, 6653, 6654, 6688, 6719, 6750, 6771, 6772, 6830, 6945, 7040, ...], 34: [44, 78, 81, 169, 277, 299, 413, 420, 518, 722, 794, 820, 879, 892, 899, 1031, 1056, 1075, 1086, 1166, 1177, 1396, 1419, 1422, 1536, 1924, 1976, 2042, 2057, 2095, 2231, 2238, 2261, 2465, 2524, 2580, 2645, 2706, 2732, 2829, 2837, 2985, 3042, 3139, 3148, 3373, 3384, 3425, 3454, 3455, 3532, 3564, 3825, 3838, 3912, 4121, 4141, 4248, 4310, 4312, 4537, 4625, 4641, 4734, 4830, 4963, 5025, 5208, 5224, 5343, 5356, 5413, 5504, 5513, 5609, 5681, 5734, 5750, 5766, 5849, 5900, 6005, 6015, 6338, 6516, 6630, 6678, 6730, 6976, 6989, 6994, 7044, 7059, 7107, 7229, 7404, 7464, 7509, 7696, 7729, ...], 35: [1, 29, 85, 119, 122, 197, 265, 340, 383, 391, 399, 422, 483, 562, 571, 628, 734, 799, 803, 853, 874, 913, 1246, 1251, 1264, 1543, 1667, 1746, 1819, 1900, 1988, 2058, 2116, 2127, 2144, 2179, 2191, 2308, 2395, 2398, 2477, 2564, 2630, 2654, 2679, 2708, 2769, 2793, 2852, 2859, 2950, 2998, 3039, 3077, 3155, 3163, 3168, 3217, 3221, 3241, 3247, 3324, 3431, 3554, 3620, 3661, 3665, 3693, 3729, 3770, 3775, 3827, 3870, 3877, 3944, 3960, 4081, 4101, 4221, 4279, 4283, 4322, 4358, 4398, 4434, 4435, 4448, 4499, 4509, 4616, 4623, 4701, 4729, 4882, 4950, 4988, 5161, 5231, 5401, 5402, ...], 36: [129, 142, 212, 294, 349, 380, 467, 516, 632, 667, 676, 706, 749, 780, 810, 881, 964, 969, 1006, 1046, 1065, 1101, 1290, 1349, 1413, 1438, 1521, 1576, 1586, 1595, 1609, 1639, 1690, 1783, 1957, 2021, 2063, 2183, 2290, 2302, 2332, 2405, 2537, 2570, 2640, 2648, 2715, 2752, 2860, 2885, 2945, 2957, 2987, 3034, 3121, 3134, 3208, 3346, 3378, 3448, 3542, 3544, 3570, 3573, 3694, 3703, 3713, 3765, 3772, 3798, 3808, 4103, 4173, 4193, 4230, 4261, 4308, 4345, 4356, 4393, 4533, 4555, 4563, 4576, 4605, 4685, 4708, 4751, 4908, 4943, 4967, 5124, 5323, 5335, 5346, 5364, 5403, 5495, 5507, 5514, ...], 37: [30, 47, 108, 200, 207, 257, 283, 326, 327, 448, 470, 511, 586, 616, 644, 711, 889, 895, 1012, 1223, 1242, 1369, 1464, 1496, 1510, 1512, 1561, 1611, 1665, 1720, 1759, 1781, 1784, 1944, 1955, 1970, 1992, 2080, 2154, 2173, 2195, 2286, 2304, 2367, 2422, 2433, 2631, 2861, 2916, 2934, 2938, 2940, 2968, 3038, 3263, 3280, 3355, 3362, 3452, 3519, 3525, 3537, 3679, 3711, 3723, 3832, 3855, 3865, 3882, 3920, 4109, 4111, 4127, 4136, 4161, 4294, 4377, 4385, 4481, 4482, 4788, 4816, 4825, 4829, 4996, 5109, 5167, 5202, 5226, 5322, 5358, 5623, 5887, 5907, 6001, 6052, 6061, 6109, 6119, 6125, ...], 38: [69, 96, 101, 167, 228, 317, 490, 551, 587, 809, 868, 870, 893, 959, 1069, 1117, 1277, 1311, 1357, 1470, 1471, 1489, 1523, 1533, 1538, 1602, 1698, 1780, 1788, 1839, 1872, 1907, 1947, 1987, 2146, 2163, 2266, 2295, 2344, 2430, 2550, 2675, 2678, 2698, 2734, 2765, 2777, 2789, 2820, 2857, 2927, 2956, 2974, 3001, 3107, 3249, 3306, 3380, 3445, 3450, 3458, 3515, 3521, 3545, 3603, 3624, 3720, 3722, 3737, 3903, 3983, 3988, 3998, 4037, 4041, 4050, 4281, 4402, 4596, 4620, 4718, 4839, 5096, 5173, 5201, 5217, 5221, 5288, 5427, 5456, 5471, 5522, 5660, 5769, 5904, 5942, 6060, 6070, 6110, 6220, ...], 39: [9, 238, 279, 431, 531, 567, 680, 927, 975, 1043, 1189, 1237, 1240, 1341, 1429, 1467, 1480, 1483, 1505, 1642, 1650, 1651, 1865, 1906, 1932, 1937, 1965, 2000, 2099, 2193, 2208, 2264, 2322, 2361, 2435, 2514, 2568, 2579, 2589, 2742, 3180, 3285, 3308, 3388, 3547, 3667, 3697, 3776, 3878, 3879, 3939, 4006, 4078, 4105, 4172, 4179, 4278, 4430, 4484, 4503, 4567, 4621, 4753, 4778, 4903, 5010, 5147, 5203, 5233, 5235, 5248, 5290, 5368, 5468, 5556, 5560, 5605, 5610, 5657, 5833, 5851, 5855, 5916, 6012, 6208, 6221, 6375, 6428, 6593, 6677, 6755, 6759, 6824, 6833, 6853, 6856, 6876, 6943, 6953, 7000, ...], 40: [126, 145, 182, 210, 268, 346, 419, 505, 626, 672, 755, 887, 956, 970, 1057, 1058, 1190, 1405, 1654, 1672, 1889, 1999, 2147, 2262, 2359, 2426, 2475, 2551, 2674, 2681, 2686, 2746, 2790, 2949, 2967, 3151, 3204, 3248, 3386, 3441, 3527, 3597, 3604, 3774, 3813, 3921, 3982, 3987, 4023, 4040, 4077, 4124, 4220, 4324, 4341, 4346, 4351, 4473, 4496, 4541, 4633, 4699, 4858, 4862, 4990, 5051, 5116, 5139, 5185, 5218, 5259, 5287, 5388, 5526, 5535, 5558, 5569, 5593, 5731, 5772, 5807, 5850, 5921, 6057, 6072, 6281, 6350, 6356, 6394, 6421, 6442, 6487, 6563, 6584, 6612, 6721, 6740, 6798, 6968, 6972, ...], 41: [5, 102, 128, 209, 225, 248, 250, 351, 547, 578, 617, 647, 912, 929, 937, 950, 1004, 1050, 1080, 1133, 1142, 1250, 1253, 1354, 1398, 1574, 1674, 1766, 1805, 1881, 1920, 2012, 2069, 2211, 2216, 2251, 2252, 2269, 2324, 2364, 2365, 2441, 2458, 2562, 2573, 3013, 3111, 3262, 3301, 3520, 3784, 3898, 3989, 4102, 4378, 4429, 4483, 4485, 4506, 4507, 4558, 4572, 4777, 4798, 4844, 4873, 4889, 4929, 5049, 5126, 5216, 5232, 5244, 5353, 5360, 5415, 5422, 5440, 5464, 5511, 5735, 5859, 5886, 5944, 5960, 5971, 6030, 6123, 6160, 6182, 6246, 6363, 6386, 6425, 6588, 6616, 6770, 6782, 6839, 6957, ...], 42: [62, 65, 150, 194, 195, 214, 303, 311, 325, 330, 345, 423, 472, 536, 563, 621, 1008, 1009, 1017, 1090, 1161, 1197, 1308, 1400, 1450, 1468, 1637, 1689, 1696, 1793, 1818, 1905, 1956, 1974, 1977, 2053, 2073, 2074, 2294, 2339, 2431, 2463, 2478, 2726, 2801, 2849, 2913, 2932, 3014, 3017, 3074, 3080, 3128, 3300, 3332, 3363, 3428, 3440, 3652, 3681, 3690, 3708, 3771, 3872, 3875, 3902, 3927, 3955, 3966, 4089, 4183, 4209, 4257, 4325, 4329, 4389, 4561, 4577, 4607, 4711, 4752, 4814, 4911, 4924, 4952, 4976, 4977, 5003, 5036, 5294, 5506, 5588, 5600, 5614, 5741, 5862, 5927, 6013, 6151, 6642, ...], 43: [76, 124, 154, 230, 295, 390, 468, 480, 500, 515, 669, 682, 745, 1026, 1028, 1034, 1116, 1228, 1267, 1284, 1414, 1451, 1495, 1594, 1804, 1816, 1843, 1909, 2001, 2046, 2051, 2105, 2182, 2190, 2218, 2276, 2402, 2451, 2582, 2624, 2739, 2753, 2815, 2923, 2988, 3051, 3099, 3209, 3224, 3314, 3509, 3513, 3748, 3756, 4083, 4084, 4198, 4449, 4532, 4583, 4629, 4634, 4644, 4667, 4762, 4776, 4819, 4821, 4827, 4886, 4969, 5069, 5112, 5210, 5331, 5350, 5354, 5382, 5438, 5536, 5586, 6043, 6191, 6219, 6249, 6256, 6308, 6313, 6369, 6413, 6422, 6494, 6596, 6731, 6780, 6834, 6883, 6969, 7072, 7077, ...], 44: [95, 293, 360, 398, 402, 577, 726, 743, 841, 932, 1087, 1356, 1486, 1552, 1558, 1628, 1785, 1798, 1959, 2060, 2152, 2336, 2542, 2590, 2628, 2661, 2756, 2855, 2873, 2901, 3006, 3049, 3113, 3149, 3194, 3266, 3273, 3292, 3349, 3478, 3517, 3669, 3757, 3839, 3937, 3973, 3991, 4171, 4214, 4319, 4359, 4399, 4467, 4486, 4516, 4560, 4604, 4650, 4651, 4797, 4801, 4948, 5028, 5030, 5102, 5158, 5280, 5311, 5351, 5467, 5534, 5597, 5691, 5704, 5814, 5826, 5973, 6155, 6303, 6304, 6344, 6347, 6449, 6515, 6581, 6646, 6681, 6746, 6822, 6915, 6981, 7015, 7225, 7246, 7263, 7279, 7438, 7450, 7521, 7541, ...], 45: [10, 184, 185, 208, 239, 378, 473, 499, 612, 662, 673, 685, 695, 758, 786, 850, 860, 915, 1097, 1108, 1127, 1281, 1334, 1389, 1465, 1931, 2023, 2117, 2149, 2232, 2258, 2298, 2311, 2323, 2498, 2533, 2733, 2942, 3060, 3144, 3154, 3243, 3375, 3650, 3675, 3698, 3741, 3778, 3791, 3965, 4019, 4066, 4086, 4117, 4177, 4512, 4588, 4645, 4671, 4785, 4846, 5041, 5118, 5188, 5431, 5443, 5575, 5616, 5650, 5717, 5808, 5911, 6027, 6147, 6357, 6401, 6453, 6587, 6684, 6696, 6873, 6875, 6946, 6964, 7087, 7181, 7247, 7347, 7384, 7392, 7419, 7601, 7690, 7691, 7723, 7881, 7910, 8230, 8258, 8354, ...], 46: [42, 123, 125, 136, 275, 284, 636, 661, 715, 793, 840, 1022, 1139, 1196, 1216, 1234, 1270, 1302, 1417, 1501, 1502, 1593, 1666, 1725, 1732, 1770, 1910, 1916, 1969, 2079, 2382, 2404, 2735, 2807, 2831, 2864, 2996, 3457, 3485, 3522, 3625, 3629, 3682, 3689, 3712, 3810, 3837, 3928, 4015, 4268, 4277, 4331, 4338, 4361, 4370, 4411, 4546, 4638, 4653, 4674, 4703, 4763, 4782, 4842, 4991, 5015, 5066, 5097, 5141, 5187, 5198, 5320, 5384, 5485, 5571, 5608, 5671, 5700, 5804, 5806, 5817, 5827, 5872, 5876, 5932, 5981, 6039, 6071, 6177, 6294, 6309, 6312, 6320, 6370, 6416, 6707, 6790, 6812, 6930, 6937, ...], 47: [50, 111, 151, 187, 341, 389, 406, 534, 776, 977, 1000, 1217, 1371, 1383, 1449, 1572, 1726, 1877, 2172, 2243, 2309, 2335, 2366, 2449, 2486, 2672, 2785, 2805, 2813, 2841, 2851, 2869, 2972, 3045, 3083, 3126, 3195, 3290, 3376, 3426, 3449, 3500, 3599, 3630, 3641, 3755, 3787, 3863, 3864, 3918, 3943, 4021, 4180, 4217, 4477, 4626, 4806, 4832, 4833, 4837, 4912, 4946, 5149, 5286, 5297, 5347, 5374, 5399, 5445, 5477, 5587, 5708, 5871, 5954, 6248, 6253, 6265, 6408, 6444, 6455, 6478, 6490, 6626, 6634, 6670, 6708, 6899, 6924, 7053, 7080, 7168, 7349, 7460, 7687, 7793, 7995, 8017, 8022, 8064, 8095, ...], 48: [43, 46, 82, 186, 237, 266, 337, 555, 619, 648, 666, 720, 727, 778, 784, 884, 1154, 1158, 1263, 1294, 1306, 1315, 1323, 1330, 1589, 1599, 1603, 1681, 1756, 1845, 2061, 2088, 2139, 2169, 2213, 2273, 2413, 2424, 2443, 2481, 2692, 2806, 2817, 2840, 2878, 2896, 2926, 3136, 3145, 3158, 3233, 3296, 3307, 3338, 3411, 3420, 3569, 3781, 3790, 3804, 3826, 3897, 4201, 4349, 4433, 4480, 4522, 4527, 4578, 4592, 4606, 4648, 4713, 4722, 4817, 4838, 4901, 4906, 4907, 4956, 5059, 5140, 5176, 5182, 5186, 5272, 5296, 5333, 5452, 5627, 5643, 5652, 5688, 5703, 5771, 5835, 5867, 6023, 6103, 6190, ...], 49: [3, 143, 410, 1092, 1114, 1340, 1374, 1418, 1420, 1474, 1569, 1587, 1683, 1758, 1764, 1768, 1786, 1827, 1918, 1942, 1971, 1986, 2005, 2151, 2353, 2363, 2436, 2507, 2511, 2618, 2639, 2677, 2828, 2830, 2844, 2898, 2963, 3011, 3088, 3097, 3171, 3255, 3364, 3416, 3579, 3598, 3610, 3843, 3849, 3924, 3949, 4001, 4090, 4115, 4317, 4375, 4403, 4531, 4599, 4689, 4693, 4787, 4870, 4891, 4892, 4909, 4937, 5073, 5103, 5132, 5162, 5209, 5389, 5397, 5684, 5697, 5758, 5891, 5962, 6025, 6041, 6167, 6215, 6245, 6263, 6264, 6361, 6396, 6467, 6474, 6556, 6591, 6716, 6784, 6813, 6844, 7104, 7129, 7172, 7236, ...], 50: [252, 361, 381, 442, 444, 455, 522, 653, 721, 761, 857, 865, 905, 1042, 1104, 1202, 1248, 1457, 1490, 1614, 1621, 1742, 1848, 2056, 2098, 2113, 2414, 2425, 2459, 2462, 2529, 2670, 2693, 2701, 2925, 2994, 3185, 3215, 3231, 3309, 3326, 3370, 3447, 3504, 3534, 3612, 3664, 3891, 3997, 4025, 4129, 4234, 4235, 4306, 4335, 4422, 4624, 4692, 4759, 4823, 4840, 4864, 4989, 5026, 5055, 5106, 5156, 5169, 5285, 5434, 5537, 5820, 5852, 5901, 5929, 5999, 6143, 6165, 6295, 6348, 6403, 6452, 6498, 6661, 6672, 6757, 6818, 6913, 6962, 7047, 7100, 7198, 7221, 7230, 7287, 7345, 7391, 7547, 7556, 7564, ...], 51: [4, 22, 33, 79, 261, 273, 334, 335, 377, 414, 520, 625, 866, 867, 920, 925, 987, 1083, 1084, 1096, 1099, 1137, 1319, 1363, 1439, 1453, 1559, 1585, 1592, 1688, 1760, 1772, 1864, 1914, 1928, 2013, 2028, 2043, 2081, 2150, 2247, 2337, 2338, 2538, 2600, 2666, 2667, 2694, 2731, 2751, 2759, 2839, 2884, 2931, 3030, 3078, 3120, 3310, 3360, 3417, 3467, 3516, 3565, 3574, 3594, 3753, 3780, 3876, 4038, 4060, 4116, 4298, 4314, 4379, 4388, 4461, 4658, 4664, 4731, 4866, 4919, 5044, 5284, 5307, 5321, 5491, 5517, 5528, 5578, 5685, 5718, 5770, 5829, 5842, 6063, 6099, 6102, 6122, 6159, 6211, ...], 52: [198, 219, 259, 302, 313, 316, 403, 429, 441, 487, 498, 623, 627, 687, 753, 765, 829, 848, 906, 1002, 1110, 1131, 1219, 1303, 1331, 1424, 1437, 1579, 1882, 2101, 2257, 2421, 2446, 2487, 2657, 2761, 2782, 2788, 2866, 3076, 3137, 3356, 3368, 3535, 3586, 3766, 3919, 4149, 4210, 4282, 4284, 4302, 4374, 4545, 4557, 4614, 4657, 4663, 4678, 4740, 4780, 4826, 4855, 4925, 5032, 5037, 5047, 5138, 5160, 5172, 5190, 5212, 5365, 5409, 5658, 5672, 5756, 5816, 5890, 5956, 6062, 6116, 6156, 6201, 6317, 6351, 6360, 6414, 6534, 6539, 6604, 6663, 6668, 6787, 6815, 6826, 6845, 6862, 6896, 6912, ...], 53: [135, 191, 227, 287, 358, 364, 407, 435, 528, 705, 738, 763, 774, 938, 940, 947, 961, 1032, 1060, 1152, 1153, 1261, 1296, 1378, 1442, 1504, 1508, 1534, 1556, 1615, 1645, 1659, 1703, 1765, 1879, 2035, 2048, 2075, 2131, 2240, 2320, 2519, 2534, 2543, 2596, 2633, 2689, 2718, 2845, 2890, 2930, 3059, 3141, 3166, 3205, 3317, 3344, 3540, 3648, 3686, 3853, 3887, 3896, 3947, 3985, 4035, 4054, 4082, 4120, 4122, 4156, 4262, 4285, 4376, 4513, 4586, 4593, 4972, 5074, 5092, 5094, 5108, 5223, 5230, 5257, 5293, 5371, 5419, 5527, 5538, 5545, 5573, 5579, 5622, 5642, 5677, 5701, 5783, 5794, 5840, ...], 54: [24, 170, 196, 215, 217, 221, 288, 320, 397, 445, 486, 502, 509, 533, 538, 651, 716, 719, 789, 808, 903, 1048, 1053, 1123, 1260, 1482, 1604, 1700, 1753, 1791, 1832, 1856, 1886, 1887, 1901, 1946, 2017, 2153, 2162, 2303, 2457, 2544, 2567, 2744, 2747, 2876, 2895, 2952, 2953, 3040, 3336, 3361, 3456, 3548, 3559, 3736, 3803, 3895, 4125, 4247, 4287, 4410, 4471, 4500, 4504, 4515, 4552, 4598, 4681, 4712, 4774, 4878, 4981, 5004, 5008, 5166, 5181, 5357, 5405, 5499, 5553, 5572, 5637, 5736, 5739, 5784, 5856, 5894, 5898, 6113, 6129, 6282, 6430, 6625, 6638, 6749, 6810, 6848, 6999, 7149, ...], 55: [7, 20, 109, 133, 175, 189, 324, 363, 369, 370, 412, 437, 583, 737, 797, 851, 924, 1038, 1076, 1339, 1515, 1617, 1641, 1673, 1699, 1799, 1893, 1895, 1898, 1904, 1943, 1952, 1997, 2004, 2097, 2106, 2129, 2164, 2316, 2439, 2442, 2473, 2490, 2513, 2520, 2749, 2778, 2816, 2880, 2920, 2982, 3027, 3075, 3122, 3138, 3227, 3367, 3399, 3401, 3437, 3453, 3674, 3844, 4013, 4143, 4206, 4251, 4271, 4293, 4336, 4455, 4691, 4720, 4795, 4815, 4822, 4849, 4883, 4905, 4936, 4994, 5014, 5029, 5043, 5099, 5134, 5193, 5315, 5362, 5450, 5462, 5472, 5498, 5502, 5510, 5628, 5690, 5790, 5813, 5938, ...], 56: [28, 63, 75, 86, 112, 146, 263, 385, 482, 559, 609, 663, 741, 748, 773, 814, 849, 882, 946, 1020, 1067, 1207, 1222, 1259, 1326, 1382, 1481, 1539, 1761, 1834, 1835, 1869, 1963, 2030, 2124, 2143, 2157, 2244, 2377, 2406, 2493, 2509, 2659, 2664, 2721, 2903, 2983, 3082, 3091, 3105, 3159, 3181, 3246, 3253, 3271, 3475, 3490, 3567, 3607, 3621, 3789, 4026, 4126, 4493, 4637, 4690, 4726, 4767, 4931, 5001, 5057, 5071, 5083, 5275, 5340, 5345, 5458, 5460, 5541, 5602, 5625, 5777, 5787, 5809, 5878, 5882, 6002, 6381, 6432, 6511, 6541, 6583, 6628, 6703, 6816, 6849, 6980, 7011, 7086, 7123, ...], 57: [53, 73, 243, 258, 262, 310, 355, 366, 367, 374, 400, 408, 537, 585, 708, 807, 1033, 1198, 1353, 1575, 1613, 1625, 1682, 1729, 1870, 1884, 1949, 1975, 2161, 2167, 2210, 2230, 2349, 2419, 2499, 2522, 2581, 2602, 2609, 2668, 2690, 2738, 2763, 2772, 2928, 3123, 3212, 3222, 3392, 3498, 3596, 3633, 3639, 3710, 3812, 3859, 3866, 3940, 3950, 3963, 4004, 4036, 4130, 4145, 4242, 4270, 4290, 4300, 4342, 4424, 4543, 4565, 4631, 4761, 4802, 4861, 5012, 5046, 5133, 5143, 5175, 5367, 5383, 5412, 5612, 5638, 5641, 5674, 5811, 5908, 5998, 6144, 6178, 6188, 6200, 6218, 6225, 6232, 6328, 6354, ...], 58: [301, 432, 513, 529, 858, 1018, 1073, 1241, 1298, 1393, 1427, 1460, 1469, 1517, 1546, 1557, 1583, 1623, 1712, 1743, 1769, 1921, 2033, 2044, 2115, 2130, 2194, 2248, 2292, 2325, 2360, 2416, 2482, 2496, 2592, 2671, 2762, 2838, 3002, 3033, 3098, 3228, 3320, 3366, 3374, 3421, 3493, 3494, 3496, 3533, 3538, 3643, 3807, 3811, 3835, 3946, 4017, 4187, 4204, 4218, 4227, 4390, 4416, 4459, 4548, 4585, 4677, 4728, 4750, 4809, 4811, 4890, 4910, 4917, 5136, 5157, 5171, 5277, 5386, 5392, 5423, 5483, 5492, 5515, 5639, 5661, 5664, 5721, 5765, 5810, 5880, 5988, 6107, 6132, 6166, 6209, 6398, 6418, 6496, 6532, ...], 59: [114, 137, 308, 357, 433, 456, 459, 494, 526, 576, 596, 638, 642, 701, 754, 825, 885, 896, 996, 1023, 1390, 1431, 1456, 1516, 1548, 1584, 1590, 1610, 1723, 1822, 1908, 1948, 2018, 2066, 2120, 2186, 2275, 2354, 2428, 2429, 2585, 2588, 2613, 2658, 2683, 2727, 2758, 2822, 2847, 2889, 2922, 2978, 2993, 3032, 3037, 3041, 3072, 3202, 3232, 3268, 3287, 3415, 3526, 3531, 3560, 3571, 3591, 3884, 3894, 3910, 3926, 3938, 3992, 4106, 4140, 4162, 4176, 4226, 4241, 4291, 4313, 4405, 4409, 4420, 4488, 4781, 4807, 4939, 4983, 4997, 5000, 5006, 5035, 5137, 5341, 5454, 5521, 5524, 5547, 5566, ...], 60: [51, 64, 211, 218, 393, 447, 484, 579, 670, 751, 770, 863, 890, 926, 1195, 1252, 1309, 1336, 1391, 1497, 1612, 1717, 1727, 1735, 1750, 1776, 1778, 1790, 1861, 2026, 2184, 2206, 2207, 2270, 2397, 2438, 2572, 2707, 2723, 2755, 2803, 2833, 2882, 2904, 3299, 3304, 3562, 3583, 3691, 3828, 3883, 3892, 3911, 4062, 4131, 4213, 4412, 4465, 4535, 4649, 4666, 4673, 4791, 4895, 4959, 4999, 5065, 5267, 5395, 5417, 5426, 5449, 5480, 5618, 5649, 5791, 5793, 5828, 5874, 5895, 5958, 6028, 6034, 6076, 6126, 6172, 6205, 6287, 6314, 6552, 6595, 6608, 6645, 6658, 6840, 6963, 6979, 7005, 7064, 7069, ...], 61: [2, 55, 58, 110, 193, 231, 255, 375, 454, 556, 558, 584, 714, 731, 759, 856, 967, 1047, 1130, 1170, 1181, 1208, 1221, 1370, 1509, 1524, 1542, 1710, 1734, 1825, 1849, 1888, 1953, 2102, 2136, 2142, 2233, 2331, 2483, 2868, 2958, 2986, 3103, 3165, 3198, 3210, 3216, 3270, 3274, 3409, 3470, 3524, 3592, 3602, 3615, 3638, 3739, 3744, 3788, 3794, 3796, 3846, 3850, 3908, 3962, 3981, 4014, 4097, 4195, 4267, 4292, 4350, 4366, 4391, 4444, 4568, 4587, 4589, 4608, 4742, 4859, 4868, 4893, 4961, 5111, 5195, 5378, 5393, 5416, 5420, 5453, 5640, 5659, 5788, 5854, 5939, 5970, 6085, 6194, 6286, ...], 62: [192, 199, 220, 246, 270, 292, 568, 646, 702, 703, 733, 740, 790, 815, 816, 871, 907, 941, 1045, 1051, 1077, 1201, 1203, 1377, 1455, 1540, 1549, 1564, 1653, 1739, 1740, 1807, 1841, 1867, 1933, 2045, 2119, 2245, 2253, 2265, 2288, 2293, 2373, 2502, 2622, 2745, 2757, 2980, 3066, 3147, 3250, 3258, 3329, 3385, 3410, 3553, 3556, 3660, 3684, 3692, 3758, 3933, 3948, 3956, 4047, 4152, 4199, 4328, 4353, 4368, 4418, 4436, 4442, 4475, 4518, 4786, 4865, 4896, 4965, 4987, 5017, 5281, 5295, 5325, 5429, 5459, 5603, 5607, 5644, 5709, 5738, 5801, 5838, 5839, 6053, 6108, 6139, 6280, 6297, 6336, ...], 63: [289, 466, 507, 601, 688, 834, 933, 942, 949, 954, 1003, 1027, 1036, 1094, 1156, 1372, 1435, 1472, 1503, 1567, 1606, 1773, 1789, 1894, 2015, 2156, 2222, 2229, 2415, 2418, 2500, 2548, 2575, 2629, 2743, 2941, 2955, 3061, 3135, 3199, 3213, 3226, 3269, 3318, 3347, 3406, 3435, 3473, 3474, 3514, 3578, 3588, 3637, 3714, 3732, 3745, 3871, 3931, 3968, 4009, 4028, 4133, 4185, 4253, 4472, 4514, 4520, 4523, 4770, 4789, 4813, 4933, 4942, 4962, 5039, 5062, 5302, 5332, 5338, 5478, 5645, 5705, 5720, 5786, 5905, 5983, 5987, 6024, 6080, 6114, 6140, 6233, 6483, 6793, 6868, 6987, 6988, 7082, 7151, 7243, ...], 64: [16, 105, 117, 165, 181, 386, 479, 618, 832, 914, 980, 1054, 1232, 1271, 1337, 1379, 1466, 1554, 1669, 1716, 1833, 1855, 2038, 2049, 2070, 2078, 2214, 2285, 2368, 2381, 2391, 2485, 2532, 2558, 2566, 2716, 2800, 2899, 2900, 2954, 3024, 3057, 3090, 3170, 3187, 3207, 3218, 3220, 3275, 3381, 3382, 3427, 3460, 3510, 3528, 3581, 3659, 3680, 4020, 4252, 4332, 4525, 4542, 4595, 4812, 4944, 4979, 5072, 5113, 5279, 5523, 5539, 5667, 5693, 5715, 5763, 5930, 6049, 6097, 6158, 6192, 6196, 6238, 6270, 6333, 6376, 6514, 6594, 6601, 6765, 7101, 7108, 7152, 7253, 7322, 7330, 7403, 7616, 7659, 7667, ...], 65: [14, 120, 149, 159, 244, 446, 504, 569, 634, 655, 693, 750, 795, 981, 998, 1103, 1164, 1165, 1282, 1283, 1358, 1408, 1655, 1687, 1728, 1794, 1837, 1857, 2122, 2140, 2148, 2201, 2227, 2267, 2281, 2342, 2447, 2528, 2556, 2577, 2587, 2642, 2676, 2710, 2720, 2846, 2858, 2906, 3053, 3238, 3265, 3644, 3646, 3666, 3900, 3907, 3964, 4048, 4055, 4076, 4112, 4208, 4212, 4315, 4352, 4387, 4445, 4636, 4941, 4951, 5018, 5085, 5200, 5274, 5309, 5312, 5326, 5375, 5376, 5436, 5476, 5484, 5486, 5512, 5630, 5755, 5857, 5946, 5950, 6074, 6124, 6170, 6512, 6530, 6550, 6578, 6640, 6651, 6832, 6872, ...], 66: [18, 74, 156, 190, 226, 256, 322, 353, 430, 656, 739, 777, 781, 828, 1192, 1291, 1316, 1478, 1500, 1601, 1627, 1677, 1744, 2009, 2022, 2093, 2176, 2348, 2350, 2369, 2420, 2583, 2597, 2603, 2610, 2697, 2897, 2908, 3048, 3058, 3127, 3188, 3289, 3357, 3391, 3434, 3507, 3530, 3541, 3549, 3552, 3606, 3622, 3645, 3653, 3769, 3786, 3822, 3840, 4175, 4178, 4196, 4275, 4303, 4307, 4415, 4497, 4553, 4611, 4659, 4707, 4875, 4879, 4932, 4954, 4993, 5009, 5060, 5091, 5206, 5234, 5256, 5373, 5651, 5670, 5676, 5914, 5917, 5941, 5952, 5974, 6031, 6111, 6247, 6292, 6316, 6438, 6454, 6518, 6602, ...], 67: [91, 118, 188, 272, 561, 604, 624, 654, 660, 788, 1015, 1079, 1173, 1209, 1236, 1268, 1328, 1416, 1485, 1520, 1528, 1660, 1757, 1862, 2092, 2104, 2109, 2170, 2203, 2223, 2254, 2340, 2389, 2571, 2574, 2619, 2647, 2652, 2737, 3044, 3240, 3291, 3444, 3464, 3657, 3696, 3836, 3854, 3916, 4118, 4269, 4323, 4373, 4725, 4887, 4927, 5291, 5314, 5503, 5508, 5555, 5574, 5591, 5711, 5831, 5972, 5993, 6037, 6087, 6098, 6101, 6128, 6150, 6152, 6164, 6224, 6284, 6372, 6433, 6488, 6503, 6525, 6618, 6622, 6659, 6693, 6728, 6881, 6888, 6903, 6973, 6990, 7025, 7093, 7118, 7142, 7148, 7257, 7289, 7420, ...], 68: [60, 171, 183, 331, 465, 602, 637, 697, 700, 779, 812, 894, 971, 1001, 1011, 1035, 1078, 1120, 1256, 1287, 1359, 1433, 1476, 1477, 1494, 1535, 1618, 1644, 1731, 1738, 1751, 1777, 1850, 1934, 1964, 2059, 2137, 2165, 2226, 2250, 2268, 2393, 2460, 2466, 2515, 2627, 2750, 2804, 2812, 2853, 2936, 3096, 3150, 3196, 3331, 3353, 3390, 3424, 3466, 3701, 3706, 3816, 3852, 3909, 3952, 4166, 4194, 4371, 4408, 4441, 4501, 4581, 4591, 4643, 4700, 4828, 4834, 4835, 4863, 4960, 4970, 5002, 5079, 5237, 5269, 5404, 5501, 5583, 5716, 5730, 5860, 6135, 6137, 6216, 6329, 6382, 6388, 6423, 6463, 6485, ...], 69: [80, 104, 527, 549, 595, 649, 668, 681, 725, 817, 883, 984, 1136, 1151, 1155, 1186, 1204, 1233, 1289, 1410, 1484, 1578, 1657, 1748, 1796, 1917, 1985, 2010, 2138, 2178, 2259, 2280, 2362, 2471, 2508, 2530, 2555, 2621, 2719, 2780, 2915, 2970, 3050, 3276, 3408, 3476, 3487, 3572, 3617, 3785, 3833, 3915, 3995, 4010, 4018, 4063, 4073, 4080, 4189, 4207, 4286, 4382, 4529, 4539, 4582, 4680, 4746, 4747, 4803, 4968, 5076, 5101, 5146, 5154, 5183, 5262, 5263, 5265, 5406, 5408, 5442, 5463, 5516, 5530, 5621, 5989, 6171, 6183, 6227, 6572, 6597, 6680, 6776, 6825, 6835, 7018, 7115, 7121, 7133, 7252, ...], 70: [26, 36, 52, 84, 260, 318, 352, 409, 411, 519, 572, 590, 592, 643, 801, 1039, 1157, 1167, 1171, 1269, 1348, 1440, 1447, 1475, 1562, 1577, 1581, 1802, 1961, 1981, 2100, 2134, 2145, 2256, 2301, 2319, 2334, 2396, 2455, 2474, 2504, 2638, 2704, 2821, 2905, 2989, 2997, 3101, 3186, 3259, 3294, 3395, 3491, 3582, 3655, 3663, 3750, 3868, 4027, 4057, 4219, 4272, 4396, 4622, 4647, 4683, 4769, 4794, 4880, 4894, 5038, 5352, 5359, 5439, 5490, 5598, 5626, 5654, 5678, 5832, 5843, 5940, 6022, 6066, 6079, 6118, 6189, 6271, 6302, 6450, 6729, 6846, 6852, 7132, 7145, 7222, 7226, 7331, 7434, 7444, ...], 71: [67, 90, 132, 140, 163, 203, 236, 242, 307, 315, 371, 401, 417, 464, 496, 554, 664, 762, 792, 864, 897, 931, 939, 972, 1010, 1059, 1093, 1122, 1134, 1160, 1200, 1278, 1300, 1352, 1441, 1588, 1608, 1874, 1885, 1913, 1927, 1958, 1993, 2016, 2029, 2077, 2185, 2310, 2318, 2390, 2768, 2823, 3116, 3118, 3321, 3432, 3459, 3566, 3676, 3683, 3726, 3768, 3797, 4003, 4137, 4163, 4236, 4316, 4413, 4421, 4427, 4619, 4696, 4698, 4709, 4717, 4748, 4749, 4800, 4851, 4957, 4984, 5048, 5239, 5361, 5525, 5635, 5710, 5967, 6088, 6090, 6180, 6353, 6390, 6402, 6435, 6522, 6562, 6575, 6599, ...], 72: [13, 37, 158, 224, 247, 475, 521, 635, 747, 854, 873, 901, 908, 921, 1111, 1126, 1138, 1168, 1239, 1344, 1366, 1384, 1547, 1553, 1607, 1656, 1851, 1876, 2007, 2082, 2091, 2125, 2330, 2469, 2476, 2491, 2517, 2518, 2604, 2617, 2644, 2663, 2881, 2887, 2891, 3016, 3021, 3068, 3086, 3193, 3293, 3333, 3348, 3451, 3465, 3499, 3506, 3529, 3623, 3631, 3715, 3735, 3848, 4005, 4008, 4042, 4091, 4100, 4309, 4437, 4489, 4590, 4618, 4799, 4853, 4857, 4938, 4940, 4995, 5144, 5204, 5264, 5266, 5299, 5339, 5629, 5655, 5665, 5749, 5778, 5812, 6026, 6058, 6202, 6237, 6457, 6459, 6476, 6486, 6501, ...], 73: [87, 201, 329, 394, 421, 457, 492, 501, 599, 836, 955, 991, 1082, 1182, 1188, 1258, 1320, 1407, 1507, 1691, 1792, 1836, 1866, 1899, 1902, 1989, 2014, 2027, 2032, 2107, 2112, 2171, 2242, 2289, 2357, 2444, 2453, 2488, 2512, 2526, 2607, 2611, 2612, 2684, 2685, 2687, 2696, 2814, 3007, 3106, 3345, 3557, 3743, 3761, 3773, 3792, 3880, 3930, 3961, 3980, 3984, 4051, 4064, 4228, 4333, 4439, 4536, 4670, 4771, 4792, 4804, 4847, 4900, 4913, 4930, 5180, 5211, 5268, 5283, 5303, 5372, 5448, 5542, 5549, 5719, 5913, 6036, 6105, 6240, 6337, 6533, 6722, 6758, 6800, 6952, 6997, 7092, 7122, 7248, 7298, ...], 74: [27, 89, 157, 241, 286, 339, 350, 388, 405, 449, 510, 523, 650, 671, 691, 766, 798, 826, 835, 837, 877, 918, 960, 974, 1091, 1149, 1307, 1317, 1394, 1513, 1580, 1668, 1755, 1775, 1897, 1966, 1982, 2062, 2205, 2284, 2380, 2386, 2412, 2510, 2632, 2711, 2740, 2767, 2808, 3026, 3036, 3087, 3162, 3244, 3323, 3400, 3446, 3543, 3628, 3724, 3841, 3862, 3890, 3914, 3935, 4098, 4110, 4244, 4384, 4460, 4470, 4556, 4594, 4600, 4640, 4758, 4764, 4820, 4904, 4923, 4982, 5063, 5189, 5191, 5254, 5432, 5561, 5656, 5668, 5686, 5692, 5754, 5863, 5959, 5991, 6073, 6084, 6106, 6222, 6230, ...], 75: [173, 178, 296, 356, 368, 540, 678, 742, 764, 827, 934, 966, 994, 1024, 1107, 1109, 1187, 1231, 1245, 1257, 1275, 1297, 1305, 1310, 1325, 1443, 1459, 1570, 1616, 1633, 1640, 1652, 1664, 1707, 1774, 1852, 1998, 2283, 2291, 2300, 2312, 2317, 2374, 2378, 2601, 2608, 2688, 2729, 2779, 2783, 2791, 2825, 3109, 3130, 3131, 3153, 3350, 3369, 3377, 3472, 3502, 3632, 3670, 3733, 3760, 3783, 3800, 3801, 3885, 4074, 4113, 4114, 4167, 4190, 4265, 4266, 4304, 4355, 4363, 4474, 4495, 4502, 4528, 4745, 4790, 4845, 4935, 4974, 5215, 5242, 5250, 5441, 5465, 5563, 5589, 5675, 5680, 5768, 5966, 5976, ...], 76: [116, 179, 205, 304, 309, 645, 804, 833, 988, 1218, 1329, 1404, 1428, 1499, 1514, 1662, 1676, 1679, 1680, 1694, 1713, 1736, 1763, 1820, 1922, 2126, 2174, 2188, 2228, 2326, 2370, 2379, 2401, 2541, 2614, 2662, 2702, 2722, 2947, 3047, 3067, 3095, 3173, 3242, 3379, 3394, 3413, 3443, 3590, 3702, 3751, 3856, 3974, 3978, 4056, 4093, 4157, 4211, 4259, 4343, 4372, 4447, 4462, 4492, 4540, 4947, 5020, 5064, 5165, 5219, 5298, 5313, 5328, 5425, 5489, 5554, 5565, 5582, 5695, 5753, 5803, 5830, 5853, 5858, 5915, 5936, 5948, 5994, 6008, 6042, 6048, 6131, 6138, 6210, 6325, 6723, 6891, 6919, 7013, 7038, ...], 77: [152, 180, 267, 347, 453, 574, 639, 665, 819, 843, 880, 951, 957, 990, 1063, 1088, 1118, 1121, 1144, 1254, 1279, 1368, 1401, 1411, 1458, 1463, 1622, 1624, 1647, 1705, 1718, 1978, 1994, 2003, 2019, 2068, 2103, 2128, 2408, 2700, 2862, 3020, 3093, 3125, 3235, 3279, 3312, 3469, 3482, 3503, 3613, 3688, 3809, 3999, 4075, 4158, 4215, 4231, 4289, 4511, 4661, 4724, 4736, 4796, 5054, 5056, 5070, 5100, 5168, 5194, 5278, 5310, 5349, 5457, 5581, 5648, 5722, 5745, 5824, 5864, 5906, 5953, 5990, 6014, 6082, 6120, 6142, 6217, 6374, 6389, 6426, 6543, 6561, 6600, 6665, 6666, 6699, 6718, 6794, 6806, ...], 78: [32, 48, 68, 176, 384, 493, 542, 679, 732, 746, 775, 813, 823, 859, 862, 968, 973, 978, 995, 1081, 1100, 1367, 1385, 1415, 1448, 1473, 1597, 1675, 1719, 1749, 1811, 1817, 1826, 1883, 2040, 2065, 2224, 2279, 2437, 2450, 2479, 2523, 2591, 2593, 2649, 2776, 2786, 2863, 2911, 2946, 2999, 3025, 3065, 3085, 3176, 3201, 3225, 3278, 3281, 3283, 3305, 3316, 3398, 3585, 3695, 3747, 3858, 3861, 3936, 3953, 3959, 3993, 4151, 4186, 4295, 4400, 4478, 4521, 4562, 4570, 4574, 4630, 4738, 4754, 4958, 5033, 5042, 5088, 5128, 5236, 5447, 5604, 5725, 5844, 5897, 5968, 5977, 5980, 5997, 6047, ...], 79: [21, 127, 141, 274, 328, 338, 387, 392, 416, 428, 436, 438, 463, 471, 481, 593, 683, 684, 690, 723, 736, 796, 845, 1102, 1112, 1174, 1299, 1386, 1387, 1409, 1619, 1658, 1685, 1693, 1814, 1951, 2006, 2020, 2054, 2064, 2089, 2123, 2135, 2141, 2155, 2314, 2547, 2557, 2653, 2680, 2703, 2773, 2971, 3142, 3160, 3234, 3256, 3365, 3402, 3407, 3430, 3433, 3462, 3492, 3495, 3518, 3539, 3668, 3749, 3759, 3818, 3830, 3899, 3917, 3972, 4070, 4276, 4321, 4364, 4419, 4451, 4498, 4508, 4517, 4547, 4654, 4856, 4860, 4871, 4902, 4916, 4926, 5123, 5135, 5178, 5246, 5301, 5785, 5873, 6018, ...], 80: [19, 93, 130, 202, 216, 245, 253, 297, 503, 560, 598, 605, 611, 630, 674, 709, 844, 888, 930, 1021, 1025, 1089, 1293, 1493, 1545, 1648, 1697, 1706, 1715, 1741, 1853, 2086, 2287, 2346, 2356, 2423, 2623, 2962, 3008, 3012, 3110, 3119, 3140, 3282, 3327, 3358, 3463, 3806, 3976, 3994, 4065, 4108, 4182, 4246, 4347, 4362, 4423, 4642, 4684, 4697, 4705, 4831, 4867, 4888, 5086, 5095, 5117, 5179, 5241, 5255, 5327, 5329, 5488, 5520, 5551, 5577, 5580, 5619, 5781, 5847, 5869, 5877, 5926, 6075, 6077, 6161, 6296, 6340, 6371, 6590, 6662, 6742, 6805, 6828, 6838, 6878, 6893, 6941, 7031, 7137, ...], 81: [0, 31, 41, 66, 94, 97, 99, 107, 144, 162, 213, 278, 333, 372, 404, 434, 443, 476, 491, 613, 686, 900, 916, 962, 1132, 1193, 1491, 1518, 1541, 1551, 1730, 1737, 1803, 1868, 1903, 1945, 2025, 2031, 2181, 2198, 2407, 2506, 2615, 2717, 2781, 2872, 2976, 3167, 3189, 3257, 3264, 3343, 3404, 3484, 3497, 3561, 3595, 3654, 3738, 3817, 3951, 4029, 4072, 4123, 4154, 4159, 4160, 4165, 4256, 4330, 4344, 4530, 4538, 4627, 4756, 4869, 4884, 4964, 4971, 5050, 5093, 5125, 5251, 5253, 5390, 5444, 5474, 5487, 5636, 5870, 5934, 5937, 5949, 6029, 6050, 6056, 6133, 6157, 6169, 6181, ...], 82: [6, 49, 57, 223, 462, 489, 525, 545, 607, 659, 717, 735, 768, 791, 830, 910, 1037, 1129, 1169, 1185, 1210, 1211, 1266, 1274, 1346, 1351, 1511, 1762, 1767, 1815, 1890, 1923, 2096, 2133, 2399, 2411, 2484, 2539, 2546, 2665, 2691, 2766, 2774, 2797, 2870, 2886, 3005, 3019, 3094, 3129, 3169, 3183, 3230, 3319, 3389, 3414, 3461, 3480, 3555, 3658, 3718, 3719, 3795, 3901, 3954, 4049, 4085, 4147, 4150, 4170, 4225, 4273, 4274, 4280, 4401, 4580, 4695, 4775, 4841, 4854, 4877, 4973, 5238, 5249, 5421, 5615, 5767, 5773, 5799, 5885, 5928, 6017, 6204, 6285, 6377, 6484, 6531, 6609, 6675, 6918, ...], 83: [35, 251, 332, 557, 614, 657, 718, 744, 904, 917, 965, 986, 997, 1146, 1180, 1199, 1214, 1273, 1342, 1388, 1446, 1701, 1880, 1983, 1995, 2209, 2236, 2237, 2296, 2315, 2480, 2545, 2553, 2728, 2792, 2794, 2835, 2875, 2877, 2883, 2902, 2907, 3010, 3064, 3079, 3124, 3184, 3254, 3295, 3340, 3354, 3814, 3893, 3922, 3975, 4134, 4155, 4337, 4360, 4386, 4463, 4765, 4850, 4998, 5258, 5366, 5377, 5385, 5398, 5497, 5529, 5662, 5694, 5746, 5800, 5896, 5902, 6021, 6104, 6193, 6318, 6331, 6479, 6499, 6537, 6555, 6614, 6766, 6911, 6954, 6984, 7066, 7068, 7150, 7462, 7470, 7553, 7607, 7758, 7853, ...], 84: [45, 71, 164, 344, 362, 395, 425, 460, 524, 564, 589, 597, 641, 699, 730, 756, 875, 1016, 1041, 1085, 1364, 1462, 1532, 1582, 1605, 1686, 1831, 1972, 1990, 2094, 2189, 2246, 2495, 2536, 2944, 3081, 3084, 3161, 3164, 3245, 3261, 3272, 3288, 3297, 3313, 3587, 3699, 3752, 4104, 4188, 4223, 4260, 4428, 4432, 4468, 4550, 4739, 4773, 4784, 5131, 5177, 5196, 5411, 5469, 5481, 5663, 5669, 5776, 5875, 5951, 6068, 6096, 6148, 6175, 6197, 6243, 6254, 6299, 6387, 6446, 6526, 6695, 6701, 6801, 6861, 7045, 7143, 7176, 7197, 7201, 7213, 7303, 7311, 7371, 7465, 7585, 7692, 7753, 7774, 7795, ...], 85: [12, 103, 139, 168, 543, 757, 824, 831, 993, 1135, 1147, 1312, 1338, 1345, 1563, 1600, 1634, 1636, 1722, 1829, 1960, 2024, 2072, 2263, 2272, 2307, 2333, 2385, 2388, 2394, 2440, 2540, 2616, 2798, 2888, 2966, 3112, 3115, 3352, 3359, 3802, 3851, 3888, 3929, 4095, 4142, 4144, 4168, 4395, 4417, 4584, 4686, 4743, 4843, 5021, 5068, 5159, 5184, 5261, 5496, 5505, 5548, 5733, 5823, 5837, 5910, 6000, 6020, 6051, 6327, 6536, 6577, 6690, 6808, 6831, 6837, 6931, 6939, 6970, 7067, 7097, 7307, 7335, 7343, 7379, 7701, 7797, 7970, 7983, 8045, 8092, 8130, 8139, 8179, 8224, 8234, 8317, 8319, 8334, 8566, ...]}"
          },
          "metadata": {}
        }
      ],
      "execution_count": 227
    },
    {
      "id": "493b116d-78b3-4f05-be29-19df7c6f478c",
      "cell_type": "code",
      "source": "age_percentage = health['Age'].sum()",
      "metadata": {
        "id": "493b116d-78b3-4f05-be29-19df7c6f478c",
        "trusted": true
      },
      "outputs": [],
      "execution_count": 228
    },
    {
      "id": "ec8bbc32-8969-41ff-8b3b-32366dc9a8de",
      "cell_type": "code",
      "source": "health['Age'] / age_percentage * 100",
      "metadata": {
        "colab": {
          "base_uri": "https://localhost:8080/"
        },
        "id": "ec8bbc32-8969-41ff-8b3b-32366dc9a8de",
        "outputId": "d2104c7b-119a-4019-d766-05eae4fe54fe",
        "trusted": true
      },
      "outputs": [
        {
          "execution_count": 229,
          "output_type": "execute_result",
          "data": {
            "text/plain": "0       0.015743\n1       0.006802\n2       0.011856\n3       0.009523\n4       0.009912\n          ...   \n9995    0.016131\n9996    0.009135\n9997    0.010495\n9998    0.016326\n9999    0.003887\nName: Age, Length: 10000, dtype: float64"
          },
          "metadata": {}
        }
      ],
      "execution_count": 229
    },
    {
      "id": "6d81b56b-026f-4a42-a6c5-8b813105e8cb",
      "cell_type": "code",
      "source": "health['age_percentage'] = round(health['Age'] / age_percentage * 100,2)",
      "metadata": {
        "id": "6d81b56b-026f-4a42-a6c5-8b813105e8cb",
        "trusted": true
      },
      "outputs": [],
      "execution_count": 230
    },
    {
      "id": "01634e29-6176-4439-9ee3-d3b14847949b",
      "cell_type": "code",
      "source": "health",
      "metadata": {
        "colab": {
          "base_uri": "https://localhost:8080/",
          "height": 424
        },
        "id": "01634e29-6176-4439-9ee3-d3b14847949b",
        "outputId": "aa53e544-3ff4-436f-80ff-d950f06069f3",
        "trusted": true
      },
      "outputs": [
        {
          "execution_count": 231,
          "output_type": "execute_result",
          "data": {
            "text/plain": "                      Name  Age  Gender Blood Type Medical Condition  \\\n0          Tiffany Ramirez   81  Female         O-          Diabetes   \n1              Ruben Burns   35    Male         O+            Asthma   \n2                Chad Byrd   61    Male         B-           Obesity   \n3        Antonio Frederick   49    Male         B-            Asthma   \n4      Mrs. Brandy Flowers   51    Male         O-         Arthritis   \n...                    ...  ...     ...        ...               ...   \n9995            James Hood   83    Male         A+           Obesity   \n9996       Stephanie Evans   47  Female        AB+         Arthritis   \n9997  Christopher Martinez   54    Male         B-         Arthritis   \n9998           Amanda Duke   84    Male         A+         Arthritis   \n9999             Eric King   20    Male         B-         Arthritis   \n\n     Date of Admission             Doctor                   Hospital  \\\n0           2022-11-17     Patrick Parker           Wallace-Hamilton   \n1           2023-06-01      Diane Jackson  Burke, Griffin and Cooper   \n2           2019-01-09         Paul Baker                 Walton LLC   \n3           2020-05-02     Brian Chandler                 Garcia Ltd   \n4           2021-07-09     Dustin Griffin    Jones, Brown and Murray   \n...                ...                ...                        ...   \n9995        2022-07-29       Samuel Moody   Wood, Martin and Simmons   \n9996        2022-01-06  Christopher Yates               Nash-Krueger   \n9997        2022-07-01   Robert Nicholson            Larson and Sons   \n9998        2020-02-06        Jamie Lewis               Wilson-Lyons   \n9999        2023-03-22        Tasha Avila  Torres, Young and Stewart   \n\n     Insurance Provider  Room Number Admission Type Discharge Date  \\\n0              Medicare          146       Elective     2022-12-01   \n1      UnitedHealthcare          404      Emergency     2023-06-15   \n2              Medicare          292      Emergency     2019-02-08   \n3              Medicare          480         Urgent     2020-05-03   \n4      UnitedHealthcare          477         Urgent     2021-08-02   \n...                 ...          ...            ...            ...   \n9995   UnitedHealthcare          110       Elective     2022-08-02   \n9996         Blue Cross          244      Emergency     2022-01-29   \n9997         Blue Cross          312       Elective     2022-07-15   \n9998   UnitedHealthcare          420         Urgent     2020-02-26   \n9999              Aetna          290      Emergency     2023-04-15   \n\n       Medication  Test Results  Billing_amount_OMR  age_percentage  \n0         Aspirin  Inconclusive        14433.953613            0.02  \n1         Lipitor        Normal        18211.970357            0.01  \n2         Lipitor        Normal        14196.761594            0.01  \n3      Penicillin      Abnormal         8971.732399            0.01  \n4     Paracetamol        Normal         6963.206338            0.01  \n...           ...           ...                 ...             ...  \n9995    Ibuprofen      Abnormal        15248.554218            0.02  \n9996    Ibuprofen        Normal         2308.339241            0.01  \n9997    Ibuprofen        Normal        19080.194000            0.01  \n9998   Penicillin        Normal         9715.942260            0.02  \n9999   Penicillin      Abnormal        14331.152410            0.00  \n\n[10000 rows x 16 columns]",
            "text/html": "<div>\n<style scoped>\n    .dataframe tbody tr th:only-of-type {\n        vertical-align: middle;\n    }\n\n    .dataframe tbody tr th {\n        vertical-align: top;\n    }\n\n    .dataframe thead th {\n        text-align: right;\n    }\n</style>\n<table border=\"1\" class=\"dataframe\">\n  <thead>\n    <tr style=\"text-align: right;\">\n      <th></th>\n      <th>Name</th>\n      <th>Age</th>\n      <th>Gender</th>\n      <th>Blood Type</th>\n      <th>Medical Condition</th>\n      <th>Date of Admission</th>\n      <th>Doctor</th>\n      <th>Hospital</th>\n      <th>Insurance Provider</th>\n      <th>Room Number</th>\n      <th>Admission Type</th>\n      <th>Discharge Date</th>\n      <th>Medication</th>\n      <th>Test Results</th>\n      <th>Billing_amount_OMR</th>\n      <th>age_percentage</th>\n    </tr>\n  </thead>\n  <tbody>\n    <tr>\n      <th>0</th>\n      <td>Tiffany Ramirez</td>\n      <td>81</td>\n      <td>Female</td>\n      <td>O-</td>\n      <td>Diabetes</td>\n      <td>2022-11-17</td>\n      <td>Patrick Parker</td>\n      <td>Wallace-Hamilton</td>\n      <td>Medicare</td>\n      <td>146</td>\n      <td>Elective</td>\n      <td>2022-12-01</td>\n      <td>Aspirin</td>\n      <td>Inconclusive</td>\n      <td>14433.953613</td>\n      <td>0.02</td>\n    </tr>\n    <tr>\n      <th>1</th>\n      <td>Ruben Burns</td>\n      <td>35</td>\n      <td>Male</td>\n      <td>O+</td>\n      <td>Asthma</td>\n      <td>2023-06-01</td>\n      <td>Diane Jackson</td>\n      <td>Burke, Griffin and Cooper</td>\n      <td>UnitedHealthcare</td>\n      <td>404</td>\n      <td>Emergency</td>\n      <td>2023-06-15</td>\n      <td>Lipitor</td>\n      <td>Normal</td>\n      <td>18211.970357</td>\n      <td>0.01</td>\n    </tr>\n    <tr>\n      <th>2</th>\n      <td>Chad Byrd</td>\n      <td>61</td>\n      <td>Male</td>\n      <td>B-</td>\n      <td>Obesity</td>\n      <td>2019-01-09</td>\n      <td>Paul Baker</td>\n      <td>Walton LLC</td>\n      <td>Medicare</td>\n      <td>292</td>\n      <td>Emergency</td>\n      <td>2019-02-08</td>\n      <td>Lipitor</td>\n      <td>Normal</td>\n      <td>14196.761594</td>\n      <td>0.01</td>\n    </tr>\n    <tr>\n      <th>3</th>\n      <td>Antonio Frederick</td>\n      <td>49</td>\n      <td>Male</td>\n      <td>B-</td>\n      <td>Asthma</td>\n      <td>2020-05-02</td>\n      <td>Brian Chandler</td>\n      <td>Garcia Ltd</td>\n      <td>Medicare</td>\n      <td>480</td>\n      <td>Urgent</td>\n      <td>2020-05-03</td>\n      <td>Penicillin</td>\n      <td>Abnormal</td>\n      <td>8971.732399</td>\n      <td>0.01</td>\n    </tr>\n    <tr>\n      <th>4</th>\n      <td>Mrs. Brandy Flowers</td>\n      <td>51</td>\n      <td>Male</td>\n      <td>O-</td>\n      <td>Arthritis</td>\n      <td>2021-07-09</td>\n      <td>Dustin Griffin</td>\n      <td>Jones, Brown and Murray</td>\n      <td>UnitedHealthcare</td>\n      <td>477</td>\n      <td>Urgent</td>\n      <td>2021-08-02</td>\n      <td>Paracetamol</td>\n      <td>Normal</td>\n      <td>6963.206338</td>\n      <td>0.01</td>\n    </tr>\n    <tr>\n      <th>...</th>\n      <td>...</td>\n      <td>...</td>\n      <td>...</td>\n      <td>...</td>\n      <td>...</td>\n      <td>...</td>\n      <td>...</td>\n      <td>...</td>\n      <td>...</td>\n      <td>...</td>\n      <td>...</td>\n      <td>...</td>\n      <td>...</td>\n      <td>...</td>\n      <td>...</td>\n      <td>...</td>\n    </tr>\n    <tr>\n      <th>9995</th>\n      <td>James Hood</td>\n      <td>83</td>\n      <td>Male</td>\n      <td>A+</td>\n      <td>Obesity</td>\n      <td>2022-07-29</td>\n      <td>Samuel Moody</td>\n      <td>Wood, Martin and Simmons</td>\n      <td>UnitedHealthcare</td>\n      <td>110</td>\n      <td>Elective</td>\n      <td>2022-08-02</td>\n      <td>Ibuprofen</td>\n      <td>Abnormal</td>\n      <td>15248.554218</td>\n      <td>0.02</td>\n    </tr>\n    <tr>\n      <th>9996</th>\n      <td>Stephanie Evans</td>\n      <td>47</td>\n      <td>Female</td>\n      <td>AB+</td>\n      <td>Arthritis</td>\n      <td>2022-01-06</td>\n      <td>Christopher Yates</td>\n      <td>Nash-Krueger</td>\n      <td>Blue Cross</td>\n      <td>244</td>\n      <td>Emergency</td>\n      <td>2022-01-29</td>\n      <td>Ibuprofen</td>\n      <td>Normal</td>\n      <td>2308.339241</td>\n      <td>0.01</td>\n    </tr>\n    <tr>\n      <th>9997</th>\n      <td>Christopher Martinez</td>\n      <td>54</td>\n      <td>Male</td>\n      <td>B-</td>\n      <td>Arthritis</td>\n      <td>2022-07-01</td>\n      <td>Robert Nicholson</td>\n      <td>Larson and Sons</td>\n      <td>Blue Cross</td>\n      <td>312</td>\n      <td>Elective</td>\n      <td>2022-07-15</td>\n      <td>Ibuprofen</td>\n      <td>Normal</td>\n      <td>19080.194000</td>\n      <td>0.01</td>\n    </tr>\n    <tr>\n      <th>9998</th>\n      <td>Amanda Duke</td>\n      <td>84</td>\n      <td>Male</td>\n      <td>A+</td>\n      <td>Arthritis</td>\n      <td>2020-02-06</td>\n      <td>Jamie Lewis</td>\n      <td>Wilson-Lyons</td>\n      <td>UnitedHealthcare</td>\n      <td>420</td>\n      <td>Urgent</td>\n      <td>2020-02-26</td>\n      <td>Penicillin</td>\n      <td>Normal</td>\n      <td>9715.942260</td>\n      <td>0.02</td>\n    </tr>\n    <tr>\n      <th>9999</th>\n      <td>Eric King</td>\n      <td>20</td>\n      <td>Male</td>\n      <td>B-</td>\n      <td>Arthritis</td>\n      <td>2023-03-22</td>\n      <td>Tasha Avila</td>\n      <td>Torres, Young and Stewart</td>\n      <td>Aetna</td>\n      <td>290</td>\n      <td>Emergency</td>\n      <td>2023-04-15</td>\n      <td>Penicillin</td>\n      <td>Abnormal</td>\n      <td>14331.152410</td>\n      <td>0.00</td>\n    </tr>\n  </tbody>\n</table>\n<p>10000 rows × 16 columns</p>\n</div>"
          },
          "metadata": {}
        }
      ],
      "execution_count": 231
    },
    {
      "id": "66cd20be-6e57-4e9b-a5ce-9465b2634006",
      "cell_type": "code",
      "source": "health.groupby('Age').sum()",
      "metadata": {
        "colab": {
          "base_uri": "https://localhost:8080/",
          "height": 490
        },
        "id": "66cd20be-6e57-4e9b-a5ce-9465b2634006",
        "outputId": "be393fb1-5b73-4fca-f7f4-90096ce9c9dc",
        "trusted": true
      },
      "outputs": [
        {
          "name": "stderr",
          "text": "<ipython-input-232-ad6d2ab6497e>:1: FutureWarning: The default value of numeric_only in DataFrameGroupBy.sum is deprecated. In a future version, numeric_only will default to False. Either specify numeric_only or select only columns which should be valid for the function.\n  health.groupby('Age').sum()\n",
          "output_type": "stream"
        },
        {
          "execution_count": 232,
          "output_type": "execute_result",
          "data": {
            "text/plain": "     Room Number  Billing_amount_OMR  age_percentage\nAge                                                 \n18         48121        1.678204e+06            0.00\n19         37439        1.235360e+06            0.00\n20         53489        1.762766e+06            0.00\n21         47386        1.588945e+06            0.00\n22         36743        1.170802e+06            0.00\n..           ...                 ...             ...\n81         46410        1.532700e+06            3.18\n82         41280        1.394872e+06            2.94\n83         40279        1.198519e+06            2.62\n84         40093        1.350926e+06            2.66\n85         35962        1.103332e+06            2.46\n\n[68 rows x 3 columns]",
            "text/html": "<div>\n<style scoped>\n    .dataframe tbody tr th:only-of-type {\n        vertical-align: middle;\n    }\n\n    .dataframe tbody tr th {\n        vertical-align: top;\n    }\n\n    .dataframe thead th {\n        text-align: right;\n    }\n</style>\n<table border=\"1\" class=\"dataframe\">\n  <thead>\n    <tr style=\"text-align: right;\">\n      <th></th>\n      <th>Room Number</th>\n      <th>Billing_amount_OMR</th>\n      <th>age_percentage</th>\n    </tr>\n    <tr>\n      <th>Age</th>\n      <th></th>\n      <th></th>\n      <th></th>\n    </tr>\n  </thead>\n  <tbody>\n    <tr>\n      <th>18</th>\n      <td>48121</td>\n      <td>1.678204e+06</td>\n      <td>0.00</td>\n    </tr>\n    <tr>\n      <th>19</th>\n      <td>37439</td>\n      <td>1.235360e+06</td>\n      <td>0.00</td>\n    </tr>\n    <tr>\n      <th>20</th>\n      <td>53489</td>\n      <td>1.762766e+06</td>\n      <td>0.00</td>\n    </tr>\n    <tr>\n      <th>21</th>\n      <td>47386</td>\n      <td>1.588945e+06</td>\n      <td>0.00</td>\n    </tr>\n    <tr>\n      <th>22</th>\n      <td>36743</td>\n      <td>1.170802e+06</td>\n      <td>0.00</td>\n    </tr>\n    <tr>\n      <th>...</th>\n      <td>...</td>\n      <td>...</td>\n      <td>...</td>\n    </tr>\n    <tr>\n      <th>81</th>\n      <td>46410</td>\n      <td>1.532700e+06</td>\n      <td>3.18</td>\n    </tr>\n    <tr>\n      <th>82</th>\n      <td>41280</td>\n      <td>1.394872e+06</td>\n      <td>2.94</td>\n    </tr>\n    <tr>\n      <th>83</th>\n      <td>40279</td>\n      <td>1.198519e+06</td>\n      <td>2.62</td>\n    </tr>\n    <tr>\n      <th>84</th>\n      <td>40093</td>\n      <td>1.350926e+06</td>\n      <td>2.66</td>\n    </tr>\n    <tr>\n      <th>85</th>\n      <td>35962</td>\n      <td>1.103332e+06</td>\n      <td>2.46</td>\n    </tr>\n  </tbody>\n</table>\n<p>68 rows × 3 columns</p>\n</div>"
          },
          "metadata": {}
        }
      ],
      "execution_count": 232
    },
    {
      "id": "50dff638-3196-45e6-b74a-20076e307222",
      "cell_type": "code",
      "source": "# display the Billing amount % of Age speaking grouped by Age percentages\nhealth.groupby('Billing_amount_OMR')[['Age']].max()",
      "metadata": {
        "colab": {
          "base_uri": "https://localhost:8080/",
          "height": 455
        },
        "id": "50dff638-3196-45e6-b74a-20076e307222",
        "outputId": "19d8faca-168c-46ce-c562-e19d6893a7ce",
        "trusted": true
      },
      "outputs": [
        {
          "execution_count": 233,
          "output_type": "execute_result",
          "data": {
            "text/plain": "                    Age\nBilling_amount_OMR     \n385.067622           70\n386.698497           31\n388.623652           62\n392.828009           51\n397.419224           74\n...                 ...\n19240.005219         59\n19240.200588         35\n19244.499659         79\n19247.969135         75\n19248.322387         77\n\n[10000 rows x 1 columns]",
            "text/html": "<div>\n<style scoped>\n    .dataframe tbody tr th:only-of-type {\n        vertical-align: middle;\n    }\n\n    .dataframe tbody tr th {\n        vertical-align: top;\n    }\n\n    .dataframe thead th {\n        text-align: right;\n    }\n</style>\n<table border=\"1\" class=\"dataframe\">\n  <thead>\n    <tr style=\"text-align: right;\">\n      <th></th>\n      <th>Age</th>\n    </tr>\n    <tr>\n      <th>Billing_amount_OMR</th>\n      <th></th>\n    </tr>\n  </thead>\n  <tbody>\n    <tr>\n      <th>385.067622</th>\n      <td>70</td>\n    </tr>\n    <tr>\n      <th>386.698497</th>\n      <td>31</td>\n    </tr>\n    <tr>\n      <th>388.623652</th>\n      <td>62</td>\n    </tr>\n    <tr>\n      <th>392.828009</th>\n      <td>51</td>\n    </tr>\n    <tr>\n      <th>397.419224</th>\n      <td>74</td>\n    </tr>\n    <tr>\n      <th>...</th>\n      <td>...</td>\n    </tr>\n    <tr>\n      <th>19240.005219</th>\n      <td>59</td>\n    </tr>\n    <tr>\n      <th>19240.200588</th>\n      <td>35</td>\n    </tr>\n    <tr>\n      <th>19244.499659</th>\n      <td>79</td>\n    </tr>\n    <tr>\n      <th>19247.969135</th>\n      <td>75</td>\n    </tr>\n    <tr>\n      <th>19248.322387</th>\n      <td>77</td>\n    </tr>\n  </tbody>\n</table>\n<p>10000 rows × 1 columns</p>\n</div>"
          },
          "metadata": {}
        }
      ],
      "execution_count": 233
    },
    {
      "id": "f597b096-48a1-40ea-bb28-a723c5d227f9",
      "cell_type": "code",
      "source": "health.mean(numeric_only=True)",
      "metadata": {
        "colab": {
          "base_uri": "https://localhost:8080/"
        },
        "id": "f597b096-48a1-40ea-bb28-a723c5d227f9",
        "outputId": "339e0a22-e86b-40c7-c3ea-c3557a9a38f6",
        "trusted": true
      },
      "outputs": [
        {
          "execution_count": 234,
          "output_type": "execute_result",
          "data": {
            "text/plain": "Age                     51.452200\nRoom Number            300.082000\nBilling_amount_OMR    9823.919576\nage_percentage           0.009967\ndtype: float64"
          },
          "metadata": {}
        }
      ],
      "execution_count": 234
    },
    {
      "id": "a27399c8-7cf0-48f5-a542-33d0b9297a58",
      "cell_type": "markdown",
      "source": "## Outliers",
      "metadata": {
        "id": "a27399c8-7cf0-48f5-a542-33d0b9297a58"
      }
    },
    {
      "id": "532bdcfe-5123-4df4-977d-8415c3c35f18",
      "cell_type": "code",
      "source": "Q1 = health['Billing_amount_OMR'].quantile(0.25)\nQ3 = health['Billing_amount_OMR'].quantile(0.75)\nprint(Q1,Q3)\nIQR = Q3 - Q1\nprint(\"IQR = \",IQR)",
      "metadata": {
        "colab": {
          "base_uri": "https://localhost:8080/"
        },
        "id": "532bdcfe-5123-4df4-977d-8415c3c35f18",
        "outputId": "e1899a71-03a9-47a0-f182-90108b6c660f",
        "trusted": true
      },
      "outputs": [
        {
          "name": "stdout",
          "text": "5199.984714404423 14527.481317174532\nIQR =  9327.496602770108\n",
          "output_type": "stream"
        }
      ],
      "execution_count": 235
    },
    {
      "id": "ea06dc1f-f712-41e2-acf4-4f1a05f9f5ad",
      "cell_type": "code",
      "source": "LL = Q1 - (1.5 * IQR)\nUL = Q3 + (1.5 * IQR)\nprint(LL,UL)",
      "metadata": {
        "colab": {
          "base_uri": "https://localhost:8080/"
        },
        "id": "ea06dc1f-f712-41e2-acf4-4f1a05f9f5ad",
        "outputId": "e9280573-df7a-44f1-cec4-2eca1f934b4b",
        "trusted": true
      },
      "outputs": [
        {
          "name": "stdout",
          "text": "-8791.26018975074 28518.726221329693\n",
          "output_type": "stream"
        }
      ],
      "execution_count": 236
    },
    {
      "id": "5732e96b-6be1-4acb-9eb4-a6a0d875c371",
      "cell_type": "code",
      "source": "Q1 = health['Age'].quantile(0.25)\nQ3 = health['Age'].quantile(0.75)\nprint(Q1,Q3)\nIQR = Q3 - Q1\nprint(\"IQR = \",IQR)",
      "metadata": {
        "colab": {
          "base_uri": "https://localhost:8080/"
        },
        "id": "5732e96b-6be1-4acb-9eb4-a6a0d875c371",
        "outputId": "d2307716-589c-42d1-840a-0ff7dc89ff0a",
        "trusted": true
      },
      "outputs": [
        {
          "name": "stdout",
          "text": "35.0 68.0\nIQR =  33.0\n",
          "output_type": "stream"
        }
      ],
      "execution_count": 237
    },
    {
      "id": "4d279ade-781d-4641-a0d8-fcaa219f4cbe",
      "cell_type": "code",
      "source": "#health.to_csv(\"health_cleaned.csv\")",
      "metadata": {
        "id": "4d279ade-781d-4641-a0d8-fcaa219f4cbe",
        "trusted": true
      },
      "outputs": [],
      "execution_count": 238
    },
    {
      "id": "252c182c-59fc-4f19-99ce-b777bb1e012e",
      "cell_type": "markdown",
      "source": "# Exploratory Data Analysis (EDA)",
      "metadata": {
        "id": "252c182c-59fc-4f19-99ce-b777bb1e012e"
      }
    },
    {
      "id": "d5ceb284-0a10-4277-9434-6c99589bfae2",
      "cell_type": "markdown",
      "source": "Exploratory Data Analysis (EDA): After cleaning the data, students are expected to **display the basic statistics** about dataset.\nStudents will **perform EDA to understand the dataset's distribution, correlation, and relationship between variables**.\nStudents are expected to **visualize their findings in at least five different ways**,\nincluding but *not limited to scatter plots, bar charts, pie-chart and 2 more advanced charts of your choice like funnel chart*,\ndonut chart, lollypop chart, map, animated charts etc..",
      "metadata": {
        "id": "d5ceb284-0a10-4277-9434-6c99589bfae2"
      }
    },
    {
      "id": "dd3b89e4-501a-47df-90ac-efe2628b3d90",
      "cell_type": "code",
      "source": "\n\nhealth.describe()\n",
      "metadata": {
        "colab": {
          "base_uri": "https://localhost:8080/",
          "height": 300
        },
        "id": "dd3b89e4-501a-47df-90ac-efe2628b3d90",
        "outputId": "85769b58-c173-4608-bba0-2050b96ead5b",
        "trusted": true
      },
      "outputs": [
        {
          "execution_count": 239,
          "output_type": "execute_result",
          "data": {
            "text/plain": "                Age   Room Number  Billing_amount_OMR  age_percentage\ncount  10000.000000  10000.000000        10000.000000    10000.000000\nmean      51.452200    300.082000         9823.919576        0.009967\nstd       19.588974    115.806027         5415.879558        0.004826\nmin       18.000000    101.000000          385.067622        0.000000\n25%       35.000000    199.000000         5199.984714        0.010000\n50%       52.000000    299.000000         9724.322822        0.010000\n75%       68.000000    400.000000        14527.481317        0.010000\nmax       85.000000    500.000000        19248.322387        0.020000",
            "text/html": "<div>\n<style scoped>\n    .dataframe tbody tr th:only-of-type {\n        vertical-align: middle;\n    }\n\n    .dataframe tbody tr th {\n        vertical-align: top;\n    }\n\n    .dataframe thead th {\n        text-align: right;\n    }\n</style>\n<table border=\"1\" class=\"dataframe\">\n  <thead>\n    <tr style=\"text-align: right;\">\n      <th></th>\n      <th>Age</th>\n      <th>Room Number</th>\n      <th>Billing_amount_OMR</th>\n      <th>age_percentage</th>\n    </tr>\n  </thead>\n  <tbody>\n    <tr>\n      <th>count</th>\n      <td>10000.000000</td>\n      <td>10000.000000</td>\n      <td>10000.000000</td>\n      <td>10000.000000</td>\n    </tr>\n    <tr>\n      <th>mean</th>\n      <td>51.452200</td>\n      <td>300.082000</td>\n      <td>9823.919576</td>\n      <td>0.009967</td>\n    </tr>\n    <tr>\n      <th>std</th>\n      <td>19.588974</td>\n      <td>115.806027</td>\n      <td>5415.879558</td>\n      <td>0.004826</td>\n    </tr>\n    <tr>\n      <th>min</th>\n      <td>18.000000</td>\n      <td>101.000000</td>\n      <td>385.067622</td>\n      <td>0.000000</td>\n    </tr>\n    <tr>\n      <th>25%</th>\n      <td>35.000000</td>\n      <td>199.000000</td>\n      <td>5199.984714</td>\n      <td>0.010000</td>\n    </tr>\n    <tr>\n      <th>50%</th>\n      <td>52.000000</td>\n      <td>299.000000</td>\n      <td>9724.322822</td>\n      <td>0.010000</td>\n    </tr>\n    <tr>\n      <th>75%</th>\n      <td>68.000000</td>\n      <td>400.000000</td>\n      <td>14527.481317</td>\n      <td>0.010000</td>\n    </tr>\n    <tr>\n      <th>max</th>\n      <td>85.000000</td>\n      <td>500.000000</td>\n      <td>19248.322387</td>\n      <td>0.020000</td>\n    </tr>\n  </tbody>\n</table>\n</div>"
          },
          "metadata": {}
        }
      ],
      "execution_count": 239
    },
    {
      "id": "31ae5bb6-6249-4bdb-ad31-372b53875152",
      "cell_type": "code",
      "source": "\nhealth.describe()\nhealth.info()\nhealth.columns\nhealth.head()\nhealth.sample()\nhealth.describe(include='all')\n#histogram\nhealth['Age'].plot.hist()\nhealth['Billing_amount_OMR'].plot.hist()\n#boxplot\nhealth.boxplot(column='Age')\nhealth.boxplot(column='Billing_amount_OMR')\n#scatterplot\n# health.plot.scatter(x='Age', y='Billing_amount_OMR')\n# health.plot.scatter(x='Room Number', y='Billing_amount_OMR')\n# health.plot.scatter(x='Blood Type', y='Billing_amount_OMR')\n#correlation\nhealth.corr()\n",
      "metadata": {
        "colab": {
          "base_uri": "https://localhost:8080/",
          "height": 1000
        },
        "id": "31ae5bb6-6249-4bdb-ad31-372b53875152",
        "outputId": "778f422c-e2b2-4e59-92a6-69e426bd02ed",
        "trusted": true
      },
      "outputs": [
        {
          "name": "stdout",
          "text": "<class 'pandas.core.frame.DataFrame'>\nRangeIndex: 10000 entries, 0 to 9999\nData columns (total 16 columns):\n #   Column              Non-Null Count  Dtype  \n---  ------              --------------  -----  \n 0   Name                10000 non-null  object \n 1   Age                 10000 non-null  int64  \n 2   Gender              10000 non-null  object \n 3   Blood Type          10000 non-null  object \n 4   Medical Condition   10000 non-null  object \n 5   Date of Admission   10000 non-null  object \n 6   Doctor              10000 non-null  object \n 7   Hospital            10000 non-null  object \n 8   Insurance Provider  10000 non-null  object \n 9   Room Number         10000 non-null  int64  \n 10  Admission Type      10000 non-null  object \n 11  Discharge Date      10000 non-null  object \n 12  Medication          10000 non-null  object \n 13  Test Results        10000 non-null  object \n 14  Billing_amount_OMR  10000 non-null  float64\n 15  age_percentage      10000 non-null  float64\ndtypes: float64(2), int64(2), object(12)\nmemory usage: 781.3+ KB\n",
          "output_type": "stream"
        },
        {
          "name": "stderr",
          "text": "<ipython-input-240-af38a1a5da1b>:18: FutureWarning: The default value of numeric_only in DataFrame.corr is deprecated. In a future version, it will default to False. Select only valid columns or specify the value of numeric_only to silence this warning.\n  health.corr()\n",
          "output_type": "stream"
        },
        {
          "execution_count": 240,
          "output_type": "execute_result",
          "data": {
            "text/plain": "                         Age  Room Number  Billing_amount_OMR  age_percentage\nAge                 1.000000    -0.005371           -0.009483        0.737541\nRoom Number        -0.005371     1.000000           -0.006160       -0.006682\nBilling_amount_OMR -0.009483    -0.006160            1.000000       -0.016050\nage_percentage      0.737541    -0.006682           -0.016050        1.000000",
            "text/html": "<div>\n<style scoped>\n    .dataframe tbody tr th:only-of-type {\n        vertical-align: middle;\n    }\n\n    .dataframe tbody tr th {\n        vertical-align: top;\n    }\n\n    .dataframe thead th {\n        text-align: right;\n    }\n</style>\n<table border=\"1\" class=\"dataframe\">\n  <thead>\n    <tr style=\"text-align: right;\">\n      <th></th>\n      <th>Age</th>\n      <th>Room Number</th>\n      <th>Billing_amount_OMR</th>\n      <th>age_percentage</th>\n    </tr>\n  </thead>\n  <tbody>\n    <tr>\n      <th>Age</th>\n      <td>1.000000</td>\n      <td>-0.005371</td>\n      <td>-0.009483</td>\n      <td>0.737541</td>\n    </tr>\n    <tr>\n      <th>Room Number</th>\n      <td>-0.005371</td>\n      <td>1.000000</td>\n      <td>-0.006160</td>\n      <td>-0.006682</td>\n    </tr>\n    <tr>\n      <th>Billing_amount_OMR</th>\n      <td>-0.009483</td>\n      <td>-0.006160</td>\n      <td>1.000000</td>\n      <td>-0.016050</td>\n    </tr>\n    <tr>\n      <th>age_percentage</th>\n      <td>0.737541</td>\n      <td>-0.006682</td>\n      <td>-0.016050</td>\n      <td>1.000000</td>\n    </tr>\n  </tbody>\n</table>\n</div>"
          },
          "metadata": {}
        },
        {
          "output_type": "display_data",
          "data": {
            "text/plain": "<Figure size 640x480 with 1 Axes>",
            "image/png": "[encoded data removed]"
          },
          "metadata": {}
        }
      ],
      "execution_count": 240
    },
    {
      "id": "8c5ff6d6-1a4e-4a70-a885-4bb01654ca95",
      "cell_type": "code",
      "source": "health",
      "metadata": {
        "trusted": true
      },
      "outputs": [
        {
          "execution_count": 241,
          "output_type": "execute_result",
          "data": {
            "text/plain": "                      Name  Age  Gender Blood Type Medical Condition  \\\n0          Tiffany Ramirez   81  Female         O-          Diabetes   \n1              Ruben Burns   35    Male         O+            Asthma   \n2                Chad Byrd   61    Male         B-           Obesity   \n3        Antonio Frederick   49    Male         B-            Asthma   \n4      Mrs. Brandy Flowers   51    Male         O-         Arthritis   \n...                    ...  ...     ...        ...               ...   \n9995            James Hood   83    Male         A+           Obesity   \n9996       Stephanie Evans   47  Female        AB+         Arthritis   \n9997  Christopher Martinez   54    Male         B-         Arthritis   \n9998           Amanda Duke   84    Male         A+         Arthritis   \n9999             Eric King   20    Male         B-         Arthritis   \n\n     Date of Admission             Doctor                   Hospital  \\\n0           2022-11-17     Patrick Parker           Wallace-Hamilton   \n1           2023-06-01      Diane Jackson  Burke, Griffin and Cooper   \n2           2019-01-09         Paul Baker                 Walton LLC   \n3           2020-05-02     Brian Chandler                 Garcia Ltd   \n4           2021-07-09     Dustin Griffin    Jones, Brown and Murray   \n...                ...                ...                        ...   \n9995        2022-07-29       Samuel Moody   Wood, Martin and Simmons   \n9996        2022-01-06  Christopher Yates               Nash-Krueger   \n9997        2022-07-01   Robert Nicholson            Larson and Sons   \n9998        2020-02-06        Jamie Lewis               Wilson-Lyons   \n9999        2023-03-22        Tasha Avila  Torres, Young and Stewart   \n\n     Insurance Provider  Room Number Admission Type Discharge Date  \\\n0              Medicare          146       Elective     2022-12-01   \n1      UnitedHealthcare          404      Emergency     2023-06-15   \n2              Medicare          292      Emergency     2019-02-08   \n3              Medicare          480         Urgent     2020-05-03   \n4      UnitedHealthcare          477         Urgent     2021-08-02   \n...                 ...          ...            ...            ...   \n9995   UnitedHealthcare          110       Elective     2022-08-02   \n9996         Blue Cross          244      Emergency     2022-01-29   \n9997         Blue Cross          312       Elective     2022-07-15   \n9998   UnitedHealthcare          420         Urgent     2020-02-26   \n9999              Aetna          290      Emergency     2023-04-15   \n\n       Medication  Test Results  Billing_amount_OMR  age_percentage  \n0         Aspirin  Inconclusive        14433.953613            0.02  \n1         Lipitor        Normal        18211.970357            0.01  \n2         Lipitor        Normal        14196.761594            0.01  \n3      Penicillin      Abnormal         8971.732399            0.01  \n4     Paracetamol        Normal         6963.206338            0.01  \n...           ...           ...                 ...             ...  \n9995    Ibuprofen      Abnormal        15248.554218            0.02  \n9996    Ibuprofen        Normal         2308.339241            0.01  \n9997    Ibuprofen        Normal        19080.194000            0.01  \n9998   Penicillin        Normal         9715.942260            0.02  \n9999   Penicillin      Abnormal        14331.152410            0.00  \n\n[10000 rows x 16 columns]",
            "text/html": "<div>\n<style scoped>\n    .dataframe tbody tr th:only-of-type {\n        vertical-align: middle;\n    }\n\n    .dataframe tbody tr th {\n        vertical-align: top;\n    }\n\n    .dataframe thead th {\n        text-align: right;\n    }\n</style>\n<table border=\"1\" class=\"dataframe\">\n  <thead>\n    <tr style=\"text-align: right;\">\n      <th></th>\n      <th>Name</th>\n      <th>Age</th>\n      <th>Gender</th>\n      <th>Blood Type</th>\n      <th>Medical Condition</th>\n      <th>Date of Admission</th>\n      <th>Doctor</th>\n      <th>Hospital</th>\n      <th>Insurance Provider</th>\n      <th>Room Number</th>\n      <th>Admission Type</th>\n      <th>Discharge Date</th>\n      <th>Medication</th>\n      <th>Test Results</th>\n      <th>Billing_amount_OMR</th>\n      <th>age_percentage</th>\n    </tr>\n  </thead>\n  <tbody>\n    <tr>\n      <th>0</th>\n      <td>Tiffany Ramirez</td>\n      <td>81</td>\n      <td>Female</td>\n      <td>O-</td>\n      <td>Diabetes</td>\n      <td>2022-11-17</td>\n      <td>Patrick Parker</td>\n      <td>Wallace-Hamilton</td>\n      <td>Medicare</td>\n      <td>146</td>\n      <td>Elective</td>\n      <td>2022-12-01</td>\n      <td>Aspirin</td>\n      <td>Inconclusive</td>\n      <td>14433.953613</td>\n      <td>0.02</td>\n    </tr>\n    <tr>\n      <th>1</th>\n      <td>Ruben Burns</td>\n      <td>35</td>\n      <td>Male</td>\n      <td>O+</td>\n      <td>Asthma</td>\n      <td>2023-06-01</td>\n      <td>Diane Jackson</td>\n      <td>Burke, Griffin and Cooper</td>\n      <td>UnitedHealthcare</td>\n      <td>404</td>\n      <td>Emergency</td>\n      <td>2023-06-15</td>\n      <td>Lipitor</td>\n      <td>Normal</td>\n      <td>18211.970357</td>\n      <td>0.01</td>\n    </tr>\n    <tr>\n      <th>2</th>\n      <td>Chad Byrd</td>\n      <td>61</td>\n      <td>Male</td>\n      <td>B-</td>\n      <td>Obesity</td>\n      <td>2019-01-09</td>\n      <td>Paul Baker</td>\n      <td>Walton LLC</td>\n      <td>Medicare</td>\n      <td>292</td>\n      <td>Emergency</td>\n      <td>2019-02-08</td>\n      <td>Lipitor</td>\n      <td>Normal</td>\n      <td>14196.761594</td>\n      <td>0.01</td>\n    </tr>\n    <tr>\n      <th>3</th>\n      <td>Antonio Frederick</td>\n      <td>49</td>\n      <td>Male</td>\n      <td>B-</td>\n      <td>Asthma</td>\n      <td>2020-05-02</td>\n      <td>Brian Chandler</td>\n      <td>Garcia Ltd</td>\n      <td>Medicare</td>\n      <td>480</td>\n      <td>Urgent</td>\n      <td>2020-05-03</td>\n      <td>Penicillin</td>\n      <td>Abnormal</td>\n      <td>8971.732399</td>\n      <td>0.01</td>\n    </tr>\n    <tr>\n      <th>4</th>\n      <td>Mrs. Brandy Flowers</td>\n      <td>51</td>\n      <td>Male</td>\n      <td>O-</td>\n      <td>Arthritis</td>\n      <td>2021-07-09</td>\n      <td>Dustin Griffin</td>\n      <td>Jones, Brown and Murray</td>\n      <td>UnitedHealthcare</td>\n      <td>477</td>\n      <td>Urgent</td>\n      <td>2021-08-02</td>\n      <td>Paracetamol</td>\n      <td>Normal</td>\n      <td>6963.206338</td>\n      <td>0.01</td>\n    </tr>\n    <tr>\n      <th>...</th>\n      <td>...</td>\n      <td>...</td>\n      <td>...</td>\n      <td>...</td>\n      <td>...</td>\n      <td>...</td>\n      <td>...</td>\n      <td>...</td>\n      <td>...</td>\n      <td>...</td>\n      <td>...</td>\n      <td>...</td>\n      <td>...</td>\n      <td>...</td>\n      <td>...</td>\n      <td>...</td>\n    </tr>\n    <tr>\n      <th>9995</th>\n      <td>James Hood</td>\n      <td>83</td>\n      <td>Male</td>\n      <td>A+</td>\n      <td>Obesity</td>\n      <td>2022-07-29</td>\n      <td>Samuel Moody</td>\n      <td>Wood, Martin and Simmons</td>\n      <td>UnitedHealthcare</td>\n      <td>110</td>\n      <td>Elective</td>\n      <td>2022-08-02</td>\n      <td>Ibuprofen</td>\n      <td>Abnormal</td>\n      <td>15248.554218</td>\n      <td>0.02</td>\n    </tr>\n    <tr>\n      <th>9996</th>\n      <td>Stephanie Evans</td>\n      <td>47</td>\n      <td>Female</td>\n      <td>AB+</td>\n      <td>Arthritis</td>\n      <td>2022-01-06</td>\n      <td>Christopher Yates</td>\n      <td>Nash-Krueger</td>\n      <td>Blue Cross</td>\n      <td>244</td>\n      <td>Emergency</td>\n      <td>2022-01-29</td>\n      <td>Ibuprofen</td>\n      <td>Normal</td>\n      <td>2308.339241</td>\n      <td>0.01</td>\n    </tr>\n    <tr>\n      <th>9997</th>\n      <td>Christopher Martinez</td>\n      <td>54</td>\n      <td>Male</td>\n      <td>B-</td>\n      <td>Arthritis</td>\n      <td>2022-07-01</td>\n      <td>Robert Nicholson</td>\n      <td>Larson and Sons</td>\n      <td>Blue Cross</td>\n      <td>312</td>\n      <td>Elective</td>\n      <td>2022-07-15</td>\n      <td>Ibuprofen</td>\n      <td>Normal</td>\n      <td>19080.194000</td>\n      <td>0.01</td>\n    </tr>\n    <tr>\n      <th>9998</th>\n      <td>Amanda Duke</td>\n      <td>84</td>\n      <td>Male</td>\n      <td>A+</td>\n      <td>Arthritis</td>\n      <td>2020-02-06</td>\n      <td>Jamie Lewis</td>\n      <td>Wilson-Lyons</td>\n      <td>UnitedHealthcare</td>\n      <td>420</td>\n      <td>Urgent</td>\n      <td>2020-02-26</td>\n      <td>Penicillin</td>\n      <td>Normal</td>\n      <td>9715.942260</td>\n      <td>0.02</td>\n    </tr>\n    <tr>\n      <th>9999</th>\n      <td>Eric King</td>\n      <td>20</td>\n      <td>Male</td>\n      <td>B-</td>\n      <td>Arthritis</td>\n      <td>2023-03-22</td>\n      <td>Tasha Avila</td>\n      <td>Torres, Young and Stewart</td>\n      <td>Aetna</td>\n      <td>290</td>\n      <td>Emergency</td>\n      <td>2023-04-15</td>\n      <td>Penicillin</td>\n      <td>Abnormal</td>\n      <td>14331.152410</td>\n      <td>0.00</td>\n    </tr>\n  </tbody>\n</table>\n<p>10000 rows × 16 columns</p>\n</div>"
          },
          "metadata": {}
        }
      ],
      "execution_count": 241
    },
    {
      "id": "9688c1ac-e183-4c65-8259-1186d2399e80",
      "cell_type": "code",
      "source": "import matplotlib.pyplot as plt\nimport seaborn as sns\n#funnel chart\n\nplt.figure(figsize=(10,10))\nplt.title('Funnel Chart')\nplt.xlabel('Step')\nplt.ylabel('Percentage')\nsteps = ['Pre-Consultation', 'Consultation', 'Diagnosis', 'Treatment', 'Recovery']\nvalues = [0.1, 0.2, 0.3, 0.4, 0.5]\nplt.plot(steps, values)\nplt.show()\n\n#donut chart\nplt.figure(figsize=(10,10))\nplt.title('Donut Chart')\nplt.xlabel('Blood Type')\nplt.ylabel('Percentage')\nlabels = ['A+', 'B+', 'AB+', 'O+', 'A-', 'B-', 'AB-', 'O-']\nvalues = [0.1, 0.2, 0.3, 0.4, 0.5, 0.6, 0.7, 0.8]\nplt.pie(values, labels=labels, autopct='%1.1f%%')\nplt.show()\n\n# Distribution of Age\nplt.figure(figsize=(10, 5))\nsns.histplot(data['Age'], bins=20, kde=True)\nplt.xlabel('Age')\nplt.ylabel('Count')\nplt.title('Distribution of Age')\nplt.show()\n\n\n",
      "metadata": {
        "colab": {
          "base_uri": "https://localhost:8080/",
          "height": 1000
        },
        "id": "9688c1ac-e183-4c65-8259-1186d2399e80",
        "outputId": "e707f59d-e7f5-4828-ff04-8106bc004383",
        "trusted": true
      },
      "outputs": [
        {
          "ename": "<class 'ModuleNotFoundError'>",
          "evalue": "No module named 'seaborn'",
          "traceback": [
            "\u001b[0;31m---------------------------------------------------------------------------\u001b[0m",
            "\u001b[0;31mModuleNotFoundError\u001b[0m                       Traceback (most recent call last)",
            "Cell \u001b[0;32mIn[242], line 2\u001b[0m\n\u001b[1;32m      1\u001b[0m \u001b[38;5;28;01mimport\u001b[39;00m \u001b[38;5;21;01mmatplotlib\u001b[39;00m\u001b[38;5;21;01m.\u001b[39;00m\u001b[38;5;21;01mpyplot\u001b[39;00m \u001b[38;5;28;01mas\u001b[39;00m \u001b[38;5;21;01mplt\u001b[39;00m\n\u001b[0;32m----> 2\u001b[0m \u001b[38;5;28;01mimport\u001b[39;00m \u001b[38;5;21;01mseaborn\u001b[39;00m \u001b[38;5;28;01mas\u001b[39;00m \u001b[38;5;21;01msns\u001b[39;00m\n\u001b[1;32m      3\u001b[0m \u001b[38;5;66;03m#funnel chart\u001b[39;00m\n\u001b[1;32m      5\u001b[0m plt\u001b[38;5;241m.\u001b[39mfigure(figsize\u001b[38;5;241m=\u001b[39m(\u001b[38;5;241m10\u001b[39m,\u001b[38;5;241m10\u001b[39m))\n",
            "\u001b[0;31mModuleNotFoundError\u001b[0m: No module named 'seaborn'"
          ],
          "output_type": "error"
        }
      ],
      "execution_count": 242
    },
    {
      "id": "e95ea8fc-1ad7-41f3-acba-d459ec9e70a5",
      "cell_type": "code",
      "source": "\nhealth.columns\nhealth.info()\n#correlation matrix\nhealth.corr()\n\n",
      "metadata": {
        "colab": {
          "base_uri": "https://localhost:8080/",
          "height": 659
        },
        "id": "e95ea8fc-1ad7-41f3-acba-d459ec9e70a5",
        "outputId": "f8ea8d2e-9411-4371-c64d-c5050a001c03",
        "trusted": true
      },
      "outputs": [
        {
          "name": "stdout",
          "text": "<class 'pandas.core.frame.DataFrame'>\nRangeIndex: 10000 entries, 0 to 9999\nData columns (total 16 columns):\n #   Column              Non-Null Count  Dtype  \n---  ------              --------------  -----  \n 0   Name                10000 non-null  object \n 1   Age                 10000 non-null  int64  \n 2   Gender              10000 non-null  object \n 3   Blood Type          10000 non-null  object \n 4   Medical Condition   10000 non-null  object \n 5   Date of Admission   10000 non-null  object \n 6   Doctor              10000 non-null  object \n 7   Hospital            10000 non-null  object \n 8   Insurance Provider  10000 non-null  object \n 9   Room Number         10000 non-null  int64  \n 10  Admission Type      10000 non-null  object \n 11  Discharge Date      10000 non-null  object \n 12  Medication          10000 non-null  object \n 13  Test Results        10000 non-null  object \n 14  Billing_amount_OMR  10000 non-null  float64\n 15  age_percentage      10000 non-null  float64\ndtypes: float64(2), int64(2), object(12)\nmemory usage: 781.3+ KB\n",
          "output_type": "stream"
        },
        {
          "name": "stderr",
          "text": "<ipython-input-243-68ce98371af7>:4: FutureWarning: The default value of numeric_only in DataFrame.corr is deprecated. In a future version, it will default to False. Select only valid columns or specify the value of numeric_only to silence this warning.\n  health.corr()\n",
          "output_type": "stream"
        },
        {
          "execution_count": 243,
          "output_type": "execute_result",
          "data": {
            "text/plain": "                         Age  Room Number  Billing_amount_OMR  age_percentage\nAge                 1.000000    -0.005371           -0.009483        0.737541\nRoom Number        -0.005371     1.000000           -0.006160       -0.006682\nBilling_amount_OMR -0.009483    -0.006160            1.000000       -0.016050\nage_percentage      0.737541    -0.006682           -0.016050        1.000000",
            "text/html": "<div>\n<style scoped>\n    .dataframe tbody tr th:only-of-type {\n        vertical-align: middle;\n    }\n\n    .dataframe tbody tr th {\n        vertical-align: top;\n    }\n\n    .dataframe thead th {\n        text-align: right;\n    }\n</style>\n<table border=\"1\" class=\"dataframe\">\n  <thead>\n    <tr style=\"text-align: right;\">\n      <th></th>\n      <th>Age</th>\n      <th>Room Number</th>\n      <th>Billing_amount_OMR</th>\n      <th>age_percentage</th>\n    </tr>\n  </thead>\n  <tbody>\n    <tr>\n      <th>Age</th>\n      <td>1.000000</td>\n      <td>-0.005371</td>\n      <td>-0.009483</td>\n      <td>0.737541</td>\n    </tr>\n    <tr>\n      <th>Room Number</th>\n      <td>-0.005371</td>\n      <td>1.000000</td>\n      <td>-0.006160</td>\n      <td>-0.006682</td>\n    </tr>\n    <tr>\n      <th>Billing_amount_OMR</th>\n      <td>-0.009483</td>\n      <td>-0.006160</td>\n      <td>1.000000</td>\n      <td>-0.016050</td>\n    </tr>\n    <tr>\n      <th>age_percentage</th>\n      <td>0.737541</td>\n      <td>-0.006682</td>\n      <td>-0.016050</td>\n      <td>1.000000</td>\n    </tr>\n  </tbody>\n</table>\n</div>"
          },
          "metadata": {}
        }
      ],
      "execution_count": 243
    },
    {
      "id": "3f039f1b-b9ed-489c-b3eb-d3a5629a0a04",
      "cell_type": "code",
      "source": "",
      "metadata": {
        "trusted": true
      },
      "outputs": [],
      "execution_count": null
    },
    {
      "id": "aY4O5db1G3zP",
      "cell_type": "code",
      "source": "for col in health.columns:\n    print(col, health[col].nunique())",
      "metadata": {
        "colab": {
          "base_uri": "https://localhost:8080/",
          "height": 424
        },
        "id": "aY4O5db1G3zP",
        "outputId": "c0cf6e06-3a07-437a-bdfd-6176b230cb90",
        "trusted": true
      },
      "outputs": [
        {
          "name": "stdout",
          "text": "Name 9378\nAge 68\nGender 2\nBlood Type 8\nMedical Condition 6\nDate of Admission 1815\nDoctor 9416\nHospital 8639\nInsurance Provider 5\nRoom Number 400\nAdmission Type 3\nDischarge Date 1834\nMedication 5\nTest Results 3\nBilling_amount_OMR 10000\nage_percentage 3\n",
          "output_type": "stream"
        }
      ],
      "execution_count": 244
    },
    {
      "id": "067f648d-6aaf-4519-a046-563a3bb63a68",
      "cell_type": "markdown",
      "source": "# Feature Engineering:",
      "metadata": {
        "id": "067f648d-6aaf-4519-a046-563a3bb63a68"
      }
    },
    {
      "id": "2fbb4c7d-e1e8-4e75-b58c-49dae1bba39e",
      "cell_type": "markdown",
      "source": "Feature Engineering: Based on their EDA findings, students will select the relevant features for analysis.\nAny suitable method of feature selection and reduction can be used so that\nstudents can explain why they have selected the features and justify why other features were excluded.",
      "metadata": {
        "id": "2fbb4c7d-e1e8-4e75-b58c-49dae1bba39e"
      }
    },
    {
      "id": "470b215e-4deb-4b94-b7b1-1c4c1453a460",
      "cell_type": "code",
      "source": "\nhealth.columns\nhealth.head()\nhealth.info()\nhealth.describe()\nhealth['age_percentage'].value_counts()\nhealth.groupby('Blood Type').sum()\nhealth.groupby('Room Number').sum()\nhealth.groupby('Test Results').sum()\nhealth.groupby('Age').sum()\nhealth.groupby('Billing_amount_OMR').sum()\n",
      "metadata": {
        "colab": {
          "base_uri": "https://localhost:8080/",
          "height": 1000
        },
        "id": "470b215e-4deb-4b94-b7b1-1c4c1453a460",
        "outputId": "25a31adb-f428-42ce-8810-32674862cbc4",
        "trusted": true
      },
      "outputs": [
        {
          "name": "stdout",
          "text": "<class 'pandas.core.frame.DataFrame'>\nRangeIndex: 10000 entries, 0 to 9999\nData columns (total 16 columns):\n #   Column              Non-Null Count  Dtype  \n---  ------              --------------  -----  \n 0   Name                10000 non-null  object \n 1   Age                 10000 non-null  int64  \n 2   Gender              10000 non-null  object \n 3   Blood Type          10000 non-null  object \n 4   Medical Condition   10000 non-null  object \n 5   Date of Admission   10000 non-null  object \n 6   Doctor              10000 non-null  object \n 7   Hospital            10000 non-null  object \n 8   Insurance Provider  10000 non-null  object \n 9   Room Number         10000 non-null  int64  \n 10  Admission Type      10000 non-null  object \n 11  Discharge Date      10000 non-null  object \n 12  Medication          10000 non-null  object \n 13  Test Results        10000 non-null  object \n 14  Billing_amount_OMR  10000 non-null  float64\n 15  age_percentage      10000 non-null  float64\ndtypes: float64(2), int64(2), object(12)\nmemory usage: 781.3+ KB\n",
          "output_type": "stream"
        },
        {
          "name": "stderr",
          "text": "<ipython-input-245-79ad230f67f3>:6: FutureWarning: The default value of numeric_only in DataFrameGroupBy.sum is deprecated. In a future version, numeric_only will default to False. Either specify numeric_only or select only columns which should be valid for the function.\n  health.groupby('Blood Type').sum()\n<ipython-input-245-79ad230f67f3>:7: FutureWarning: The default value of numeric_only in DataFrameGroupBy.sum is deprecated. In a future version, numeric_only will default to False. Either specify numeric_only or select only columns which should be valid for the function.\n  health.groupby('Room Number').sum()\n<ipython-input-245-79ad230f67f3>:8: FutureWarning: The default value of numeric_only in DataFrameGroupBy.sum is deprecated. In a future version, numeric_only will default to False. Either specify numeric_only or select only columns which should be valid for the function.\n  health.groupby('Test Results').sum()\n<ipython-input-245-79ad230f67f3>:9: FutureWarning: The default value of numeric_only in DataFrameGroupBy.sum is deprecated. In a future version, numeric_only will default to False. Either specify numeric_only or select only columns which should be valid for the function.\n  health.groupby('Age').sum()\n<ipython-input-245-79ad230f67f3>:10: FutureWarning: The default value of numeric_only in DataFrameGroupBy.sum is deprecated. In a future version, numeric_only will default to False. Either specify numeric_only or select only columns which should be valid for the function.\n  health.groupby('Billing_amount_OMR').sum()\n",
          "output_type": "stream"
        },
        {
          "execution_count": 245,
          "output_type": "execute_result",
          "data": {
            "text/plain": "                    Age  Room Number  age_percentage\nBilling_amount_OMR                                  \n385.067622           70          258            0.01\n386.698497           31          102            0.01\n388.623652           62          491            0.01\n392.828009           51          308            0.01\n397.419224           74          377            0.01\n...                 ...          ...             ...\n19240.005219         59          242            0.01\n19240.200588         35          390            0.01\n19244.499659         79          483            0.02\n19247.969135         75          296            0.01\n19248.322387         77          196            0.01\n\n[10000 rows x 3 columns]",
            "text/html": "<div>\n<style scoped>\n    .dataframe tbody tr th:only-of-type {\n        vertical-align: middle;\n    }\n\n    .dataframe tbody tr th {\n        vertical-align: top;\n    }\n\n    .dataframe thead th {\n        text-align: right;\n    }\n</style>\n<table border=\"1\" class=\"dataframe\">\n  <thead>\n    <tr style=\"text-align: right;\">\n      <th></th>\n      <th>Age</th>\n      <th>Room Number</th>\n      <th>age_percentage</th>\n    </tr>\n    <tr>\n      <th>Billing_amount_OMR</th>\n      <th></th>\n      <th></th>\n      <th></th>\n    </tr>\n  </thead>\n  <tbody>\n    <tr>\n      <th>385.067622</th>\n      <td>70</td>\n      <td>258</td>\n      <td>0.01</td>\n    </tr>\n    <tr>\n      <th>386.698497</th>\n      <td>31</td>\n      <td>102</td>\n      <td>0.01</td>\n    </tr>\n    <tr>\n      <th>388.623652</th>\n      <td>62</td>\n      <td>491</td>\n      <td>0.01</td>\n    </tr>\n    <tr>\n      <th>392.828009</th>\n      <td>51</td>\n      <td>308</td>\n      <td>0.01</td>\n    </tr>\n    <tr>\n      <th>397.419224</th>\n      <td>74</td>\n      <td>377</td>\n      <td>0.01</td>\n    </tr>\n    <tr>\n      <th>...</th>\n      <td>...</td>\n      <td>...</td>\n      <td>...</td>\n    </tr>\n    <tr>\n      <th>19240.005219</th>\n      <td>59</td>\n      <td>242</td>\n      <td>0.01</td>\n    </tr>\n    <tr>\n      <th>19240.200588</th>\n      <td>35</td>\n      <td>390</td>\n      <td>0.01</td>\n    </tr>\n    <tr>\n      <th>19244.499659</th>\n      <td>79</td>\n      <td>483</td>\n      <td>0.02</td>\n    </tr>\n    <tr>\n      <th>19247.969135</th>\n      <td>75</td>\n      <td>296</td>\n      <td>0.01</td>\n    </tr>\n    <tr>\n      <th>19248.322387</th>\n      <td>77</td>\n      <td>196</td>\n      <td>0.01</td>\n    </tr>\n  </tbody>\n</table>\n<p>10000 rows × 3 columns</p>\n</div>"
          },
          "metadata": {}
        }
      ],
      "execution_count": 245
    },
    {
      "id": "Dyt8bGaz__q-",
      "cell_type": "code",
      "source": "from sklearn.preprocessing import LabelEncoder\nlc = LabelEncoder()\nfor col in health.columns:\n    if col!='Age':\n        health[col]=lc.fit_transform(health[col])\nhealth.head()",
      "metadata": {
        "id": "Dyt8bGaz__q-",
        "trusted": true
      },
      "outputs": [
        {
          "execution_count": 250,
          "output_type": "execute_result",
          "data": {
            "text/plain": "   Name  Age  Gender  Medical Condition  Date of Admission  Doctor  Hospital  \\\n0  8837   81       0                  3               1468    7167      7960   \n1  7736   35       1                  1               1664    2597       978   \n2  1508   61       1                  5                 71    7180      7996   \n3   721   49       1                  1                548    1169      2482   \n4  6782   51       1                  0                980    2775      3908   \n\n   Insurance Provider  Room Number  Admission Type  ...  Blood Type_A-  \\\n0                   3           45               0  ...              0   \n1                   4          303               1  ...              0   \n2                   3          191               1  ...              0   \n3                   3          379               2  ...              0   \n4                   4          376               2  ...              0   \n\n   Blood Type_AB+  Blood Type_AB-  Blood Type_B+  Blood Type_B-  \\\n0               0               0              0              0   \n1               0               0              0              0   \n2               0               0              0              1   \n3               0               0              0              1   \n4               0               0              0              0   \n\n   Blood Type_O+  Blood Type_O-  Test Results_Abnormal  \\\n0              0              1                      0   \n1              1              0                      0   \n2              0              0                      0   \n3              0              0                      1   \n4              0              1                      0   \n\n   Test Results_Inconclusive  Test Results_Normal  \n0                          1                    0  \n1                          0                    1  \n2                          0                    1  \n3                          0                    0  \n4                          0                    1  \n\n[5 rows x 25 columns]",
            "text/html": "<div>\n<style scoped>\n    .dataframe tbody tr th:only-of-type {\n        vertical-align: middle;\n    }\n\n    .dataframe tbody tr th {\n        vertical-align: top;\n    }\n\n    .dataframe thead th {\n        text-align: right;\n    }\n</style>\n<table border=\"1\" class=\"dataframe\">\n  <thead>\n    <tr style=\"text-align: right;\">\n      <th></th>\n      <th>Name</th>\n      <th>Age</th>\n      <th>Gender</th>\n      <th>Medical Condition</th>\n      <th>Date of Admission</th>\n      <th>Doctor</th>\n      <th>Hospital</th>\n      <th>Insurance Provider</th>\n      <th>Room Number</th>\n      <th>Admission Type</th>\n      <th>...</th>\n      <th>Blood Type_A-</th>\n      <th>Blood Type_AB+</th>\n      <th>Blood Type_AB-</th>\n      <th>Blood Type_B+</th>\n      <th>Blood Type_B-</th>\n      <th>Blood Type_O+</th>\n      <th>Blood Type_O-</th>\n      <th>Test Results_Abnormal</th>\n      <th>Test Results_Inconclusive</th>\n      <th>Test Results_Normal</th>\n    </tr>\n  </thead>\n  <tbody>\n    <tr>\n      <th>0</th>\n      <td>8837</td>\n      <td>81</td>\n      <td>0</td>\n      <td>3</td>\n      <td>1468</td>\n      <td>7167</td>\n      <td>7960</td>\n      <td>3</td>\n      <td>45</td>\n      <td>0</td>\n      <td>...</td>\n      <td>0</td>\n      <td>0</td>\n      <td>0</td>\n      <td>0</td>\n      <td>0</td>\n      <td>0</td>\n      <td>1</td>\n      <td>0</td>\n      <td>1</td>\n      <td>0</td>\n    </tr>\n    <tr>\n      <th>1</th>\n      <td>7736</td>\n      <td>35</td>\n      <td>1</td>\n      <td>1</td>\n      <td>1664</td>\n      <td>2597</td>\n      <td>978</td>\n      <td>4</td>\n      <td>303</td>\n      <td>1</td>\n      <td>...</td>\n      <td>0</td>\n      <td>0</td>\n      <td>0</td>\n      <td>0</td>\n      <td>0</td>\n      <td>1</td>\n      <td>0</td>\n      <td>0</td>\n      <td>0</td>\n      <td>1</td>\n    </tr>\n    <tr>\n      <th>2</th>\n      <td>1508</td>\n      <td>61</td>\n      <td>1</td>\n      <td>5</td>\n      <td>71</td>\n      <td>7180</td>\n      <td>7996</td>\n      <td>3</td>\n      <td>191</td>\n      <td>1</td>\n      <td>...</td>\n      <td>0</td>\n      <td>0</td>\n      <td>0</td>\n      <td>0</td>\n      <td>1</td>\n      <td>0</td>\n      <td>0</td>\n      <td>0</td>\n      <td>0</td>\n      <td>1</td>\n    </tr>\n    <tr>\n      <th>3</th>\n      <td>721</td>\n      <td>49</td>\n      <td>1</td>\n      <td>1</td>\n      <td>548</td>\n      <td>1169</td>\n      <td>2482</td>\n      <td>3</td>\n      <td>379</td>\n      <td>2</td>\n      <td>...</td>\n      <td>0</td>\n      <td>0</td>\n      <td>0</td>\n      <td>0</td>\n      <td>1</td>\n      <td>0</td>\n      <td>0</td>\n      <td>1</td>\n      <td>0</td>\n      <td>0</td>\n    </tr>\n    <tr>\n      <th>4</th>\n      <td>6782</td>\n      <td>51</td>\n      <td>1</td>\n      <td>0</td>\n      <td>980</td>\n      <td>2775</td>\n      <td>3908</td>\n      <td>4</td>\n      <td>376</td>\n      <td>2</td>\n      <td>...</td>\n      <td>0</td>\n      <td>0</td>\n      <td>0</td>\n      <td>0</td>\n      <td>0</td>\n      <td>0</td>\n      <td>1</td>\n      <td>0</td>\n      <td>0</td>\n      <td>1</td>\n    </tr>\n  </tbody>\n</table>\n<p>5 rows × 25 columns</p>\n</div>"
          },
          "metadata": {}
        }
      ],
      "execution_count": 250
    },
    {
      "id": "a78eacbc-16ba-4547-aa63-28f0c80f8bfe",
      "cell_type": "code",
      "source": "X,y=health.drop(['Test Results'],axis=1), health['Test Results']\nX_train,X_test,y_train,y_test = train_test_split(X,y,test_size=0.2)\nX_train.shape, y_test.shape\n\nX,y=df.drop(['Test Results'],axis=1), df['Test Results']\nX_train,X_test,y_train,y_test = train_test_split(X,y,test_size=0.2)",
      "metadata": {
        "trusted": true
      },
      "outputs": [
        {
          "ename": "<class 'KeyError'>",
          "evalue": "\"['Test Results'] not found in axis\"",
          "traceback": [
            "\u001b[0;31m---------------------------------------------------------------------------\u001b[0m",
            "\u001b[0;31mKeyError\u001b[0m                                  Traceback (most recent call last)",
            "Cell \u001b[0;32mIn[252], line 1\u001b[0m\n\u001b[0;32m----> 1\u001b[0m X,y\u001b[38;5;241m=\u001b[39m\u001b[43mhealth\u001b[49m\u001b[38;5;241;43m.\u001b[39;49m\u001b[43mdrop\u001b[49m\u001b[43m(\u001b[49m\u001b[43m[\u001b[49m\u001b[38;5;124;43m'\u001b[39;49m\u001b[38;5;124;43mTest Results\u001b[39;49m\u001b[38;5;124;43m'\u001b[39;49m\u001b[43m]\u001b[49m\u001b[43m,\u001b[49m\u001b[43maxis\u001b[49m\u001b[38;5;241;43m=\u001b[39;49m\u001b[38;5;241;43m1\u001b[39;49m\u001b[43m)\u001b[49m, health[\u001b[38;5;124m'\u001b[39m\u001b[38;5;124mTest Results\u001b[39m\u001b[38;5;124m'\u001b[39m]\n\u001b[1;32m      2\u001b[0m X_train,X_test,y_train,y_test \u001b[38;5;241m=\u001b[39m train_test_split(X,y,test_size\u001b[38;5;241m=\u001b[39m\u001b[38;5;241m0.2\u001b[39m)\n\u001b[1;32m      3\u001b[0m X_train\u001b[38;5;241m.\u001b[39mshape, y_test\u001b[38;5;241m.\u001b[39mshape\n",
            "File \u001b[0;32m/lib/python3.11/site-packages/pandas/util/_decorators.py:331\u001b[0m, in \u001b[0;36mdeprecate_nonkeyword_arguments.<locals>.decorate.<locals>.wrapper\u001b[0;34m(*args, **kwargs)\u001b[0m\n\u001b[1;32m    325\u001b[0m \u001b[38;5;28;01mif\u001b[39;00m \u001b[38;5;28mlen\u001b[39m(args) \u001b[38;5;241m>\u001b[39m num_allow_args:\n\u001b[1;32m    326\u001b[0m     warnings\u001b[38;5;241m.\u001b[39mwarn(\n\u001b[1;32m    327\u001b[0m         msg\u001b[38;5;241m.\u001b[39mformat(arguments\u001b[38;5;241m=\u001b[39m_format_argument_list(allow_args)),\n\u001b[1;32m    328\u001b[0m         \u001b[38;5;167;01mFutureWarning\u001b[39;00m,\n\u001b[1;32m    329\u001b[0m         stacklevel\u001b[38;5;241m=\u001b[39mfind_stack_level(),\n\u001b[1;32m    330\u001b[0m     )\n\u001b[0;32m--> 331\u001b[0m \u001b[38;5;28;01mreturn\u001b[39;00m \u001b[43mfunc\u001b[49m\u001b[43m(\u001b[49m\u001b[38;5;241;43m*\u001b[39;49m\u001b[43margs\u001b[49m\u001b[43m,\u001b[49m\u001b[43m \u001b[49m\u001b[38;5;241;43m*\u001b[39;49m\u001b[38;5;241;43m*\u001b[39;49m\u001b[43mkwargs\u001b[49m\u001b[43m)\u001b[49m\n",
            "File \u001b[0;32m/lib/python3.11/site-packages/pandas/core/frame.py:5399\u001b[0m, in \u001b[0;36mDataFrame.drop\u001b[0;34m(self, labels, axis, index, columns, level, inplace, errors)\u001b[0m\n\u001b[1;32m   5251\u001b[0m \u001b[38;5;129m@deprecate_nonkeyword_arguments\u001b[39m(version\u001b[38;5;241m=\u001b[39m\u001b[38;5;28;01mNone\u001b[39;00m, allowed_args\u001b[38;5;241m=\u001b[39m[\u001b[38;5;124m\"\u001b[39m\u001b[38;5;124mself\u001b[39m\u001b[38;5;124m\"\u001b[39m, \u001b[38;5;124m\"\u001b[39m\u001b[38;5;124mlabels\u001b[39m\u001b[38;5;124m\"\u001b[39m])\n\u001b[1;32m   5252\u001b[0m \u001b[38;5;28;01mdef\u001b[39;00m \u001b[38;5;21mdrop\u001b[39m(  \u001b[38;5;66;03m# type: ignore[override]\u001b[39;00m\n\u001b[1;32m   5253\u001b[0m     \u001b[38;5;28mself\u001b[39m,\n\u001b[0;32m   (...)\u001b[0m\n\u001b[1;32m   5260\u001b[0m     errors: IgnoreRaise \u001b[38;5;241m=\u001b[39m \u001b[38;5;124m\"\u001b[39m\u001b[38;5;124mraise\u001b[39m\u001b[38;5;124m\"\u001b[39m,\n\u001b[1;32m   5261\u001b[0m ) \u001b[38;5;241m-\u001b[39m\u001b[38;5;241m>\u001b[39m DataFrame \u001b[38;5;241m|\u001b[39m \u001b[38;5;28;01mNone\u001b[39;00m:\n\u001b[1;32m   5262\u001b[0m \u001b[38;5;250m    \u001b[39m\u001b[38;5;124;03m\"\"\"\u001b[39;00m\n\u001b[1;32m   5263\u001b[0m \u001b[38;5;124;03m    Drop specified labels from rows or columns.\u001b[39;00m\n\u001b[1;32m   5264\u001b[0m \n\u001b[0;32m   (...)\u001b[0m\n\u001b[1;32m   5397\u001b[0m \u001b[38;5;124;03m            weight  1.0     0.8\u001b[39;00m\n\u001b[1;32m   5398\u001b[0m \u001b[38;5;124;03m    \"\"\"\u001b[39;00m\n\u001b[0;32m-> 5399\u001b[0m     \u001b[38;5;28;01mreturn\u001b[39;00m \u001b[38;5;28;43msuper\u001b[39;49m\u001b[43m(\u001b[49m\u001b[43m)\u001b[49m\u001b[38;5;241;43m.\u001b[39;49m\u001b[43mdrop\u001b[49m\u001b[43m(\u001b[49m\n\u001b[1;32m   5400\u001b[0m \u001b[43m        \u001b[49m\u001b[43mlabels\u001b[49m\u001b[38;5;241;43m=\u001b[39;49m\u001b[43mlabels\u001b[49m\u001b[43m,\u001b[49m\n\u001b[1;32m   5401\u001b[0m \u001b[43m        \u001b[49m\u001b[43maxis\u001b[49m\u001b[38;5;241;43m=\u001b[39;49m\u001b[43maxis\u001b[49m\u001b[43m,\u001b[49m\n\u001b[1;32m   5402\u001b[0m \u001b[43m        \u001b[49m\u001b[43mindex\u001b[49m\u001b[38;5;241;43m=\u001b[39;49m\u001b[43mindex\u001b[49m\u001b[43m,\u001b[49m\n\u001b[1;32m   5403\u001b[0m \u001b[43m        \u001b[49m\u001b[43mcolumns\u001b[49m\u001b[38;5;241;43m=\u001b[39;49m\u001b[43mcolumns\u001b[49m\u001b[43m,\u001b[49m\n\u001b[1;32m   5404\u001b[0m \u001b[43m        \u001b[49m\u001b[43mlevel\u001b[49m\u001b[38;5;241;43m=\u001b[39;49m\u001b[43mlevel\u001b[49m\u001b[43m,\u001b[49m\n\u001b[1;32m   5405\u001b[0m \u001b[43m        \u001b[49m\u001b[43minplace\u001b[49m\u001b[38;5;241;43m=\u001b[39;49m\u001b[43minplace\u001b[49m\u001b[43m,\u001b[49m\n\u001b[1;32m   5406\u001b[0m \u001b[43m        \u001b[49m\u001b[43merrors\u001b[49m\u001b[38;5;241;43m=\u001b[39;49m\u001b[43merrors\u001b[49m\u001b[43m,\u001b[49m\n\u001b[1;32m   5407\u001b[0m \u001b[43m    \u001b[49m\u001b[43m)\u001b[49m\n",
            "File \u001b[0;32m/lib/python3.11/site-packages/pandas/util/_decorators.py:331\u001b[0m, in \u001b[0;36mdeprecate_nonkeyword_arguments.<locals>.decorate.<locals>.wrapper\u001b[0;34m(*args, **kwargs)\u001b[0m\n\u001b[1;32m    325\u001b[0m \u001b[38;5;28;01mif\u001b[39;00m \u001b[38;5;28mlen\u001b[39m(args) \u001b[38;5;241m>\u001b[39m num_allow_args:\n\u001b[1;32m    326\u001b[0m     warnings\u001b[38;5;241m.\u001b[39mwarn(\n\u001b[1;32m    327\u001b[0m         msg\u001b[38;5;241m.\u001b[39mformat(arguments\u001b[38;5;241m=\u001b[39m_format_argument_list(allow_args)),\n\u001b[1;32m    328\u001b[0m         \u001b[38;5;167;01mFutureWarning\u001b[39;00m,\n\u001b[1;32m    329\u001b[0m         stacklevel\u001b[38;5;241m=\u001b[39mfind_stack_level(),\n\u001b[1;32m    330\u001b[0m     )\n\u001b[0;32m--> 331\u001b[0m \u001b[38;5;28;01mreturn\u001b[39;00m \u001b[43mfunc\u001b[49m\u001b[43m(\u001b[49m\u001b[38;5;241;43m*\u001b[39;49m\u001b[43margs\u001b[49m\u001b[43m,\u001b[49m\u001b[43m \u001b[49m\u001b[38;5;241;43m*\u001b[39;49m\u001b[38;5;241;43m*\u001b[39;49m\u001b[43mkwargs\u001b[49m\u001b[43m)\u001b[49m\n",
            "File \u001b[0;32m/lib/python3.11/site-packages/pandas/core/generic.py:4505\u001b[0m, in \u001b[0;36mNDFrame.drop\u001b[0;34m(self, labels, axis, index, columns, level, inplace, errors)\u001b[0m\n\u001b[1;32m   4503\u001b[0m \u001b[38;5;28;01mfor\u001b[39;00m axis, labels \u001b[38;5;129;01min\u001b[39;00m axes\u001b[38;5;241m.\u001b[39mitems():\n\u001b[1;32m   4504\u001b[0m     \u001b[38;5;28;01mif\u001b[39;00m labels \u001b[38;5;129;01mis\u001b[39;00m \u001b[38;5;129;01mnot\u001b[39;00m \u001b[38;5;28;01mNone\u001b[39;00m:\n\u001b[0;32m-> 4505\u001b[0m         obj \u001b[38;5;241m=\u001b[39m \u001b[43mobj\u001b[49m\u001b[38;5;241;43m.\u001b[39;49m\u001b[43m_drop_axis\u001b[49m\u001b[43m(\u001b[49m\u001b[43mlabels\u001b[49m\u001b[43m,\u001b[49m\u001b[43m \u001b[49m\u001b[43maxis\u001b[49m\u001b[43m,\u001b[49m\u001b[43m \u001b[49m\u001b[43mlevel\u001b[49m\u001b[38;5;241;43m=\u001b[39;49m\u001b[43mlevel\u001b[49m\u001b[43m,\u001b[49m\u001b[43m \u001b[49m\u001b[43merrors\u001b[49m\u001b[38;5;241;43m=\u001b[39;49m\u001b[43merrors\u001b[49m\u001b[43m)\u001b[49m\n\u001b[1;32m   4507\u001b[0m \u001b[38;5;28;01mif\u001b[39;00m inplace:\n\u001b[1;32m   4508\u001b[0m     \u001b[38;5;28mself\u001b[39m\u001b[38;5;241m.\u001b[39m_update_inplace(obj)\n",
            "File \u001b[0;32m/lib/python3.11/site-packages/pandas/core/generic.py:4546\u001b[0m, in \u001b[0;36mNDFrame._drop_axis\u001b[0;34m(self, labels, axis, level, errors, only_slice)\u001b[0m\n\u001b[1;32m   4544\u001b[0m         new_axis \u001b[38;5;241m=\u001b[39m axis\u001b[38;5;241m.\u001b[39mdrop(labels, level\u001b[38;5;241m=\u001b[39mlevel, errors\u001b[38;5;241m=\u001b[39merrors)\n\u001b[1;32m   4545\u001b[0m     \u001b[38;5;28;01melse\u001b[39;00m:\n\u001b[0;32m-> 4546\u001b[0m         new_axis \u001b[38;5;241m=\u001b[39m \u001b[43maxis\u001b[49m\u001b[38;5;241;43m.\u001b[39;49m\u001b[43mdrop\u001b[49m\u001b[43m(\u001b[49m\u001b[43mlabels\u001b[49m\u001b[43m,\u001b[49m\u001b[43m \u001b[49m\u001b[43merrors\u001b[49m\u001b[38;5;241;43m=\u001b[39;49m\u001b[43merrors\u001b[49m\u001b[43m)\u001b[49m\n\u001b[1;32m   4547\u001b[0m     indexer \u001b[38;5;241m=\u001b[39m axis\u001b[38;5;241m.\u001b[39mget_indexer(new_axis)\n\u001b[1;32m   4549\u001b[0m \u001b[38;5;66;03m# Case for non-unique axis\u001b[39;00m\n\u001b[1;32m   4550\u001b[0m \u001b[38;5;28;01melse\u001b[39;00m:\n",
            "File \u001b[0;32m/lib/python3.11/site-packages/pandas/core/indexes/base.py:6934\u001b[0m, in \u001b[0;36mIndex.drop\u001b[0;34m(self, labels, errors)\u001b[0m\n\u001b[1;32m   6932\u001b[0m \u001b[38;5;28;01mif\u001b[39;00m mask\u001b[38;5;241m.\u001b[39many():\n\u001b[1;32m   6933\u001b[0m     \u001b[38;5;28;01mif\u001b[39;00m errors \u001b[38;5;241m!=\u001b[39m \u001b[38;5;124m\"\u001b[39m\u001b[38;5;124mignore\u001b[39m\u001b[38;5;124m\"\u001b[39m:\n\u001b[0;32m-> 6934\u001b[0m         \u001b[38;5;28;01mraise\u001b[39;00m \u001b[38;5;167;01mKeyError\u001b[39;00m(\u001b[38;5;124mf\u001b[39m\u001b[38;5;124m\"\u001b[39m\u001b[38;5;132;01m{\u001b[39;00m\u001b[38;5;28mlist\u001b[39m(labels[mask])\u001b[38;5;132;01m}\u001b[39;00m\u001b[38;5;124m not found in axis\u001b[39m\u001b[38;5;124m\"\u001b[39m)\n\u001b[1;32m   6935\u001b[0m     indexer \u001b[38;5;241m=\u001b[39m indexer[\u001b[38;5;241m~\u001b[39mmask]\n\u001b[1;32m   6936\u001b[0m \u001b[38;5;28;01mreturn\u001b[39;00m \u001b[38;5;28mself\u001b[39m\u001b[38;5;241m.\u001b[39mdelete(indexer)\n",
            "\u001b[0;31mKeyError\u001b[0m: \"['Test Results'] not found in axis\""
          ],
          "output_type": "error"
        }
      ],
      "execution_count": 252
    },
    {
      "id": "c979e83c-cc5b-4d96-a6ca-8afd2a4eb292",
      "cell_type": "code",
      "source": "",
      "metadata": {
        "trusted": true
      },
      "outputs": [],
      "execution_count": null
    },
    {
      "id": "774c1341-2045-4c38-9fbe-76ca8f0a5c28",
      "cell_type": "code",
      "source": "",
      "metadata": {
        "trusted": true
      },
      "outputs": [],
      "execution_count": null
    },
    {
      "id": "avf6To_F-3VL",
      "cell_type": "code",
      "source": "\nfrom sklearn.model_selection import train_test_split\nfrom sklearn.linear_model import LinearRegression\nfrom sklearn.metrics import r2_score\nhealth = pd.get_dummies(health, columns=[ 'Blood Type', 'Test Results'])\n\n# Split the data into training and testing sets\nX_train, X_test, y_train, y_test = train_test_split(health[['Age','Room Number','Blood Type_A+',\t'Blood Type_A-',\t'Blood Type_AB+',\t'Blood Type_AB-','Blood Type_B+',\t'Blood Type_B-',\t'Blood Type_O+',\t'Blood Type_O-',\t'Test Results_Abnormal',\t'Test Results_Inconclusive',\t'Test Results_Normal']], health['Billing_amount_OMR'], test_size=0.25)\n\n# Create a linear regression model\nmodel = LinearRegression()\n\n# Fit the model to the training data\nmodel.fit(X_train, y_train)\n\n# Make predictions on the test data\ny_pred = model.predict(X_test)\n\n# Evaluate the model\nacc = r2_score(y_test, y_pred)\nprint(acc)\n\n\ncorr_matrix = health.corr()\ncorr_matrix['Billing_amount_OMR'].sort_values(ascending=False)\n\n\nX_train, X_test, y_train, y_test = train_test_split(health[['Age','Blood Type_A+',\t'Blood Type_A-',\t'Blood Type_AB+',\t'Blood Type_AB-','Blood Type_B+',\t'Blood Type_B-',\t'Blood Type_O+',\t'Blood Type_O-',\t'Test Results_Abnormal',\t'Test Results_Inconclusive',\t'Test Results_Normal']], health['Billing_amount_OMR'], test_size=0.25)\n\nmodel = LinearRegression()\n\nmodel.fit(X_train, y_train)\n\ny_pred = model.predict(X_test)\n\nacc = r2_score(y_test, y_pred)\nprint(acc)\n\n\n\nfrom sklearn.tree import DecisionTreeRegressor\n\nmodel = DecisionTreeRegressor()\n\nmodel.fit(X_train, y_train)\n\ny_pred = model.predict(X_test)\n\nacc = r2_score(y_test, y_pred)\nprint(acc)\n",
      "metadata": {
        "colab": {
          "base_uri": "https://localhost:8080/"
        },
        "id": "avf6To_F-3VL",
        "outputId": "89101c44-e279-46d2-e7d7-ef3c113c9d47",
        "trusted": true
      },
      "outputs": [
        {
          "name": "stdout",
          "text": "-0.0020071627723883267\n",
          "output_type": "stream"
        },
        {
          "name": "stderr",
          "text": "<ipython-input-246-1851eb3f3a8d>:23: FutureWarning: The default value of numeric_only in DataFrame.corr is deprecated. In a future version, it will default to False. Select only valid columns or specify the value of numeric_only to silence this warning.\n  corr_matrix = health.corr()\n",
          "output_type": "stream"
        },
        {
          "name": "stdout",
          "text": "-0.001492606562246701\n-0.2773305878182095\n",
          "output_type": "stream"
        }
      ],
      "execution_count": 246
    },
    {
      "id": "8266e71b-9583-4fd6-b302-f371187f65bc",
      "cell_type": "markdown",
      "source": "# Predictive Modeling:",
      "metadata": {
        "id": "8266e71b-9583-4fd6-b302-f371187f65bc"
      }
    },
    {
      "id": "6b5309e1-bdd3-45bb-beb3-4726bc69afc1",
      "cell_type": "markdown",
      "source": "Predictive Modeling: Students will use suitable machine learning algorithm to predict the values\n    for the output variable for new inputs. For this, students should divide the dataset into training and test sets,\ntrain their model on the training set, and validate the results on the test set.\nThey should also provide the accuracy of their model.\nStudents should explain the rationale behind selecting the machine learning algorithm and interpret the results obtained.\n",
      "metadata": {
        "id": "6b5309e1-bdd3-45bb-beb3-4726bc69afc1"
      }
    },
    {
      "id": "0869a8d6-9524-4452-ad58-6ad2fac067c7",
      "cell_type": "code",
      "source": "\n# Split the data into training and testing sets\nX_train, X_test, y_train, y_test = train_test_split(health[['Age','Room Number','Blood Type_A+',\t'Blood Type_A-',\t'Blood Type_AB+',\t'Blood Type_AB-','Blood Type_B+',\t'Blood Type_B-',\t'Blood Type_O+',\t'Blood Type_O-',\t'Test Results_Abnormal',\t'Test Results_Inconclusive',\t'Test Results_Normal']], health['Billing_amount_OMR'], test_size=0.25)\n\n# Create a linear regression model\nmodel = LinearRegression()\n\n# Fit the model to the training data\nmodel.fit(X_train, y_train)\n\n# Make predictions on the test data\ny_pred = model.predict(X_test)\n\n# Evaluate the model\nacc = r2_score(y_test, y_pred)\nprint(acc)\n\n\n\ncorr_matrix = health.corr()\ncorr_matrix['Billing_amount_OMR'].sort_values(ascending=False)\n\n# The most correlated features with the target variable are 'Age', 'Blood Type', and 'Test Results'.\n# Let's create a new model using these features.\n\nX_train, X_test, y_train, y_test = train_test_split(health[['Age','Blood Type_A+',\t'Blood Type_A-',\t'Blood Type_AB+',\t'Blood Type_AB-','Blood Type_B+',\t'Blood Type_B-',\t'Blood Type_O+',\t'Blood Type_O-',\t'Test Results_Abnormal',\t'Test Results_Inconclusive',\t'Test Results_Normal']], health['Billing_amount_OMR'], test_size=0.25)\n\nmodel = LinearRegression()\n\nmodel.fit(X_train, y_train)\n\ny_pred = model.predict(X_test)\n\nacc = r2_score(y_test, y_pred)\nprint(acc)\n\n\n\nmodel = DecisionTreeRegressor()\n\nmodel.fit(X_train, y_train)\n\ny_pred = model.predict(X_test)\n\nacc = r2_score(y_test, y_pred)\nprint(acc)\n\n\n",
      "metadata": {
        "colab": {
          "base_uri": "https://localhost:8080/"
        },
        "id": "0869a8d6-9524-4452-ad58-6ad2fac067c7",
        "outputId": "a8b04ff0-f8c8-4fce-b58b-b25db056b32c",
        "trusted": true
      },
      "outputs": [
        {
          "name": "stdout",
          "text": "0.0003246771616836064\n",
          "output_type": "stream"
        },
        {
          "name": "stderr",
          "text": "<ipython-input-247-6dd7c65a672f>:19: FutureWarning: The default value of numeric_only in DataFrame.corr is deprecated. In a future version, it will default to False. Select only valid columns or specify the value of numeric_only to silence this warning.\n  corr_matrix = health.corr()\n",
          "output_type": "stream"
        },
        {
          "name": "stdout",
          "text": "-0.0021628233145774\n-0.30646024899590407\n",
          "output_type": "stream"
        }
      ],
      "execution_count": 247
    },
    {
      "id": "f70bbd3e-99b2-4201-a0af-3cda507e748d",
      "cell_type": "markdown",
      "source": "",
      "metadata": {
        "id": "f70bbd3e-99b2-4201-a0af-3cda507e748d"
      }
    },
    {
      "id": "2726449d-491a-4427-bb72-e1ed5b06bb53",
      "cell_type": "markdown",
      "source": "",
      "metadata": {
        "id": "2726449d-491a-4427-bb72-e1ed5b06bb53"
      }
    },
    {
      "id": "d04df396-43fd-44dd-a455-b9842f816ae8",
      "cell_type": "code",
      "source": "",
      "metadata": {
        "id": "d04df396-43fd-44dd-a455-b9842f816ae8",
        "trusted": true
      },
      "outputs": [],
      "execution_count": null
    }
  ]
}